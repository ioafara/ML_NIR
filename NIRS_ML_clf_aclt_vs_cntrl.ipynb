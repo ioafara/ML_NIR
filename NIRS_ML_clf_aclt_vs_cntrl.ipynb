{
 "cells": [
  {
   "cell_type": "markdown",
   "metadata": {},
   "source": [
    "## Classification of cartilage integrity based on NIR spectroscopy"
   ]
  },
  {
   "cell_type": "code",
   "execution_count": 1,
   "metadata": {},
   "outputs": [
    {
     "name": "stderr",
     "output_type": "stream",
     "text": [
      "Using TensorFlow backend.\n"
     ]
    },
    {
     "name": "stdout",
     "output_type": "stream",
     "text": [
      "\n",
      "Author: Isaac Afara, Ph.D.\n",
      "        Department of Applied Physics\n",
      "        University of Eastern Finland\n",
      "        Kuopio, Finland.   \n",
      "Date:   18th October, 2018\n",
      "Update: 4th December, 2018\n",
      "\n",
      "\n"
     ]
    }
   ],
   "source": [
    "'''\n",
    "Author: Isaac Afara, Ph.D.\n",
    "        Department of Applied Physics\n",
    "        University of Eastern Finland\n",
    "        Kuopio, Finland.   \n",
    "Date:   18th October, 2018\n",
    "Update: 4th December, 2018\n",
    "\n",
    "'''\n",
    "\n",
    "from __future__ import print_function\n",
    "\n",
    "# data analysis and wrangling\n",
    "import itertools\n",
    "import numpy as np\n",
    "from scipy.signal import savgol_filter\n",
    "import pandas as pd\n",
    "from time import time\n",
    "\n",
    "# visualization\n",
    "import matplotlib.pyplot as plt\n",
    "%matplotlib inline\n",
    "\n",
    "# machine learning\n",
    "from sklearn.model_selection import GridSearchCV\n",
    "from sklearn.metrics import classification_report, cohen_kappa_score, roc_auc_score\n",
    "from sklearn.metrics import confusion_matrix, f1_score \n",
    "from sklearn.preprocessing import StandardScaler\n",
    "from sklearn.decomposition import PCA\n",
    "from sklearn.pipeline import make_pipeline\n",
    "from sklearn.svm import SVC\n",
    "from sklearn import preprocessing\n",
    "from sklearn.ensemble import RandomForestClassifier\n",
    "from sklearn.linear_model import LogisticRegression\n",
    "\n",
    "# deep learning\n",
    "from keras.models import Sequential, load_model\n",
    "from keras.optimizers import Adam, SGD\n",
    "from keras.layers import Dense,Conv1D,LeakyReLU,Dropout,Flatten,Activation,Reshape,BatchNormalization\n",
    "from keras.utils import np_utils\n",
    "from keras.callbacks import EarlyStopping, ModelCheckpoint\n",
    "from keras.initializers import he_uniform\n",
    "from keras import backend as K\n",
    "\n",
    "\n",
    "# general\n",
    "import warnings\n",
    "warnings.filterwarnings('ignore')  \n",
    "\n",
    "\n",
    "print(__doc__)"
   ]
  },
  {
   "cell_type": "code",
   "execution_count": 2,
   "metadata": {},
   "outputs": [],
   "source": [
    "# Helper function for plotting confusion matrix\n",
    "\n",
    "def plot_confusion_matrix(cm, classes,\n",
    "                          normalize=False,\n",
    "                          title='Confusion matrix',\n",
    "                          cmap=plt.cm.Blues):\n",
    "    \"\"\"\n",
    "    This function prints and plots the confusion matrix.\n",
    "    Normalization can be applied by setting `normalize=True`.\n",
    "    \"\"\"\n",
    "    if normalize:\n",
    "        cm = cm.astype('float') / cm.sum(axis=1)[:, np.newaxis]\n",
    "        print(\"Normalized confusion matrix\")\n",
    "    else:\n",
    "        print('Confusion matrix, without normalization')\n",
    "\n",
    "    print(cm)\n",
    "\n",
    "    plt.imshow(cm, interpolation='nearest', cmap=cmap)\n",
    "    plt.title(title)\n",
    "    plt.colorbar()\n",
    "    tick_marks = np.arange(len(classes))\n",
    "    plt.xticks(tick_marks, classes, rotation=45)\n",
    "    plt.yticks(tick_marks, classes)\n",
    "\n",
    "    fmt = '.2f' if normalize else 'd'\n",
    "    thresh = cm.max() / 2.\n",
    "    for i, j in itertools.product(range(cm.shape[0]), range(cm.shape[1])):\n",
    "        plt.text(j, i, format(cm[i, j], fmt),\n",
    "                 horizontalalignment=\"center\",\n",
    "                 color=\"white\" if cm[i, j] > thresh else \"black\")\n",
    "\n",
    "    plt.ylabel('True label')\n",
    "    plt.xlabel('Predicted label')\n",
    "    plt.tight_layout()\n"
   ]
  },
  {
   "cell_type": "markdown",
   "metadata": {},
   "source": [
    "### Import dataset\n",
    "\n",
    "Import, prepare and visualize data"
   ]
  },
  {
   "cell_type": "code",
   "execution_count": 3,
   "metadata": {},
   "outputs": [
    {
     "name": "stdout",
     "output_type": "stream",
     "text": [
      "Size of data: (313, 246)\n"
     ]
    }
   ],
   "source": [
    "# Load dataset\n",
    "data = pd.read_csv('spectra/nir_data.csv')#'fullNIR.csv'\n",
    "\n",
    "print('Size of data:',data.shape)"
   ]
  },
  {
   "cell_type": "code",
   "execution_count": 4,
   "metadata": {},
   "outputs": [
    {
     "data": {
      "text/html": [
       "<div>\n",
       "<style scoped>\n",
       "    .dataframe tbody tr th:only-of-type {\n",
       "        vertical-align: middle;\n",
       "    }\n",
       "\n",
       "    .dataframe tbody tr th {\n",
       "        vertical-align: top;\n",
       "    }\n",
       "\n",
       "    .dataframe thead th {\n",
       "        text-align: right;\n",
       "    }\n",
       "</style>\n",
       "<table border=\"1\" class=\"dataframe\">\n",
       "  <thead>\n",
       "    <tr style=\"text-align: right;\">\n",
       "      <th></th>\n",
       "      <th>animals</th>\n",
       "      <th>integrity</th>\n",
       "      <th>943.05</th>\n",
       "      <th>949.6</th>\n",
       "      <th>956.15</th>\n",
       "      <th>962.7</th>\n",
       "      <th>969.25</th>\n",
       "      <th>975.8</th>\n",
       "      <th>982.35</th>\n",
       "      <th>988.89</th>\n",
       "      <th>...</th>\n",
       "      <th>2447</th>\n",
       "      <th>2453.3</th>\n",
       "      <th>2459.7</th>\n",
       "      <th>2466</th>\n",
       "      <th>2472.4</th>\n",
       "      <th>2478.7</th>\n",
       "      <th>2485.1</th>\n",
       "      <th>2491.4</th>\n",
       "      <th>2497.8</th>\n",
       "      <th>2504.1</th>\n",
       "    </tr>\n",
       "  </thead>\n",
       "  <tbody>\n",
       "    <tr>\n",
       "      <th>0</th>\n",
       "      <td>2ACL_M1</td>\n",
       "      <td>A</td>\n",
       "      <td>0.82626</td>\n",
       "      <td>0.80473</td>\n",
       "      <td>0.95486</td>\n",
       "      <td>1.0691</td>\n",
       "      <td>0.90253</td>\n",
       "      <td>1.0026</td>\n",
       "      <td>0.95292</td>\n",
       "      <td>1.0308</td>\n",
       "      <td>...</td>\n",
       "      <td>2.2142</td>\n",
       "      <td>2.9081</td>\n",
       "      <td>3.5259</td>\n",
       "      <td>1.5544</td>\n",
       "      <td>4.0</td>\n",
       "      <td>1.4224</td>\n",
       "      <td>4.0</td>\n",
       "      <td>4.0000</td>\n",
       "      <td>2.0955</td>\n",
       "      <td>4.0</td>\n",
       "    </tr>\n",
       "    <tr>\n",
       "      <th>1</th>\n",
       "      <td>2ACL_M1</td>\n",
       "      <td>A</td>\n",
       "      <td>1.15140</td>\n",
       "      <td>1.35400</td>\n",
       "      <td>1.26280</td>\n",
       "      <td>1.2574</td>\n",
       "      <td>0.96724</td>\n",
       "      <td>0.9738</td>\n",
       "      <td>1.14060</td>\n",
       "      <td>1.1324</td>\n",
       "      <td>...</td>\n",
       "      <td>1.5519</td>\n",
       "      <td>4.0000</td>\n",
       "      <td>3.2685</td>\n",
       "      <td>1.4490</td>\n",
       "      <td>4.0</td>\n",
       "      <td>2.2590</td>\n",
       "      <td>4.0</td>\n",
       "      <td>3.1079</td>\n",
       "      <td>3.1036</td>\n",
       "      <td>4.0</td>\n",
       "    </tr>\n",
       "    <tr>\n",
       "      <th>2</th>\n",
       "      <td>2ACL_M1</td>\n",
       "      <td>A</td>\n",
       "      <td>0.94335</td>\n",
       "      <td>1.01790</td>\n",
       "      <td>1.09350</td>\n",
       "      <td>1.1432</td>\n",
       "      <td>0.91946</td>\n",
       "      <td>1.0490</td>\n",
       "      <td>1.00390</td>\n",
       "      <td>1.1941</td>\n",
       "      <td>...</td>\n",
       "      <td>4.0000</td>\n",
       "      <td>4.0000</td>\n",
       "      <td>4.0000</td>\n",
       "      <td>1.3116</td>\n",
       "      <td>4.0</td>\n",
       "      <td>3.3926</td>\n",
       "      <td>4.0</td>\n",
       "      <td>4.0000</td>\n",
       "      <td>3.3799</td>\n",
       "      <td>4.0</td>\n",
       "    </tr>\n",
       "    <tr>\n",
       "      <th>3</th>\n",
       "      <td>2ACL_M1</td>\n",
       "      <td>A</td>\n",
       "      <td>0.74013</td>\n",
       "      <td>0.97118</td>\n",
       "      <td>1.04990</td>\n",
       "      <td>1.1016</td>\n",
       "      <td>0.87052</td>\n",
       "      <td>1.0221</td>\n",
       "      <td>1.06960</td>\n",
       "      <td>1.0621</td>\n",
       "      <td>...</td>\n",
       "      <td>3.4203</td>\n",
       "      <td>4.0000</td>\n",
       "      <td>2.8129</td>\n",
       "      <td>1.9655</td>\n",
       "      <td>4.0</td>\n",
       "      <td>3.0725</td>\n",
       "      <td>4.0</td>\n",
       "      <td>4.0000</td>\n",
       "      <td>4.0000</td>\n",
       "      <td>4.0</td>\n",
       "    </tr>\n",
       "    <tr>\n",
       "      <th>4</th>\n",
       "      <td>2ACL_M1</td>\n",
       "      <td>A</td>\n",
       "      <td>1.07810</td>\n",
       "      <td>1.12220</td>\n",
       "      <td>1.25060</td>\n",
       "      <td>1.3822</td>\n",
       "      <td>0.98677</td>\n",
       "      <td>1.1179</td>\n",
       "      <td>1.11730</td>\n",
       "      <td>1.0746</td>\n",
       "      <td>...</td>\n",
       "      <td>3.4618</td>\n",
       "      <td>3.4040</td>\n",
       "      <td>4.0000</td>\n",
       "      <td>2.7526</td>\n",
       "      <td>4.0</td>\n",
       "      <td>2.8342</td>\n",
       "      <td>4.0</td>\n",
       "      <td>4.0000</td>\n",
       "      <td>1.0453</td>\n",
       "      <td>4.0</td>\n",
       "    </tr>\n",
       "  </tbody>\n",
       "</table>\n",
       "<p>5 rows × 246 columns</p>\n",
       "</div>"
      ],
      "text/plain": [
       "   animals integrity   943.05    949.6   956.15   962.7   969.25   975.8  \\\n",
       "0  2ACL_M1         A  0.82626  0.80473  0.95486  1.0691  0.90253  1.0026   \n",
       "1  2ACL_M1         A  1.15140  1.35400  1.26280  1.2574  0.96724  0.9738   \n",
       "2  2ACL_M1         A  0.94335  1.01790  1.09350  1.1432  0.91946  1.0490   \n",
       "3  2ACL_M1         A  0.74013  0.97118  1.04990  1.1016  0.87052  1.0221   \n",
       "4  2ACL_M1         A  1.07810  1.12220  1.25060  1.3822  0.98677  1.1179   \n",
       "\n",
       "    982.35  988.89   ...      2447  2453.3  2459.7    2466  2472.4  2478.7  \\\n",
       "0  0.95292  1.0308   ...    2.2142  2.9081  3.5259  1.5544     4.0  1.4224   \n",
       "1  1.14060  1.1324   ...    1.5519  4.0000  3.2685  1.4490     4.0  2.2590   \n",
       "2  1.00390  1.1941   ...    4.0000  4.0000  4.0000  1.3116     4.0  3.3926   \n",
       "3  1.06960  1.0621   ...    3.4203  4.0000  2.8129  1.9655     4.0  3.0725   \n",
       "4  1.11730  1.0746   ...    3.4618  3.4040  4.0000  2.7526     4.0  2.8342   \n",
       "\n",
       "   2485.1  2491.4  2497.8  2504.1  \n",
       "0     4.0  4.0000  2.0955     4.0  \n",
       "1     4.0  3.1079  3.1036     4.0  \n",
       "2     4.0  4.0000  3.3799     4.0  \n",
       "3     4.0  4.0000  4.0000     4.0  \n",
       "4     4.0  4.0000  1.0453     4.0  \n",
       "\n",
       "[5 rows x 246 columns]"
      ]
     },
     "execution_count": 4,
     "metadata": {},
     "output_type": "execute_result"
    }
   ],
   "source": [
    "data.head()"
   ]
  },
  {
   "cell_type": "code",
   "execution_count": 4,
   "metadata": {},
   "outputs": [
    {
     "name": "stdout",
     "output_type": "stream",
     "text": [
      "There are: 45 unique animals, with the 1st and last animals ==>> 2ACL_M1 and 8C_M4_right .\n"
     ]
    }
   ],
   "source": [
    "# Extract animals as list\n",
    "names = data['animals'].unique().tolist() \n",
    "\n",
    "print('There are:',len(names),'unique animals, with the 1st and last animals ==>>', \n",
    "      names[0], 'and', names[-1],'.')"
   ]
  },
  {
   "cell_type": "code",
   "execution_count": 5,
   "metadata": {},
   "outputs": [
    {
     "data": {
      "text/html": [
       "<div>\n",
       "<style scoped>\n",
       "    .dataframe tbody tr th:only-of-type {\n",
       "        vertical-align: middle;\n",
       "    }\n",
       "\n",
       "    .dataframe tbody tr th {\n",
       "        vertical-align: top;\n",
       "    }\n",
       "\n",
       "    .dataframe thead th {\n",
       "        text-align: right;\n",
       "    }\n",
       "</style>\n",
       "<table border=\"1\" class=\"dataframe\">\n",
       "  <thead>\n",
       "    <tr style=\"text-align: right;\">\n",
       "      <th></th>\n",
       "      <th>0</th>\n",
       "    </tr>\n",
       "  </thead>\n",
       "  <tbody>\n",
       "    <tr>\n",
       "      <th>0</th>\n",
       "      <td>2ACL_M1</td>\n",
       "    </tr>\n",
       "    <tr>\n",
       "      <th>1</th>\n",
       "      <td>2ACL_M1_CL</td>\n",
       "    </tr>\n",
       "    <tr>\n",
       "      <th>2</th>\n",
       "      <td>2ACL_M2</td>\n",
       "    </tr>\n",
       "    <tr>\n",
       "      <th>3</th>\n",
       "      <td>2ACL_M2_CL</td>\n",
       "    </tr>\n",
       "    <tr>\n",
       "      <th>4</th>\n",
       "      <td>2ACL_M3</td>\n",
       "    </tr>\n",
       "    <tr>\n",
       "      <th>5</th>\n",
       "      <td>2ACL_M3_CL</td>\n",
       "    </tr>\n",
       "    <tr>\n",
       "      <th>6</th>\n",
       "      <td>2ACL_M4</td>\n",
       "    </tr>\n",
       "    <tr>\n",
       "      <th>7</th>\n",
       "      <td>2ACL_M4_CL</td>\n",
       "    </tr>\n",
       "    <tr>\n",
       "      <th>8</th>\n",
       "      <td>2ACL_M5</td>\n",
       "    </tr>\n",
       "    <tr>\n",
       "      <th>9</th>\n",
       "      <td>2ACL_M6</td>\n",
       "    </tr>\n",
       "    <tr>\n",
       "      <th>10</th>\n",
       "      <td>2ACL_M6_CL</td>\n",
       "    </tr>\n",
       "    <tr>\n",
       "      <th>11</th>\n",
       "      <td>2ACL_M7</td>\n",
       "    </tr>\n",
       "    <tr>\n",
       "      <th>12</th>\n",
       "      <td>2ACL_M7_CL</td>\n",
       "    </tr>\n",
       "    <tr>\n",
       "      <th>13</th>\n",
       "      <td>2ACL_M8</td>\n",
       "    </tr>\n",
       "    <tr>\n",
       "      <th>14</th>\n",
       "      <td>2ACL_M8_CL</td>\n",
       "    </tr>\n",
       "    <tr>\n",
       "      <th>15</th>\n",
       "      <td>2ACL_O5</td>\n",
       "    </tr>\n",
       "    <tr>\n",
       "      <th>16</th>\n",
       "      <td>2ACL_O5_CL</td>\n",
       "    </tr>\n",
       "    <tr>\n",
       "      <th>17</th>\n",
       "      <td>2C_M1</td>\n",
       "    </tr>\n",
       "    <tr>\n",
       "      <th>18</th>\n",
       "      <td>2C_M2</td>\n",
       "    </tr>\n",
       "    <tr>\n",
       "      <th>19</th>\n",
       "      <td>2C_M3</td>\n",
       "    </tr>\n",
       "    <tr>\n",
       "      <th>20</th>\n",
       "      <td>2C_M4</td>\n",
       "    </tr>\n",
       "    <tr>\n",
       "      <th>21</th>\n",
       "      <td>2C_M5</td>\n",
       "    </tr>\n",
       "    <tr>\n",
       "      <th>22</th>\n",
       "      <td>2C_M6</td>\n",
       "    </tr>\n",
       "    <tr>\n",
       "      <th>23</th>\n",
       "      <td>2C_M7</td>\n",
       "    </tr>\n",
       "    <tr>\n",
       "      <th>24</th>\n",
       "      <td>2C_M8</td>\n",
       "    </tr>\n",
       "    <tr>\n",
       "      <th>25</th>\n",
       "      <td>8ACL_M1</td>\n",
       "    </tr>\n",
       "    <tr>\n",
       "      <th>26</th>\n",
       "      <td>8ACL_M1_CL</td>\n",
       "    </tr>\n",
       "    <tr>\n",
       "      <th>27</th>\n",
       "      <td>8ACL_M2</td>\n",
       "    </tr>\n",
       "    <tr>\n",
       "      <th>28</th>\n",
       "      <td>8ACL_M2_CL</td>\n",
       "    </tr>\n",
       "    <tr>\n",
       "      <th>29</th>\n",
       "      <td>8ACL_M3</td>\n",
       "    </tr>\n",
       "    <tr>\n",
       "      <th>30</th>\n",
       "      <td>8ACL_M3_CL</td>\n",
       "    </tr>\n",
       "    <tr>\n",
       "      <th>31</th>\n",
       "      <td>8ACL_M6</td>\n",
       "    </tr>\n",
       "    <tr>\n",
       "      <th>32</th>\n",
       "      <td>8ACL_M6_CL</td>\n",
       "    </tr>\n",
       "    <tr>\n",
       "      <th>33</th>\n",
       "      <td>8ACL_M7</td>\n",
       "    </tr>\n",
       "    <tr>\n",
       "      <th>34</th>\n",
       "      <td>8ACL_M7_CL</td>\n",
       "    </tr>\n",
       "    <tr>\n",
       "      <th>35</th>\n",
       "      <td>8ACL_M8</td>\n",
       "    </tr>\n",
       "    <tr>\n",
       "      <th>36</th>\n",
       "      <td>8ACL_M8_CL</td>\n",
       "    </tr>\n",
       "    <tr>\n",
       "      <th>37</th>\n",
       "      <td>8C_M1_left</td>\n",
       "    </tr>\n",
       "    <tr>\n",
       "      <th>38</th>\n",
       "      <td>8C_M1_right</td>\n",
       "    </tr>\n",
       "    <tr>\n",
       "      <th>39</th>\n",
       "      <td>8C_M2 left</td>\n",
       "    </tr>\n",
       "    <tr>\n",
       "      <th>40</th>\n",
       "      <td>8C_M2 right</td>\n",
       "    </tr>\n",
       "    <tr>\n",
       "      <th>41</th>\n",
       "      <td>8C_M3 left</td>\n",
       "    </tr>\n",
       "    <tr>\n",
       "      <th>42</th>\n",
       "      <td>8C_M3 right</td>\n",
       "    </tr>\n",
       "    <tr>\n",
       "      <th>43</th>\n",
       "      <td>8C_M4_left</td>\n",
       "    </tr>\n",
       "    <tr>\n",
       "      <th>44</th>\n",
       "      <td>8C_M4_right</td>\n",
       "    </tr>\n",
       "  </tbody>\n",
       "</table>\n",
       "</div>"
      ],
      "text/plain": [
       "              0\n",
       "0       2ACL_M1\n",
       "1    2ACL_M1_CL\n",
       "2       2ACL_M2\n",
       "3    2ACL_M2_CL\n",
       "4       2ACL_M3\n",
       "5    2ACL_M3_CL\n",
       "6       2ACL_M4\n",
       "7    2ACL_M4_CL\n",
       "8       2ACL_M5\n",
       "9       2ACL_M6\n",
       "10   2ACL_M6_CL\n",
       "11      2ACL_M7\n",
       "12   2ACL_M7_CL\n",
       "13      2ACL_M8\n",
       "14   2ACL_M8_CL\n",
       "15      2ACL_O5\n",
       "16   2ACL_O5_CL\n",
       "17        2C_M1\n",
       "18        2C_M2\n",
       "19        2C_M3\n",
       "20        2C_M4\n",
       "21        2C_M5\n",
       "22        2C_M6\n",
       "23        2C_M7\n",
       "24        2C_M8\n",
       "25      8ACL_M1\n",
       "26   8ACL_M1_CL\n",
       "27      8ACL_M2\n",
       "28   8ACL_M2_CL\n",
       "29      8ACL_M3\n",
       "30   8ACL_M3_CL\n",
       "31      8ACL_M6\n",
       "32   8ACL_M6_CL\n",
       "33      8ACL_M7\n",
       "34   8ACL_M7_CL\n",
       "35      8ACL_M8\n",
       "36   8ACL_M8_CL\n",
       "37   8C_M1_left\n",
       "38  8C_M1_right\n",
       "39   8C_M2 left\n",
       "40  8C_M2 right\n",
       "41   8C_M3 left\n",
       "42  8C_M3 right\n",
       "43   8C_M4_left\n",
       "44  8C_M4_right"
      ]
     },
     "execution_count": 5,
     "metadata": {},
     "output_type": "execute_result"
    }
   ],
   "source": [
    "names = pd.DataFrame(data=names)\n",
    "names"
   ]
  },
  {
   "cell_type": "code",
   "execution_count": null,
   "metadata": {},
   "outputs": [],
   "source": [
    "data['sampleClass'] = ''\n",
    "for i in range(data.shape[0]):\n",
    "    \n",
    "    if data.integrity[i] == 1:\n",
    "        data.sampleClass[i] = 'N'\n",
    "        \n",
    "    elif data.integrity[i] == 2:\n",
    "        data.sampleClass[i] = 'C'\n",
    "    \n",
    "    else:\n",
    "        data.sampleClass[i] = 'A'"
   ]
  },
  {
   "cell_type": "markdown",
   "metadata": {},
   "source": [
    "### Sample groups in list\n",
    "\n",
    "List indices for the following samples (**Note: deduct 1 to index**): \n",
    "\n",
    "|Sample      |   indices|\n",
    "|------------|-----------|\n",
    "|2 weeks ACLT (a2) | 1,3,5,7,9,10,12,14,16|\n",
    "|2 weeks CL (c2)   | 2,4,6,8,11,13,15,17|\n",
    "|2 weeks CNTRL (n2)| 18,19,20,21,22,23,24,25|\n",
    "                 |                       |\n",
    "|8 weeks ACLT (a8)| 26,28,30,32,34,36|\n",
    "|8 weeks CL (c8)| 27,29,31,33,35,37|\n",
    "|8 weeks CNTRL (n8)| 38,39,40,41,42,43,44,45|"
   ]
  },
  {
   "cell_type": "code",
   "execution_count": 6,
   "metadata": {},
   "outputs": [],
   "source": [
    "# Split data by animals\n",
    "data_grouped = dict(tuple(data.groupby('animals')))\n",
    "\n",
    "list_data_grouped = [data_grouped[x] for x in data_grouped]"
   ]
  },
  {
   "cell_type": "markdown",
   "metadata": {},
   "source": [
    "### Aim 1: Can we distinguish between ACLT and CNTRL samples based solely on NIR spectra\n",
    "\n",
    "Here, we investigate the capacity of NIR spectroscopy to distinguish between ACLT and CNTRL samples. The samples are divided into training (80%) and test (20%) animals."
   ]
  },
  {
   "cell_type": "code",
   "execution_count": 7,
   "metadata": {},
   "outputs": [],
   "source": [
    "# Divide data into training and test animals by list indices\n",
    "# Training animals\n",
    "#ACLT\n",
    "train_idx_a2 = [1,3,5,7,12,14,16]\n",
    "train_idx_a8 = [28,30,32,34,36]\n",
    "\n",
    "# CNTRL\n",
    "train_idx_n2 = [18,19,20,21,22,23,25]\n",
    "train_idx_n8 = [38,39,40,41,42,43]\n",
    "\n",
    "# Test animals\n",
    "#ACLT\n",
    "test_idx_a2 = [9,10]\n",
    "test_idx_a8 = [26] \n",
    "\n",
    "# CNTRL\n",
    "test_idx_n2 = [24] \n",
    "test_idx_n8 = [44,45] "
   ]
  },
  {
   "cell_type": "code",
   "execution_count": 8,
   "metadata": {},
   "outputs": [],
   "source": [
    "# Concatenate data from the samples\n",
    "\n",
    "train_a2 = pd.DataFrame(columns=data.columns)\n",
    "for x in train_idx_a2:\n",
    "    train_a2 = train_a2.append(list_data_grouped[x-1], ignore_index=True)\n",
    "            \n",
    "train_a8 = pd.DataFrame(columns=data.columns)\n",
    "for x in train_idx_a8:\n",
    "    train_a8 = train_a8.append(list_data_grouped[x-1], ignore_index=True)   \n",
    "    \n",
    "    \n",
    "train_n2 = pd.DataFrame(columns=data.columns)\n",
    "for x in train_idx_n2:\n",
    "    train_n2 = train_n2.append(list_data_grouped[x-1], ignore_index=True)\n",
    "\n",
    "train_n8 = pd.DataFrame(columns=data.columns)\n",
    "for x in train_idx_n8:\n",
    "    train_n8 = train_n8.append(list_data_grouped[x-1], ignore_index=True)\n",
    "\n",
    "    \n",
    "    \n",
    "test_a2 = pd.DataFrame(columns=data.columns)\n",
    "for x in test_idx_a2:\n",
    "    test_a2 = test_a2.append(list_data_grouped[x-1], ignore_index=True)\n",
    "\n",
    "test_a8 = pd.DataFrame(columns=data.columns)\n",
    "for x in test_idx_a8:\n",
    "    test_a8 = test_a8.append(list_data_grouped[x-1], ignore_index=True)\n",
    "    \n",
    "    \n",
    "test_n2 = pd.DataFrame(columns=data.columns)\n",
    "for x in test_idx_n2:\n",
    "    test_n2 = test_n2.append(list_data_grouped[x-1], ignore_index=True)\n",
    "\n",
    "test_n8 = pd.DataFrame(columns=data.columns)\n",
    "for x in test_idx_n8:\n",
    "    test_n8 = test_n8.append(list_data_grouped[x-1], ignore_index=True)"
   ]
  },
  {
   "cell_type": "code",
   "execution_count": 9,
   "metadata": {},
   "outputs": [
    {
     "name": "stdout",
     "output_type": "stream",
     "text": [
      "Sizes of 2 and 8 weeks ACLT training samples ==>> (49, 246) and (35, 246)\n",
      "Sizes of 2 and 8 weeks CNTRL training samples ==>> (47, 246) and (42, 246)\n",
      "Sizes of 2 and 8 weeks ACLT test samples ==>> (14, 246) and (7, 246)\n",
      "Sizes of 2 and 8 weeks CNTRL test samples ==>> (7, 246) and (15, 246)\n"
     ]
    }
   ],
   "source": [
    "print('Sizes of 2 and 8 weeks ACLT training samples ==>>',train_a2.shape,'and',train_a8.shape)\n",
    "print('Sizes of 2 and 8 weeks CNTRL training samples ==>>',train_n2.shape,'and',train_n8.shape)\n",
    "print('Sizes of 2 and 8 weeks ACLT test samples ==>>',test_a2.shape,'and',test_a8.shape)\n",
    "print('Sizes of 2 and 8 weeks CNTRL test samples ==>>',test_n2.shape,'and',test_n8.shape)"
   ]
  },
  {
   "cell_type": "code",
   "execution_count": 10,
   "metadata": {},
   "outputs": [
    {
     "name": "stdout",
     "output_type": "stream",
     "text": [
      "Size of training sets: (173, 246)\n",
      "Size of test sets: (43, 246)\n"
     ]
    }
   ],
   "source": [
    "# Combine training and test samples for different comparison groups\n",
    "\n",
    "train = pd.concat([train_a2,train_a8,train_n2,train_n8],axis=0,ignore_index=True)\n",
    "test = pd.concat([test_a2,test_a8,test_n2,test_n8],axis=0,ignore_index=True)\n",
    "\n",
    "\n",
    "print('Size of training sets:',train.shape)\n",
    "print('Size of test sets:',test.shape)\n"
   ]
  },
  {
   "cell_type": "code",
   "execution_count": 11,
   "metadata": {},
   "outputs": [
    {
     "name": "stdout",
     "output_type": "stream",
     "text": [
      "Training feature and label dimension ACLT_CNTRL==>> (173, 244) (173,)\n"
     ]
    }
   ],
   "source": [
    "# Extract spectra and labels\n",
    "\n",
    "X_train = train.drop(['animals','integrity'], axis=1)\n",
    "X_test = test.drop(['animals','integrity'], axis=1)\n",
    "\n",
    "y_train = train['integrity']\n",
    "y_test = test['integrity']\n",
    "\n",
    "\n",
    "print('Training feature and label dimension ACLT_CNTRL==>>',X_train.shape, y_train.shape)"
   ]
  },
  {
   "cell_type": "code",
   "execution_count": 12,
   "metadata": {},
   "outputs": [
    {
     "data": {
      "text/plain": [
       "(244,)"
      ]
     },
     "execution_count": 12,
     "metadata": {},
     "output_type": "execute_result"
    }
   ],
   "source": [
    "# Create feature list (i.e., column names)\n",
    "\n",
    "wavelength = X_train.columns\n",
    "\n",
    "# Convert list to numpy array: necessary for data visualization\n",
    "wave = []\n",
    "for x in range(len(wavelength)):\n",
    "    wave.append(float(wavelength[x]))\n",
    "    \n",
    "wave = np.array(wave, dtype=float)  \n",
    "wave.shape\n"
   ]
  },
  {
   "cell_type": "code",
   "execution_count": null,
   "metadata": {},
   "outputs": [],
   "source": [
    "# Let's visualize some spectra\n",
    "num_plots = 15\n",
    "train_features = train_features.values\n",
    "test_features = test_features.values\n",
    "\n",
    "for x in range(num_plots):\n",
    "    plt.plot(wave,train_features[x,:],'r')\n",
    "    \n",
    "for x in range(num_plots):\n",
    "    plt.plot(wave,test_features[x,:],'b')\n",
    "    \n",
    "plt.xlabel('Wavelength (nm)')\n",
    "plt.ylabel('Absorbance (AU)')\n",
    "plt.title('Spectral plots of some training and test rabbit samples')\n",
    "plt.show()\n"
   ]
  },
  {
   "cell_type": "code",
   "execution_count": 13,
   "metadata": {},
   "outputs": [
    {
     "data": {
      "text/plain": [
       "(173, 244)"
      ]
     },
     "execution_count": 13,
     "metadata": {},
     "output_type": "execute_result"
    }
   ],
   "source": [
    "'''\n",
    "Let's apply some smoothing filter of:\n",
    "    - window_length = 9 \n",
    "    - polynomial_degree = 2 \n",
    "    - Use the defaults for all other parameters.\n",
    "'''\n",
    "\n",
    "X_train_sm = savgol_filter(X_train, 9, 2, deriv=0, axis=0)\n",
    "X_test_sm = savgol_filter(X_test, 9, 2, deriv=0, axis=0)\n",
    "\n",
    "X_train_d1 = savgol_filter(X_train, 9, 2, deriv=1, axis=0)\n",
    "X_test_d1 = savgol_filter(X_test, 9, 2, deriv=1, axis=0)\n",
    "\n",
    "X_train_sm.shape"
   ]
  },
  {
   "cell_type": "code",
   "execution_count": null,
   "metadata": {},
   "outputs": [],
   "source": [
    "# Let's visualize the smoothed spectra\n",
    "num_plots = 15\n",
    "\n",
    "for x in range(num_plots):\n",
    "    plt.plot(wave,train_features_sm[x,:],'r')\n",
    "    \n",
    "for x in range(num_plots):\n",
    "    plt.plot(wave,test_features_sm[x,:],'b')\n",
    "    \n",
    "plt.xlabel('Wavelength (nm)')\n",
    "plt.ylabel('Absorbance (AU)')\n",
    "plt.title('Smoothed spectral plots of some training and test rabbit samples')\n",
    "plt.show()"
   ]
  },
  {
   "cell_type": "code",
   "execution_count": 14,
   "metadata": {},
   "outputs": [
    {
     "name": "stdout",
     "output_type": "stream",
     "text": [
      "8 148\n",
      "(173, 140) (173, 140)\n"
     ]
    }
   ],
   "source": [
    "# Trim spectra: 1000 - 1900 nm\n",
    "a = np.where(wave == 995.43) \n",
    "b = np.where(wave == 1899.5)\n",
    "print(a[0][0], b[0][0])\n",
    "\n",
    "X_train_sm = X_train_sm[:,a[0][0]:b[0][0]]\n",
    "X_test_sm = X_test_sm[:,a[0][0]:b[0][0]]\n",
    "\n",
    "X_train_d1 = X_train_d1[:,a[0][0]:b[0][0]]\n",
    "X_test_d1 = X_test_d1[:,a[0][0]:b[0][0]]\n",
    "\n",
    "wave_trim = wave[a[0][0]:b[0][0]]\n",
    "\n",
    "print(X_train_sm.shape, X_train_d1.shape)"
   ]
  },
  {
   "cell_type": "code",
   "execution_count": null,
   "metadata": {},
   "outputs": [],
   "source": [
    "# Let's visualize the trimmed spectra\n",
    "num_plots = 35\n",
    "\n",
    "for x in range(num_plots):\n",
    "    plt.plot(wave_trim,X_train_sm[x,:],'r')\n",
    "    \n",
    "for x in range(num_plots):\n",
    "    plt.plot(wave_trim,X_test_sm[x,:],'b')\n",
    "    \n",
    "plt.xlim(right=1900, left=1000)\n",
    "plt.ylim(top=4, bottom=0.5)\n",
    "plt.xlabel('Wavelength (nm)')\n",
    "plt.ylabel('Absorbance (AU)')\n",
    "plt.title('Spectral plots of some training and test rabbit samples')\n",
    "plt.show()"
   ]
  },
  {
   "cell_type": "code",
   "execution_count": 15,
   "metadata": {},
   "outputs": [
    {
     "name": "stdout",
     "output_type": "stream",
     "text": [
      "label classes ==>> ['A' 'N']\n"
     ]
    },
    {
     "data": {
      "text/plain": [
       "array([0, 0, 0, 0, 0, 0, 0, 0, 0, 0, 0, 0, 0, 0, 0, 0, 0, 0, 0, 0, 0, 1,\n",
       "       1, 1, 1, 1, 1, 1, 1, 1, 1, 1, 1, 1, 1, 1, 1, 1, 1, 1, 1, 1, 1])"
      ]
     },
     "execution_count": 15,
     "metadata": {},
     "output_type": "execute_result"
    }
   ],
   "source": [
    "# Convert test labels into array for modeling\n",
    "\n",
    "le = preprocessing.LabelEncoder()\n",
    "le.fit(y_train)\n",
    "print('label classes ==>>',le.classes_)\n",
    "\n",
    "y_train_label = le.transform(y_train)\n",
    "y_test_label = le.transform(y_test)\n",
    "\n",
    "y_test_label\n"
   ]
  },
  {
   "cell_type": "markdown",
   "metadata": {},
   "source": [
    "## Create Classification Models\n",
    "\n",
    "The following algorithms will be used to develop models for classification of ACLT and CNTRL cartilage samples from their NIR spectra. The models' their hyper-parameters will be tuned using with GridSearchCV.\n",
    "\n",
    "- Support Vector Classifier \n",
    "    1. With smoothed features\n",
    "    2. With dimension-reduced latent variables\n",
    " \n",
    " \n",
    "- Logistic Regression\n",
    "\n",
    "\n",
    "- Deep Learning Classifier\n",
    "\n",
    "    "
   ]
  },
  {
   "cell_type": "markdown",
   "metadata": {},
   "source": [
    "## 1. Support Vector Classification"
   ]
  },
  {
   "cell_type": "code",
   "execution_count": 20,
   "metadata": {},
   "outputs": [
    {
     "name": "stdout",
     "output_type": "stream",
     "text": [
      "# Tuning hyper-parameters for precision\n",
      "\n",
      "Best parameters set found on development set:\n",
      "\n",
      "{'C': 10, 'kernel': 'linear'}\n",
      "\n",
      "Grid scores on development set:\n",
      "\n",
      "0.257 (+/-0.000) for {'C': 1, 'gamma': 0.001, 'kernel': 'rbf'}\n",
      "0.257 (+/-0.000) for {'C': 1, 'gamma': 0.0001, 'kernel': 'rbf'}\n",
      "0.362 (+/-0.414) for {'C': 10, 'gamma': 0.001, 'kernel': 'rbf'}\n",
      "0.257 (+/-0.000) for {'C': 10, 'gamma': 0.0001, 'kernel': 'rbf'}\n",
      "0.476 (+/-0.439) for {'C': 100, 'gamma': 0.001, 'kernel': 'rbf'}\n",
      "0.362 (+/-0.414) for {'C': 100, 'gamma': 0.0001, 'kernel': 'rbf'}\n",
      "0.528 (+/-0.413) for {'C': 1000, 'gamma': 0.001, 'kernel': 'rbf'}\n",
      "0.476 (+/-0.439) for {'C': 1000, 'gamma': 0.0001, 'kernel': 'rbf'}\n",
      "0.487 (+/-0.434) for {'C': 1, 'kernel': 'linear'}\n",
      "0.663 (+/-0.327) for {'C': 10, 'kernel': 'linear'}\n",
      "0.637 (+/-0.332) for {'C': 20, 'kernel': 'linear'}\n",
      "0.613 (+/-0.255) for {'C': 100, 'kernel': 'linear'}\n",
      "0.257 (+/-0.000) for {'C': 1, 'kernel': 'sigmoid'}\n",
      "0.257 (+/-0.000) for {'C': 10, 'kernel': 'sigmoid'}\n",
      "0.326 (+/-0.284) for {'C': 100, 'kernel': 'sigmoid'}\n",
      "0.528 (+/-0.214) for {'C': 1000, 'kernel': 'sigmoid'}\n",
      "\n",
      "Detailed classification report:\n",
      "\n",
      "The model is trained on the full development set.\n",
      "The scores are computed on the full evaluation set.\n",
      "\n",
      "              precision    recall  f1-score   support\n",
      "\n",
      "        ACLT       0.99      0.99      0.99        84\n",
      "       CNTRL       0.99      0.99      0.99        89\n",
      "\n",
      "   micro avg       0.99      0.99      0.99       173\n",
      "   macro avg       0.99      0.99      0.99       173\n",
      "weighted avg       0.99      0.99      0.99       173\n",
      "\n",
      "Confusion matrix, without normalization\n",
      "[[83  1]\n",
      " [ 1 88]]\n"
     ]
    },
    {
     "data": {
      "image/png": "[encoded data removed]",
      "text/plain": [
       "<Figure size 432x288 with 2 Axes>"
      ]
     },
     "metadata": {
      "needs_background": "light"
     },
     "output_type": "display_data"
    },
    {
     "name": "stdout",
     "output_type": "stream",
     "text": [
      "\n",
      "# Tuning hyper-parameters for recall\n",
      "\n",
      "Best parameters set found on development set:\n",
      "\n",
      "{'C': 10, 'kernel': 'linear'}\n",
      "\n",
      "Grid scores on development set:\n",
      "\n",
      "0.500 (+/-0.000) for {'C': 1, 'gamma': 0.001, 'kernel': 'rbf'}\n",
      "0.500 (+/-0.000) for {'C': 1, 'gamma': 0.0001, 'kernel': 'rbf'}\n",
      "0.512 (+/-0.047) for {'C': 10, 'gamma': 0.001, 'kernel': 'rbf'}\n",
      "0.500 (+/-0.000) for {'C': 10, 'gamma': 0.0001, 'kernel': 'rbf'}\n",
      "0.519 (+/-0.295) for {'C': 100, 'gamma': 0.001, 'kernel': 'rbf'}\n",
      "0.512 (+/-0.047) for {'C': 100, 'gamma': 0.0001, 'kernel': 'rbf'}\n",
      "0.524 (+/-0.374) for {'C': 1000, 'gamma': 0.001, 'kernel': 'rbf'}\n",
      "0.519 (+/-0.295) for {'C': 1000, 'gamma': 0.0001, 'kernel': 'rbf'}\n",
      "0.489 (+/-0.378) for {'C': 1, 'kernel': 'linear'}\n",
      "0.630 (+/-0.292) for {'C': 10, 'kernel': 'linear'}\n",
      "0.607 (+/-0.287) for {'C': 20, 'kernel': 'linear'}\n",
      "0.601 (+/-0.249) for {'C': 100, 'kernel': 'linear'}\n",
      "0.500 (+/-0.000) for {'C': 1, 'kernel': 'sigmoid'}\n",
      "0.500 (+/-0.000) for {'C': 10, 'kernel': 'sigmoid'}\n",
      "0.521 (+/-0.087) for {'C': 100, 'kernel': 'sigmoid'}\n",
      "0.511 (+/-0.152) for {'C': 1000, 'kernel': 'sigmoid'}\n",
      "\n",
      "Detailed classification report:\n",
      "\n",
      "The model is trained on the full development set.\n",
      "The scores are computed on the full evaluation set.\n",
      "\n",
      "              precision    recall  f1-score   support\n",
      "\n",
      "        ACLT       0.99      0.99      0.99        84\n",
      "       CNTRL       0.99      0.99      0.99        89\n",
      "\n",
      "   micro avg       0.99      0.99      0.99       173\n",
      "   macro avg       0.99      0.99      0.99       173\n",
      "weighted avg       0.99      0.99      0.99       173\n",
      "\n",
      "Confusion matrix, without normalization\n",
      "[[83  1]\n",
      " [ 1 88]]\n"
     ]
    },
    {
     "data": {
      "image/png": "[encoded data removed]",
      "text/plain": [
       "<Figure size 432x288 with 2 Axes>"
      ]
     },
     "metadata": {
      "needs_background": "light"
     },
     "output_type": "display_data"
    },
    {
     "name": "stdout",
     "output_type": "stream",
     "text": [
      "\n"
     ]
    }
   ],
   "source": [
    "'''\n",
    "Support Vector Classification with GridSearch \n",
    "Parameters will be set by cross-validation (GridSearchCV)\n",
    ": Training features = smoothed spectra\n",
    "''' \n",
    "\n",
    "tuned_parameters = [\n",
    "    {'kernel': ['rbf'], 'gamma': [1e-3, 1e-4],'C': [1, 10, 100, 1000]},\n",
    "    {'kernel': ['linear'], 'C': [1, 10, 20,100]},\n",
    "    {'kernel': ['sigmoid'], 'C': [1, 10, 100, 1000]}\n",
    "    ]\n",
    "\n",
    "scores = ['precision', 'recall']\n",
    "classes = ['ACLT', 'CNTRL']\n",
    "\n",
    "for score in scores:\n",
    "    print(\"# Tuning hyper-parameters for %s\" % score)\n",
    "    print()\n",
    "\n",
    "    clf = GridSearchCV(SVC(), tuned_parameters, cv=5,\n",
    "                       scoring='%s_macro' % score)\n",
    "    clf.fit(X_train_sm, y_train_label)\n",
    "\n",
    "    print(\"Best parameters set found on development set:\")\n",
    "    print()\n",
    "    print(clf.best_params_)\n",
    "    print()\n",
    "    print(\"Grid scores on development set:\")\n",
    "    print()\n",
    "    \n",
    "    means = clf.cv_results_['mean_test_score']\n",
    "    stds = clf.cv_results_['std_test_score']\n",
    "    \n",
    "    for mean, std, params in zip(means, stds, clf.cv_results_['params']):\n",
    "        print(\"%0.3f (+/-%0.03f) for %r\"\n",
    "              % (mean, std * 2, params))\n",
    "    print()\n",
    "\n",
    "    print(\"Detailed classification report:\")\n",
    "    print()\n",
    "    print(\"The model is trained on the full development set.\")\n",
    "    print(\"The scores are computed on the full evaluation set.\")\n",
    "    print()\n",
    "    \n",
    "    # evaluate model on same training set\n",
    "    y_true, y_pred = y_train_label, clf.predict(X_train_sm)\n",
    "    \n",
    "    print(classification_report(y_true, y_pred,target_names = classes))\n",
    "    cm = confusion_matrix(y_true, y_pred)\n",
    "    # Plot non-normalized confusion matrix\n",
    "    plt.figure()\n",
    "    plot_confusion_matrix(cm, classes=classes,# normalize=True\n",
    "                          title='CM of model estimation on training data')\n",
    "    plt.show()\n",
    "    print()\n",
    "    "
   ]
  },
  {
   "cell_type": "code",
   "execution_count": 21,
   "metadata": {},
   "outputs": [
    {
     "name": "stdout",
     "output_type": "stream",
     "text": [
      "ROC_AUC = 0.99 \n"
     ]
    }
   ],
   "source": [
    "# Build model using optimal parameters\n",
    "clf = SVC(C=10,kernel='linear')\n",
    "clf.fit(X_train_sm, y_train_label)\n",
    "\n",
    "# evaluate model on same training set\n",
    "y_true, y_pred = y_train_label, clf.predict(X_train_sm)\n",
    "y_true = pd.DataFrame(data=y_true)\n",
    "y_pred = pd.DataFrame(data=y_pred)\n",
    "svm_calib_output = pd.concat([y_true, y_pred], axis=1)\n",
    "#svm_calib_output.head(3)\n",
    "#export 'svm_calib_output_cl-cntrl' to csv\n",
    "print('ROC_AUC = %.2f ' %(roc_auc_score(y_train_label, y_pred)))"
   ]
  },
  {
   "cell_type": "code",
   "execution_count": 22,
   "metadata": {},
   "outputs": [
    {
     "name": "stdout",
     "output_type": "stream",
     "text": [
      "              precision    recall  f1-score   support\n",
      "\n",
      "        ACLT       0.95      0.90      0.93        21\n",
      "       CNTRL       0.91      0.95      0.93        22\n",
      "\n",
      "   micro avg       0.93      0.93      0.93        43\n",
      "   macro avg       0.93      0.93      0.93        43\n",
      "weighted avg       0.93      0.93      0.93        43\n",
      "\n",
      "Confusion matrix, without normalization\n",
      "[[19  2]\n",
      " [ 1 21]]\n"
     ]
    },
    {
     "data": {
      "image/png": "[encoded data removed]",
      "text/plain": [
       "<Figure size 432x288 with 2 Axes>"
      ]
     },
     "metadata": {
      "needs_background": "light"
     },
     "output_type": "display_data"
    },
    {
     "name": "stdout",
     "output_type": "stream",
     "text": [
      "ROC_AUC = 0.93, kappa = 0.86\n"
     ]
    }
   ],
   "source": [
    "# evaluate model on test set\n",
    "y_true, y_pred = y_test_label, clf.predict(X_test_sm)\n",
    "print(classification_report(y_true, y_pred,target_names = classes))\n",
    "    \n",
    "cm = confusion_matrix(y_true, y_pred)\n",
    "fig = plt.figure()\n",
    "plot_confusion_matrix(cm, classes=classes,# normalize=True\n",
    "                      title='CM of SVM model: smoothed test spectra')\n",
    "plt.show()\n",
    "fig.savefig('figs/CM_svm_aclt-cntrl_9_2_sm.eps', format='eps', dpi=300)\n",
    "\n",
    "y_true = pd.DataFrame(data=y_true)\n",
    "y_pred = pd.DataFrame(data=y_pred)\n",
    "svm_test_output = pd.concat([y_true, y_pred], axis=1)\n",
    "#svm_test_output.head()\n",
    "#export 'svm_test_output_cl-cntrl' to csv\n",
    "print('ROC_AUC = %.2f, kappa = %.2f' %(roc_auc_score(y_test_label, y_pred), \n",
    "                                   cohen_kappa_score(y_test_label, y_pred)))"
   ]
  },
  {
   "cell_type": "code",
   "execution_count": null,
   "metadata": {},
   "outputs": [],
   "source": [
    "y_true, y_pred = y_test_label, clf.predict(X_test_sm)\n",
    "print(classification_report(y_true, y_pred,target_names = classes))"
   ]
  },
  {
   "cell_type": "markdown",
   "metadata": {},
   "source": [
    "### Visualize the most important spectral variables (features) to the classifier?"
   ]
  },
  {
   "cell_type": "code",
   "execution_count": 23,
   "metadata": {},
   "outputs": [],
   "source": [
    "coef = clf.coef_[0]\n",
    "#coef.shape\n",
    "coef_sc = coef/np.max(coef)"
   ]
  },
  {
   "cell_type": "code",
   "execution_count": 25,
   "metadata": {},
   "outputs": [
    {
     "data": {
      "image/png": "[encoded data removed]",
      "text/plain": [
       "<Figure size 432x288 with 1 Axes>"
      ]
     },
     "metadata": {
      "needs_background": "light"
     },
     "output_type": "display_data"
    }
   ],
   "source": [
    "fig = plt.figure()\n",
    "plt.plot(wave_trim,coef_sc)\n",
    "    \n",
    "plt.xlim(right=1900, left=1000)\n",
    "plt.xlabel('Wavelength (nm)')\n",
    "plt.ylabel('Feature Importance')\n",
    "plt.title('SVM Classifier Feature Importance')\n",
    "plt.show()\n",
    "\n",
    "fig.savefig('figs/FeatImp_svm_aclt-cntrl_9_2_sm.png', format='png', dpi=600)"
   ]
  },
  {
   "cell_type": "markdown",
   "metadata": {},
   "source": [
    "#### Using latent variables\n",
    " \n",
    "Latent variables, based on principal component analysis, will now be used instead of the actual variables"
   ]
  },
  {
   "cell_type": "code",
   "execution_count": 32,
   "metadata": {},
   "outputs": [
    {
     "name": "stdout",
     "output_type": "stream",
     "text": [
      "(519, 8) (129, 8)\n"
     ]
    }
   ],
   "source": [
    "# Fit to data and predict using pipelined scaling and PCA (with 8 components).\n",
    "std_clf = make_pipeline(StandardScaler(), PCA(n_components=8))\n",
    "std_clf.fit(X_train_sm)\n",
    "\n",
    "# Extract PCA from pipeline\n",
    "pca_std = std_clf.named_steps['pca']\n",
    "\n",
    "# 1st PCA axis (basically, loadings directions)\n",
    "#X_train_sm_ax = pca_std.components[0]\n",
    "#print('\\nPC 1 with scaling:\\n', X_train_sm_ax)\n",
    "\n",
    "# Scale and use PCA on train and test features \n",
    "scaler = std_clf.named_steps['standardscaler']\n",
    "X_train_sm_sc = pca_std.transform(scaler.transform(X_train_sm))\n",
    "X_test_sm_sc = pca_std.transform(scaler.transform(X_test_sm))\n",
    "\n",
    "print(X_train_sm_sc.shape, X_test_sm_sc.shape)"
   ]
  },
  {
   "cell_type": "code",
   "execution_count": 33,
   "metadata": {},
   "outputs": [
    {
     "name": "stdout",
     "output_type": "stream",
     "text": [
      "(8, 140)\n",
      "(519, 140)\n"
     ]
    },
    {
     "data": {
      "text/plain": [
       "array([0.79828422, 0.07553364, 0.04798209, 0.02315502, 0.00892979,\n",
       "       0.00559307, 0.00457832, 0.0033204 ])"
      ]
     },
     "execution_count": 33,
     "metadata": {},
     "output_type": "execute_result"
    }
   ],
   "source": [
    "print(pca_std.components_.shape)\n",
    "print(X_train_sm.shape)\n",
    "pca_std.explained_variance_ratio_\n"
   ]
  },
  {
   "cell_type": "code",
   "execution_count": 34,
   "metadata": {},
   "outputs": [
    {
     "name": "stdout",
     "output_type": "stream",
     "text": [
      "# Tuning hyper-parameters for precision\n",
      "\n",
      "Best parameters set found on development set:\n",
      "\n",
      "{'C': 1, 'kernel': 'linear'}\n",
      "\n",
      "Grid scores on development set:\n",
      "\n",
      "0.500 (+/-0.324) for {'C': 1, 'gamma': 0.001, 'kernel': 'rbf'}\n",
      "0.251 (+/-0.023) for {'C': 1, 'gamma': 0.0001, 'kernel': 'rbf'}\n",
      "0.555 (+/-0.206) for {'C': 10, 'gamma': 0.001, 'kernel': 'rbf'}\n",
      "0.513 (+/-0.321) for {'C': 10, 'gamma': 0.0001, 'kernel': 'rbf'}\n",
      "0.548 (+/-0.162) for {'C': 100, 'gamma': 0.001, 'kernel': 'rbf'}\n",
      "0.561 (+/-0.211) for {'C': 100, 'gamma': 0.0001, 'kernel': 'rbf'}\n",
      "0.548 (+/-0.103) for {'C': 1000, 'gamma': 0.001, 'kernel': 'rbf'}\n",
      "0.556 (+/-0.190) for {'C': 1000, 'gamma': 0.0001, 'kernel': 'rbf'}\n",
      "0.564 (+/-0.193) for {'C': 1, 'kernel': 'linear'}\n",
      "0.562 (+/-0.197) for {'C': 10, 'kernel': 'linear'}\n",
      "0.562 (+/-0.197) for {'C': 20, 'kernel': 'linear'}\n",
      "0.562 (+/-0.197) for {'C': 100, 'kernel': 'linear'}\n",
      "0.546 (+/-0.043) for {'C': 1, 'kernel': 'sigmoid'}\n",
      "0.545 (+/-0.061) for {'C': 10, 'kernel': 'sigmoid'}\n",
      "0.549 (+/-0.055) for {'C': 100, 'kernel': 'sigmoid'}\n",
      "0.549 (+/-0.055) for {'C': 1000, 'kernel': 'sigmoid'}\n",
      "\n",
      "Detailed classification report:\n",
      "\n",
      "The model is trained on the full development set.\n",
      "The scores are computed on the full evaluation set.\n",
      "\n",
      "              precision    recall  f1-score   support\n",
      "\n",
      "        ACLT       0.72      0.65      0.68       252\n",
      "       CNTRL       0.70      0.76      0.73       267\n",
      "\n",
      "   micro avg       0.71      0.71      0.71       519\n",
      "   macro avg       0.71      0.71      0.71       519\n",
      "weighted avg       0.71      0.71      0.71       519\n",
      "\n",
      "Confusion matrix, without normalization\n",
      "[[163  89]\n",
      " [ 63 204]]\n"
     ]
    },
    {
     "data": {
      "image/png": "[encoded data removed]",
      "text/plain": [
       "<Figure size 432x288 with 2 Axes>"
      ]
     },
     "metadata": {
      "needs_background": "light"
     },
     "output_type": "display_data"
    },
    {
     "name": "stdout",
     "output_type": "stream",
     "text": [
      "\n",
      "# Tuning hyper-parameters for recall\n",
      "\n",
      "Best parameters set found on development set:\n",
      "\n",
      "{'C': 10, 'gamma': 0.0001, 'kernel': 'rbf'}\n",
      "\n",
      "Grid scores on development set:\n",
      "\n",
      "0.547 (+/-0.217) for {'C': 1, 'gamma': 0.001, 'kernel': 'rbf'}\n",
      "0.479 (+/-0.082) for {'C': 1, 'gamma': 0.0001, 'kernel': 'rbf'}\n",
      "0.551 (+/-0.194) for {'C': 10, 'gamma': 0.001, 'kernel': 'rbf'}\n",
      "0.554 (+/-0.191) for {'C': 10, 'gamma': 0.0001, 'kernel': 'rbf'}\n",
      "0.547 (+/-0.159) for {'C': 100, 'gamma': 0.001, 'kernel': 'rbf'}\n",
      "0.551 (+/-0.180) for {'C': 100, 'gamma': 0.0001, 'kernel': 'rbf'}\n",
      "0.546 (+/-0.102) for {'C': 1000, 'gamma': 0.001, 'kernel': 'rbf'}\n",
      "0.547 (+/-0.163) for {'C': 1000, 'gamma': 0.0001, 'kernel': 'rbf'}\n",
      "0.553 (+/-0.169) for {'C': 1, 'kernel': 'linear'}\n",
      "0.551 (+/-0.173) for {'C': 10, 'kernel': 'linear'}\n",
      "0.551 (+/-0.173) for {'C': 20, 'kernel': 'linear'}\n",
      "0.551 (+/-0.173) for {'C': 100, 'kernel': 'linear'}\n",
      "0.545 (+/-0.043) for {'C': 1, 'kernel': 'sigmoid'}\n",
      "0.543 (+/-0.060) for {'C': 10, 'kernel': 'sigmoid'}\n",
      "0.547 (+/-0.054) for {'C': 100, 'kernel': 'sigmoid'}\n",
      "0.547 (+/-0.054) for {'C': 1000, 'kernel': 'sigmoid'}\n",
      "\n",
      "Detailed classification report:\n",
      "\n",
      "The model is trained on the full development set.\n",
      "The scores are computed on the full evaluation set.\n",
      "\n",
      "              precision    recall  f1-score   support\n",
      "\n",
      "        ACLT       0.70      0.50      0.58       252\n",
      "       CNTRL       0.63      0.80      0.70       267\n",
      "\n",
      "   micro avg       0.65      0.65      0.65       519\n",
      "   macro avg       0.66      0.65      0.64       519\n",
      "weighted avg       0.66      0.65      0.64       519\n",
      "\n",
      "Confusion matrix, without normalization\n",
      "[[125 127]\n",
      " [ 54 213]]\n"
     ]
    },
    {
     "data": {
      "image/png": "[encoded data removed]",
      "text/plain": [
       "<Figure size 432x288 with 2 Axes>"
      ]
     },
     "metadata": {
      "needs_background": "light"
     },
     "output_type": "display_data"
    },
    {
     "name": "stdout",
     "output_type": "stream",
     "text": [
      "\n"
     ]
    }
   ],
   "source": [
    "'''\n",
    "Support Vector Classification with GridSearch on latent variables based on \n",
    "PCA score with standardization.\n",
    "Parameters will be set by cross-validation (GridSearchCV)\n",
    "''' \n",
    "tuned_parameters = [\n",
    "    {'kernel': ['rbf'], 'gamma': [1e-3, 1e-4],'C': [1, 10, 100, 1000]},\n",
    "    {'kernel': ['linear'], 'C': [1, 10, 20,100]},\n",
    "    {'kernel': ['sigmoid'], 'C': [1, 10, 100, 1000]}\n",
    "    ]\n",
    "\n",
    "scores = ['precision', 'recall']\n",
    "classes = ['ACLT', 'CNTRL']\n",
    "\n",
    "for score in scores:\n",
    "    print(\"# Tuning hyper-parameters for %s\" % score)\n",
    "    print()\n",
    "\n",
    "    clf = GridSearchCV(SVC(), tuned_parameters, cv=5,\n",
    "                       scoring='%s_macro' % score)\n",
    "    clf.fit(X_train_sm_sc, y_train_label)\n",
    "\n",
    "    print(\"Best parameters set found on development set:\")\n",
    "    print()\n",
    "    print(clf.best_params_)\n",
    "    print()\n",
    "    print(\"Grid scores on development set:\")\n",
    "    print()\n",
    "    \n",
    "    means = clf.cv_results_['mean_test_score']\n",
    "    stds = clf.cv_results_['std_test_score']\n",
    "    \n",
    "    for mean, std, params in zip(means, stds, clf.cv_results_['params']):\n",
    "        print(\"%0.3f (+/-%0.03f) for %r\"\n",
    "              % (mean, std * 2, params))\n",
    "    print()\n",
    "\n",
    "    print(\"Detailed classification report:\")\n",
    "    print()\n",
    "    print(\"The model is trained on the full development set.\")\n",
    "    print(\"The scores are computed on the full evaluation set.\")\n",
    "    print()\n",
    "    # evaluate model on same training set\n",
    "    y_true, y_pred = y_train_label, clf.predict(X_train_sm_sc)\n",
    "    print(classification_report(y_true, y_pred,target_names = classes))\n",
    "    \n",
    "    cm = confusion_matrix(y_true, y_pred)\n",
    "    plt.figure()\n",
    "    plot_confusion_matrix(cm, classes=classes,# normalize=True\n",
    "                          title='CM of model estimation on training data')\n",
    "    plt.show()\n",
    "    print()\n"
   ]
  },
  {
   "cell_type": "code",
   "execution_count": 35,
   "metadata": {},
   "outputs": [
    {
     "name": "stdout",
     "output_type": "stream",
     "text": [
      "ROC_AUC = 0.65 \n"
     ]
    }
   ],
   "source": [
    "\n",
    "# Build model using optimal parameters\n",
    "clf = SVC(C=10, gamma=0.0001, kernel='rbf') #SVC(C=1, kernel='linear')#\n",
    "clf.fit(X_train_sm_sc, y_train_label)\n",
    "\n",
    "# evaluate model on same training set\n",
    "y_true, y_pred = y_train_label, clf.predict(X_train_sm_sc)\n",
    "y_true = pd.DataFrame(data=y_true)\n",
    "y_pred = pd.DataFrame(data=y_pred)\n",
    "svm_calib_output = pd.concat([y_true, y_pred], axis=1)\n",
    "#svm_calib_output.head(3)\n",
    "#export 'svm_calib_output_cl-cntrl' to csv\n",
    "print('ROC_AUC = %.2f ' %(roc_auc_score(y_train_label, y_pred)))"
   ]
  },
  {
   "cell_type": "markdown",
   "metadata": {},
   "source": [
    "SV Classifier is apparently not doing well with latent variables."
   ]
  },
  {
   "cell_type": "markdown",
   "metadata": {},
   "source": [
    "## 2. Logistic Regression"
   ]
  },
  {
   "cell_type": "code",
   "execution_count": 115,
   "metadata": {},
   "outputs": [
    {
     "name": "stdout",
     "output_type": "stream",
     "text": [
      "# Tuning hyper-parameters for precision\n",
      "\n",
      "Best parameters set found on development set:\n",
      "\n",
      "{'C': 1000, 'penalty': 'l2'}\n",
      "\n",
      "Grid scores on development set:\n",
      "\n",
      "0.243 (+/-0.000) for {'C': 0.001, 'penalty': 'l1'}\n",
      "0.257 (+/-0.000) for {'C': 0.001, 'penalty': 'l2'}\n",
      "0.243 (+/-0.000) for {'C': 0.01, 'penalty': 'l1'}\n",
      "0.472 (+/-0.522) for {'C': 0.01, 'penalty': 'l2'}\n",
      "0.254 (+/-0.012) for {'C': 0.1, 'penalty': 'l1'}\n",
      "0.486 (+/-0.472) for {'C': 0.1, 'penalty': 'l2'}\n",
      "0.460 (+/-0.498) for {'C': 1, 'penalty': 'l1'}\n",
      "0.456 (+/-0.506) for {'C': 1, 'penalty': 'l2'}\n",
      "0.475 (+/-0.330) for {'C': 10, 'penalty': 'l1'}\n",
      "0.448 (+/-0.430) for {'C': 10, 'penalty': 'l2'}\n",
      "0.526 (+/-0.184) for {'C': 100, 'penalty': 'l1'}\n",
      "0.543 (+/-0.192) for {'C': 100, 'penalty': 'l2'}\n",
      "0.558 (+/-0.329) for {'C': 1000, 'penalty': 'l1'}\n",
      "0.587 (+/-0.180) for {'C': 1000, 'penalty': 'l2'}\n",
      "\n",
      "Detailed classification report:\n",
      "\n",
      "The model is trained on the full development set.\n",
      "The scores are computed on the full evaluation set.\n",
      "\n",
      "              precision    recall  f1-score   support\n",
      "\n",
      "        ACLT       1.00      1.00      1.00        84\n",
      "       CNTRL       1.00      1.00      1.00        89\n",
      "\n",
      "   micro avg       1.00      1.00      1.00       173\n",
      "   macro avg       1.00      1.00      1.00       173\n",
      "weighted avg       1.00      1.00      1.00       173\n",
      "\n",
      "Confusion matrix, without normalization\n",
      "[[84  0]\n",
      " [ 0 89]]\n"
     ]
    },
    {
     "data": {
      "image/png": "[encoded data removed]",
      "text/plain": [
       "<Figure size 432x288 with 2 Axes>"
      ]
     },
     "metadata": {
      "needs_background": "light"
     },
     "output_type": "display_data"
    },
    {
     "name": "stdout",
     "output_type": "stream",
     "text": [
      "\n",
      "# Tuning hyper-parameters for recall\n",
      "\n",
      "Best parameters set found on development set:\n",
      "\n",
      "{'C': 0.01, 'penalty': 'l2'}\n",
      "\n",
      "Grid scores on development set:\n",
      "\n",
      "0.500 (+/-0.000) for {'C': 0.001, 'penalty': 'l1'}\n",
      "0.500 (+/-0.000) for {'C': 0.001, 'penalty': 'l2'}\n",
      "0.500 (+/-0.000) for {'C': 0.01, 'penalty': 'l1'}\n",
      "0.578 (+/-0.189) for {'C': 0.01, 'penalty': 'l2'}\n",
      "0.500 (+/-0.000) for {'C': 0.1, 'penalty': 'l1'}\n",
      "0.564 (+/-0.258) for {'C': 0.1, 'penalty': 'l2'}\n",
      "0.471 (+/-0.420) for {'C': 1, 'penalty': 'l1'}\n",
      "0.476 (+/-0.413) for {'C': 1, 'penalty': 'l2'}\n",
      "0.474 (+/-0.317) for {'C': 10, 'penalty': 'l1'}\n",
      "0.472 (+/-0.381) for {'C': 10, 'penalty': 'l2'}\n",
      "0.524 (+/-0.182) for {'C': 100, 'penalty': 'l1'}\n",
      "0.543 (+/-0.186) for {'C': 100, 'penalty': 'l2'}\n",
      "0.561 (+/-0.324) for {'C': 1000, 'penalty': 'l1'}\n",
      "0.577 (+/-0.167) for {'C': 1000, 'penalty': 'l2'}\n",
      "\n",
      "Detailed classification report:\n",
      "\n",
      "The model is trained on the full development set.\n",
      "The scores are computed on the full evaluation set.\n",
      "\n",
      "              precision    recall  f1-score   support\n",
      "\n",
      "        ACLT       0.85      0.20      0.33        84\n",
      "       CNTRL       0.56      0.97      0.71        89\n",
      "\n",
      "   micro avg       0.60      0.60      0.60       173\n",
      "   macro avg       0.71      0.58      0.52       173\n",
      "weighted avg       0.70      0.60      0.52       173\n",
      "\n",
      "Confusion matrix, without normalization\n",
      "[[17 67]\n",
      " [ 3 86]]\n"
     ]
    },
    {
     "data": {
      "image/png": "[encoded data removed]",
      "text/plain": [
       "<Figure size 432x288 with 2 Axes>"
      ]
     },
     "metadata": {
      "needs_background": "light"
     },
     "output_type": "display_data"
    },
    {
     "name": "stdout",
     "output_type": "stream",
     "text": [
      "\n"
     ]
    }
   ],
   "source": [
    "'''\n",
    "Logistic Regression with parameters set by cross-validation (GridSearchCV)\n",
    "''' \n",
    "tuned_parameters = [{'penalty': ['l1','l2'], 'C': [0.001,0.01,0.1,1,10,100,1000]}]\n",
    "\n",
    "scores = ['precision', 'recall']\n",
    "classes = ['ACLT', 'CNTRL']\n",
    "\n",
    "for score in scores:\n",
    "    print(\"# Tuning hyper-parameters for %s\" % score)\n",
    "    print()\n",
    "\n",
    "    clf = GridSearchCV(LogisticRegression(random_state=0), tuned_parameters, cv=5,\n",
    "                       scoring='%s_macro' % score)\n",
    "    clf.fit(X_train_sm, y_train_label)\n",
    "\n",
    "    print(\"Best parameters set found on development set:\")\n",
    "    print()\n",
    "    print(clf.best_params_)\n",
    "    print()\n",
    "    print(\"Grid scores on development set:\")\n",
    "    print()\n",
    "    \n",
    "    means = clf.cv_results_['mean_test_score']\n",
    "    stds = clf.cv_results_['std_test_score']\n",
    "    \n",
    "    for mean, std, params in zip(means, stds, clf.cv_results_['params']):\n",
    "        print(\"%0.3f (+/-%0.03f) for %r\"\n",
    "              % (mean, std * 2, params))\n",
    "    print()\n",
    "\n",
    "    print(\"Detailed classification report:\")\n",
    "    print()\n",
    "    print(\"The model is trained on the full development set.\")\n",
    "    print(\"The scores are computed on the full evaluation set.\")\n",
    "    print()\n",
    "    # evaluate model on same training set\n",
    "    y_true, y_pred = y_train_label, clf.predict(X_train_sm)\n",
    "    print(classification_report(y_true, y_pred,target_names = classes))\n",
    "    \n",
    "    cm = confusion_matrix(y_true, y_pred)\n",
    "    plt.figure()\n",
    "    plot_confusion_matrix(cm, classes=classes,# normalize=True\n",
    "                          title='CM of model estimation on training data')\n",
    "    plt.show()\n",
    "    print()\n"
   ]
  },
  {
   "cell_type": "code",
   "execution_count": 118,
   "metadata": {},
   "outputs": [
    {
     "name": "stdout",
     "output_type": "stream",
     "text": [
      "ROC_AUC = 1.00 \n"
     ]
    }
   ],
   "source": [
    "# Re-train classifier using the optimal parameters\n",
    "clf = LogisticRegression(C=1000, penalty='l2',random_state=0)\n",
    "clf.fit(X_train_sm, y_train_label)\n",
    "\n",
    "# evaluate model on (same) training set\n",
    "y_true, y_pred = y_train_label, clf.predict(X_train_sm)\n",
    "y_true = pd.DataFrame(data=y_true)\n",
    "y_pred = pd.DataFrame(data=y_pred)\n",
    "logreg_calib_output = pd.concat([y_true, y_pred], axis=1)\n",
    "#logreg_calib_output.head(5)\n",
    "#export 'logreg_calib_output_aclt-cntrl' to csv'\n",
    "print('ROC_AUC = %.2f ' %(roc_auc_score(y_train_label, y_pred)))\n",
    "#print('ROC_AUC = %.2f, kappa = %.2f' %(roc_auc_score(y_train_label, y_pred), \n",
    "#                                  cohen_kappa_score(y_train_label, y_pred)))"
   ]
  },
  {
   "cell_type": "code",
   "execution_count": 120,
   "metadata": {},
   "outputs": [
    {
     "name": "stdout",
     "output_type": "stream",
     "text": [
      "              precision    recall  f1-score   support\n",
      "\n",
      "        ACLT       0.95      0.90      0.93        21\n",
      "       CNTRL       0.91      0.95      0.93        22\n",
      "\n",
      "   micro avg       0.93      0.93      0.93        43\n",
      "   macro avg       0.93      0.93      0.93        43\n",
      "weighted avg       0.93      0.93      0.93        43\n",
      "\n",
      "Confusion matrix, without normalization\n",
      "[[19  2]\n",
      " [ 1 21]]\n"
     ]
    },
    {
     "data": {
      "image/png": "[encoded data removed]",
      "text/plain": [
       "<Figure size 432x288 with 2 Axes>"
      ]
     },
     "metadata": {
      "needs_background": "light"
     },
     "output_type": "display_data"
    },
    {
     "name": "stdout",
     "output_type": "stream",
     "text": [
      "ROC_AUC = 0.93, kappa = 0.86\n"
     ]
    }
   ],
   "source": [
    "# evaluate model on test set\n",
    "y_true, y_pred = y_test_label, clf.predict(X_test_sm)\n",
    "print(classification_report(y_true, y_pred,target_names = classes))\n",
    "    \n",
    "cm = confusion_matrix(y_true, y_pred)\n",
    "fig = plt.figure()\n",
    "plot_confusion_matrix(cm, classes=classes,# normalize=True\n",
    "                      title='CM of logReg model: smoothed test spectra')\n",
    "plt.show()\n",
    "fig.savefig('figs/CM_lr_aclt-cntrl_9_2_sm.eps', format='eps', dpi=300)\n",
    "\n",
    "y_true = pd.DataFrame(data=y_true)\n",
    "y_pred = pd.DataFrame(data=y_pred)\n",
    "logreg_test_output = pd.concat([y_true, y_pred], axis=1)\n",
    "#logreg_test_output.head()\n",
    "#export 'logreg_calib_output_aclt-cntrl' to csv\n",
    "\n",
    "print('ROC_AUC = %.2f, kappa = %.2f' %(roc_auc_score(y_test_label, y_pred), \n",
    "                                   cohen_kappa_score(y_test_label, y_pred)))"
   ]
  },
  {
   "cell_type": "markdown",
   "metadata": {},
   "source": [
    "Logistic Regression is showing similar test performance as Support Vectors."
   ]
  },
  {
   "cell_type": "markdown",
   "metadata": {},
   "source": [
    "### What spectral variables (features) are most important in the LR classifier?"
   ]
  },
  {
   "cell_type": "code",
   "execution_count": 40,
   "metadata": {},
   "outputs": [
    {
     "data": {
      "text/plain": [
       "(140,)"
      ]
     },
     "execution_count": 40,
     "metadata": {},
     "output_type": "execute_result"
    }
   ],
   "source": [
    "coef = clf.coef_[0]\n",
    "coef.shape"
   ]
  },
  {
   "cell_type": "code",
   "execution_count": 41,
   "metadata": {},
   "outputs": [
    {
     "data": {
      "image/png": "[encoded data removed]",
      "text/plain": [
       "<Figure size 432x288 with 1 Axes>"
      ]
     },
     "metadata": {
      "needs_background": "light"
     },
     "output_type": "display_data"
    }
   ],
   "source": [
    "plt.plot(wave_trim,coef,'g')\n",
    "    \n",
    "plt.xlim(right=1900, left=1000)\n",
    "plt.xlabel('Wavelength (nm)')\n",
    "plt.ylabel('Feature Importance')\n",
    "plt.title('Logistic Regression Classifier Feature Importance')\n",
    "plt.show()"
   ]
  },
  {
   "cell_type": "markdown",
   "metadata": {},
   "source": [
    "## 3. Deep learning Classifier\n",
    "\n",
    "A deep fully connected network (`FCN` with `5`-hidden layers) and 1-dimensional convolutional neural network (`1D-CNN`) were trained in **keras**, with tensorflow backend."
   ]
  },
  {
   "cell_type": "code",
   "execution_count": 16,
   "metadata": {},
   "outputs": [],
   "source": [
    "# Run this on new MBP\n",
    "import os\n",
    "os.environ['KMP_DUPLICATE_LIB_OK']='True'"
   ]
  },
  {
   "cell_type": "code",
   "execution_count": 18,
   "metadata": {},
   "outputs": [],
   "source": [
    "# One-Hot encode y_train and y_test\n",
    "y_train_lb = np_utils.to_categorical(y_train_label, 2)\n",
    "y_test_lb = np_utils.to_categorical(y_test_label, 2)\n",
    "\n",
    "#np.savetxt('spectra/aclt_cntrl_train_label_1hot.csv', y_train_lb, delimiter=',')\n",
    "#np.savetxt('spectra/aclt_cntrl_test_label_1hot.csv', y_test_lb, delimiter=',')\n",
    "\n",
    "nb_class = 2\n",
    "nfeat = 140"
   ]
  },
  {
   "cell_type": "code",
   "execution_count": 36,
   "metadata": {},
   "outputs": [
    {
     "name": "stdout",
     "output_type": "stream",
     "text": [
      "_________________________________________________________________\n",
      "Layer (type)                 Output Shape              Param #   \n",
      "=================================================================\n",
      "dense_1 (Dense)              (None, 70)                9870      \n",
      "_________________________________________________________________\n",
      "dense_2 (Dense)              (None, 70)                4970      \n",
      "_________________________________________________________________\n",
      "dense_3 (Dense)              (None, 35)                2485      \n",
      "_________________________________________________________________\n",
      "dense_4 (Dense)              (None, 14)                504       \n",
      "_________________________________________________________________\n",
      "dropout_1 (Dropout)          (None, 14)                0         \n",
      "_________________________________________________________________\n",
      "dense_5 (Dense)              (None, 2)                 30        \n",
      "_________________________________________________________________\n",
      "activation_1 (Activation)    (None, 2)                 0         \n",
      "=================================================================\n",
      "Total params: 17,859\n",
      "Trainable params: 17,859\n",
      "Non-trainable params: 0\n",
      "_________________________________________________________________\n",
      "None\n"
     ]
    }
   ],
   "source": [
    "# define network architecture for smoothed spectra\n",
    "K.clear_session()\n",
    "model = Sequential()\n",
    "model.add(Dense(70, input_dim=nfeat, activation=\"tanh\",kernel_initializer=\"glorot_uniform\"))\n",
    "model.add(Dense(70, activation=\"tanh\"))\n",
    "model.add(Dense(35, activation=\"tanh\"))\n",
    "model.add(Dense(14, activation=\"tanh\"))\n",
    "model.add(Dropout(0.4))\n",
    "model.add(Dense(nb_class))\n",
    "model.add(Activation(\"softmax\"))\n",
    "\n",
    "print(model.summary())"
   ]
  },
  {
   "cell_type": "code",
   "execution_count": 41,
   "metadata": {},
   "outputs": [
    {
     "data": {
      "image/png": "[encoded data removed]",
      "text/plain": [
       "<Figure size 432x288 with 1 Axes>"
      ]
     },
     "metadata": {
      "needs_background": "light"
     },
     "output_type": "display_data"
    }
   ],
   "source": [
    "# Train model using SGD/Adam Optimizer and binary_crossentropy loss function\n",
    "nb_epoch=500\n",
    "adam = Adam(lr=0.001)# sgd = SGD(lr=0.001)\n",
    "model.compile(loss=\"binary_crossentropy\", optimizer=adam, metrics=['acc'])\n",
    "hist = model.fit(X_train_sm, y_train_lb, \n",
    "                 epochs=nb_epoch, validation_data=(X_test_sm, y_test_lb),\n",
    "                 batch_size=32, verbose=0)\n",
    "\n",
    "# Plot training & validation accuracy values\n",
    "plt.plot(hist.history['acc'])\n",
    "plt.plot(hist.history['val_acc'])\n",
    "plt.title('Model accuracy')\n",
    "plt.ylabel('Accuracy')\n",
    "plt.xlabel('Epoch')\n",
    "plt.legend(['Train', 'Validation'], loc='upper left')\n",
    "plt.show()"
   ]
  },
  {
   "cell_type": "code",
   "execution_count": 44,
   "metadata": {},
   "outputs": [
    {
     "name": "stdout",
     "output_type": "stream",
     "text": [
      "              precision    recall  f1-score   support\n",
      "\n",
      "        ACLT       1.00      0.81      0.89        21\n",
      "       CNTRL       0.85      1.00      0.92        22\n",
      "\n",
      "   micro avg       0.91      0.91      0.91        43\n",
      "   macro avg       0.92      0.90      0.91        43\n",
      "weighted avg       0.92      0.91      0.91        43\n",
      "\n",
      "Confusion matrix, without normalization\n",
      "[[17  4]\n",
      " [ 0 22]]\n"
     ]
    },
    {
     "data": {
      "image/png": "[encoded data removed]",
      "text/plain": [
       "<Figure size 432x288 with 2 Axes>"
      ]
     },
     "metadata": {
      "needs_background": "light"
     },
     "output_type": "display_data"
    }
   ],
   "source": [
    "prediction = []\n",
    "for x in range(len(X_test_sm)):\n",
    "    probs = model.predict(X_test_sm)[x]\n",
    "    prediction.append(probs.argmax(axis=0))\n",
    "\n",
    "#print('Probabilities:',probs)\n",
    "#print('Prediction:',prediction)\n",
    "#prediction\n",
    "\n",
    "# evaluate model on test set\n",
    "classes = ['ACLT', 'CNTRL']\n",
    "y_true, y_pred = y_test_label, prediction\n",
    "print(classification_report(y_true, y_pred,target_names = classes))\n",
    "    \n",
    "cm = confusion_matrix(y_true, y_pred)\n",
    "fig = plt.figure()\n",
    "plot_confusion_matrix(cm, classes=classes,# normalize=True\n",
    "                      title='CM of DNN (smoothed spectra)')\n",
    "plt.show()\n",
    "fig.savefig('figs/CM_dnn_aclt-cntrl_9_2_sm.eps', format='eps', dpi=300)"
   ]
  },
  {
   "cell_type": "code",
   "execution_count": 43,
   "metadata": {},
   "outputs": [
    {
     "name": "stdout",
     "output_type": "stream",
     "text": [
      "43/43 [==============================] - 0s 84us/step\n",
      "loss=0.342, accuracy: 90.70%\n",
      "Saving model architecture and weights to file...\n",
      "Done saving model.\n"
     ]
    }
   ],
   "source": [
    "# Accuracy on the test set\n",
    "(loss, accuracy) = model.evaluate(X_test_sm, y_test_lb, batch_size=32, verbose=1)\n",
    "print(\"loss={:.3f}, accuracy: {:.2f}%\".format(loss,accuracy * 100))\n",
    " \n",
    "# dump the network architecture and weights to file\n",
    "print(\"Saving model architecture and weights to file...\")\n",
    "model.save('nir_aclt-cntrl_model.hdf5')\n",
    "print(\"Done saving model.\")"
   ]
  }
 ],
 "metadata": {
  "kernelspec": {
   "display_name": "Python 3",
   "language": "python",
   "name": "python3"
  },
  "language_info": {
   "codemirror_mode": {
    "name": "ipython",
    "version": 3
   },
   "file_extension": ".py",
   "mimetype": "text/x-python",
   "name": "python",
   "nbconvert_exporter": "python",
   "pygments_lexer": "ipython3",
   "version": "3.6.6"
  }
 },
 "nbformat": 4,
 "nbformat_minor": 2
}
