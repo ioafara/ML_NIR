{
 "cells": [
  {
   "cell_type": "markdown",
   "metadata": {},
   "source": [
    "## Classification of cartilage integrity based on NIR spectroscopy"
   ]
  },
  {
   "cell_type": "code",
   "execution_count": 1,
   "metadata": {},
   "outputs": [
    {
     "name": "stderr",
     "output_type": "stream",
     "text": [
      "Using TensorFlow backend.\n"
     ]
    },
    {
     "name": "stdout",
     "output_type": "stream",
     "text": [
      "\n",
      "Author: Isaac Afara, Ph.D.\n",
      "        Department of Applied Physics\n",
      "        University of Eastern Finland\n",
      "        Kuopio, Finland.   \n",
      "Date:   18th October, 2018\n",
      "Update: 4th December, 2018\n",
      "\n",
      "\n"
     ]
    }
   ],
   "source": [
    "'''\n",
    "Author: Isaac Afara, Ph.D.\n",
    "        Department of Applied Physics\n",
    "        University of Eastern Finland\n",
    "        Kuopio, Finland.   \n",
    "Date:   18th October, 2018\n",
    "Update: 4th December, 2018\n",
    "\n",
    "'''\n",
    "\n",
    "from __future__ import print_function\n",
    "\n",
    "# data analysis and wrangling\n",
    "import itertools\n",
    "import numpy as np\n",
    "from scipy.signal import savgol_filter\n",
    "import pandas as pd\n",
    "from time import time\n",
    "\n",
    "# visualization\n",
    "import matplotlib.pyplot as plt\n",
    "%matplotlib inline\n",
    "\n",
    "# machine learning\n",
    "from sklearn.model_selection import GridSearchCV\n",
    "from sklearn.metrics import classification_report, cohen_kappa_score, roc_auc_score\n",
    "from sklearn.metrics import confusion_matrix, f1_score \n",
    "from sklearn.preprocessing import StandardScaler\n",
    "from sklearn.decomposition import PCA\n",
    "from sklearn.pipeline import make_pipeline\n",
    "from sklearn.svm import SVC\n",
    "from sklearn import preprocessing\n",
    "from sklearn.ensemble import RandomForestClassifier\n",
    "from sklearn.linear_model import LogisticRegression\n",
    "\n",
    "# deep learning\n",
    "from keras.models import Sequential, load_model\n",
    "from keras.optimizers import Adam, SGD\n",
    "from keras.layers import Dense,Conv1D,LeakyReLU,Dropout,Flatten,Activation,Reshape,BatchNormalization\n",
    "from keras.utils import np_utils\n",
    "from keras.callbacks import EarlyStopping, ModelCheckpoint\n",
    "from keras.initializers import he_uniform\n",
    "from keras import backend as K\n",
    "\n",
    "\n",
    "# general\n",
    "import warnings\n",
    "warnings.filterwarnings('ignore')  \n",
    "\n",
    "\n",
    "print(__doc__)"
   ]
  },
  {
   "cell_type": "code",
   "execution_count": 2,
   "metadata": {},
   "outputs": [],
   "source": [
    "# Helper function plotting confusion matrix\n",
    "\n",
    "def plot_confusion_matrix(cm, classes,\n",
    "                          normalize=False,\n",
    "                          title='Confusion matrix',\n",
    "                          cmap=plt.cm.Blues):\n",
    "    \"\"\"\n",
    "    This function prints and plots the confusion matrix.\n",
    "    Normalization can be applied by setting `normalize=True`.\n",
    "    \"\"\"\n",
    "    if normalize:\n",
    "        cm = cm.astype('float') / cm.sum(axis=1)[:, np.newaxis]\n",
    "        print(\"Normalized confusion matrix\")\n",
    "    else:\n",
    "        print('Confusion matrix, without normalization')\n",
    "\n",
    "    print(cm)\n",
    "\n",
    "    plt.imshow(cm, interpolation='nearest', cmap=cmap)\n",
    "    plt.title(title)\n",
    "    plt.colorbar()\n",
    "    tick_marks = np.arange(len(classes))\n",
    "    plt.xticks(tick_marks, classes, rotation=45)\n",
    "    plt.yticks(tick_marks, classes)\n",
    "\n",
    "    fmt = '.2f' if normalize else 'd'\n",
    "    thresh = cm.max() / 2.\n",
    "    for i, j in itertools.product(range(cm.shape[0]), range(cm.shape[1])):\n",
    "        plt.text(j, i, format(cm[i, j], fmt),\n",
    "                 horizontalalignment=\"center\",\n",
    "                 color=\"white\" if cm[i, j] > thresh else \"black\")\n",
    "\n",
    "    plt.ylabel('True label')\n",
    "    plt.xlabel('Predicted label')\n",
    "    plt.tight_layout()\n"
   ]
  },
  {
   "cell_type": "markdown",
   "metadata": {},
   "source": [
    "### Import dataset\n",
    "\n",
    "Import, prepare and visualize data"
   ]
  },
  {
   "cell_type": "code",
   "execution_count": 3,
   "metadata": {},
   "outputs": [
    {
     "name": "stdout",
     "output_type": "stream",
     "text": [
      "Size of data: (313, 246)\n"
     ]
    }
   ],
   "source": [
    "# Load dataset\n",
    "data = pd.read_csv('spectra/nir_data.csv')#'fullNIR.csv'\n",
    "\n",
    "print('Size of data:',data.shape)"
   ]
  },
  {
   "cell_type": "code",
   "execution_count": 4,
   "metadata": {},
   "outputs": [
    {
     "data": {
      "text/html": [
       "<div>\n",
       "<style scoped>\n",
       "    .dataframe tbody tr th:only-of-type {\n",
       "        vertical-align: middle;\n",
       "    }\n",
       "\n",
       "    .dataframe tbody tr th {\n",
       "        vertical-align: top;\n",
       "    }\n",
       "\n",
       "    .dataframe thead th {\n",
       "        text-align: right;\n",
       "    }\n",
       "</style>\n",
       "<table border=\"1\" class=\"dataframe\">\n",
       "  <thead>\n",
       "    <tr style=\"text-align: right;\">\n",
       "      <th></th>\n",
       "      <th>animals</th>\n",
       "      <th>integrity</th>\n",
       "      <th>943.05</th>\n",
       "      <th>949.6</th>\n",
       "      <th>956.15</th>\n",
       "      <th>962.7</th>\n",
       "      <th>969.25</th>\n",
       "      <th>975.8</th>\n",
       "      <th>982.35</th>\n",
       "      <th>988.89</th>\n",
       "      <th>...</th>\n",
       "      <th>2447</th>\n",
       "      <th>2453.3</th>\n",
       "      <th>2459.7</th>\n",
       "      <th>2466</th>\n",
       "      <th>2472.4</th>\n",
       "      <th>2478.7</th>\n",
       "      <th>2485.1</th>\n",
       "      <th>2491.4</th>\n",
       "      <th>2497.8</th>\n",
       "      <th>2504.1</th>\n",
       "    </tr>\n",
       "  </thead>\n",
       "  <tbody>\n",
       "    <tr>\n",
       "      <th>0</th>\n",
       "      <td>2ACL_M1</td>\n",
       "      <td>A</td>\n",
       "      <td>0.82626</td>\n",
       "      <td>0.80473</td>\n",
       "      <td>0.95486</td>\n",
       "      <td>1.0691</td>\n",
       "      <td>0.90253</td>\n",
       "      <td>1.0026</td>\n",
       "      <td>0.95292</td>\n",
       "      <td>1.0308</td>\n",
       "      <td>...</td>\n",
       "      <td>2.2142</td>\n",
       "      <td>2.9081</td>\n",
       "      <td>3.5259</td>\n",
       "      <td>1.5544</td>\n",
       "      <td>4.0</td>\n",
       "      <td>1.4224</td>\n",
       "      <td>4.0</td>\n",
       "      <td>4.0000</td>\n",
       "      <td>2.0955</td>\n",
       "      <td>4.0</td>\n",
       "    </tr>\n",
       "    <tr>\n",
       "      <th>1</th>\n",
       "      <td>2ACL_M1</td>\n",
       "      <td>A</td>\n",
       "      <td>1.15140</td>\n",
       "      <td>1.35400</td>\n",
       "      <td>1.26280</td>\n",
       "      <td>1.2574</td>\n",
       "      <td>0.96724</td>\n",
       "      <td>0.9738</td>\n",
       "      <td>1.14060</td>\n",
       "      <td>1.1324</td>\n",
       "      <td>...</td>\n",
       "      <td>1.5519</td>\n",
       "      <td>4.0000</td>\n",
       "      <td>3.2685</td>\n",
       "      <td>1.4490</td>\n",
       "      <td>4.0</td>\n",
       "      <td>2.2590</td>\n",
       "      <td>4.0</td>\n",
       "      <td>3.1079</td>\n",
       "      <td>3.1036</td>\n",
       "      <td>4.0</td>\n",
       "    </tr>\n",
       "    <tr>\n",
       "      <th>2</th>\n",
       "      <td>2ACL_M1</td>\n",
       "      <td>A</td>\n",
       "      <td>0.94335</td>\n",
       "      <td>1.01790</td>\n",
       "      <td>1.09350</td>\n",
       "      <td>1.1432</td>\n",
       "      <td>0.91946</td>\n",
       "      <td>1.0490</td>\n",
       "      <td>1.00390</td>\n",
       "      <td>1.1941</td>\n",
       "      <td>...</td>\n",
       "      <td>4.0000</td>\n",
       "      <td>4.0000</td>\n",
       "      <td>4.0000</td>\n",
       "      <td>1.3116</td>\n",
       "      <td>4.0</td>\n",
       "      <td>3.3926</td>\n",
       "      <td>4.0</td>\n",
       "      <td>4.0000</td>\n",
       "      <td>3.3799</td>\n",
       "      <td>4.0</td>\n",
       "    </tr>\n",
       "    <tr>\n",
       "      <th>3</th>\n",
       "      <td>2ACL_M1</td>\n",
       "      <td>A</td>\n",
       "      <td>0.74013</td>\n",
       "      <td>0.97118</td>\n",
       "      <td>1.04990</td>\n",
       "      <td>1.1016</td>\n",
       "      <td>0.87052</td>\n",
       "      <td>1.0221</td>\n",
       "      <td>1.06960</td>\n",
       "      <td>1.0621</td>\n",
       "      <td>...</td>\n",
       "      <td>3.4203</td>\n",
       "      <td>4.0000</td>\n",
       "      <td>2.8129</td>\n",
       "      <td>1.9655</td>\n",
       "      <td>4.0</td>\n",
       "      <td>3.0725</td>\n",
       "      <td>4.0</td>\n",
       "      <td>4.0000</td>\n",
       "      <td>4.0000</td>\n",
       "      <td>4.0</td>\n",
       "    </tr>\n",
       "    <tr>\n",
       "      <th>4</th>\n",
       "      <td>2ACL_M1</td>\n",
       "      <td>A</td>\n",
       "      <td>1.07810</td>\n",
       "      <td>1.12220</td>\n",
       "      <td>1.25060</td>\n",
       "      <td>1.3822</td>\n",
       "      <td>0.98677</td>\n",
       "      <td>1.1179</td>\n",
       "      <td>1.11730</td>\n",
       "      <td>1.0746</td>\n",
       "      <td>...</td>\n",
       "      <td>3.4618</td>\n",
       "      <td>3.4040</td>\n",
       "      <td>4.0000</td>\n",
       "      <td>2.7526</td>\n",
       "      <td>4.0</td>\n",
       "      <td>2.8342</td>\n",
       "      <td>4.0</td>\n",
       "      <td>4.0000</td>\n",
       "      <td>1.0453</td>\n",
       "      <td>4.0</td>\n",
       "    </tr>\n",
       "  </tbody>\n",
       "</table>\n",
       "<p>5 rows × 246 columns</p>\n",
       "</div>"
      ],
      "text/plain": [
       "   animals integrity   943.05    949.6   956.15   962.7   969.25   975.8  \\\n",
       "0  2ACL_M1         A  0.82626  0.80473  0.95486  1.0691  0.90253  1.0026   \n",
       "1  2ACL_M1         A  1.15140  1.35400  1.26280  1.2574  0.96724  0.9738   \n",
       "2  2ACL_M1         A  0.94335  1.01790  1.09350  1.1432  0.91946  1.0490   \n",
       "3  2ACL_M1         A  0.74013  0.97118  1.04990  1.1016  0.87052  1.0221   \n",
       "4  2ACL_M1         A  1.07810  1.12220  1.25060  1.3822  0.98677  1.1179   \n",
       "\n",
       "    982.35  988.89   ...      2447  2453.3  2459.7    2466  2472.4  2478.7  \\\n",
       "0  0.95292  1.0308   ...    2.2142  2.9081  3.5259  1.5544     4.0  1.4224   \n",
       "1  1.14060  1.1324   ...    1.5519  4.0000  3.2685  1.4490     4.0  2.2590   \n",
       "2  1.00390  1.1941   ...    4.0000  4.0000  4.0000  1.3116     4.0  3.3926   \n",
       "3  1.06960  1.0621   ...    3.4203  4.0000  2.8129  1.9655     4.0  3.0725   \n",
       "4  1.11730  1.0746   ...    3.4618  3.4040  4.0000  2.7526     4.0  2.8342   \n",
       "\n",
       "   2485.1  2491.4  2497.8  2504.1  \n",
       "0     4.0  4.0000  2.0955     4.0  \n",
       "1     4.0  3.1079  3.1036     4.0  \n",
       "2     4.0  4.0000  3.3799     4.0  \n",
       "3     4.0  4.0000  4.0000     4.0  \n",
       "4     4.0  4.0000  1.0453     4.0  \n",
       "\n",
       "[5 rows x 246 columns]"
      ]
     },
     "execution_count": 4,
     "metadata": {},
     "output_type": "execute_result"
    }
   ],
   "source": [
    "data.head()"
   ]
  },
  {
   "cell_type": "code",
   "execution_count": 4,
   "metadata": {},
   "outputs": [
    {
     "name": "stdout",
     "output_type": "stream",
     "text": [
      "There are: 45 unique animals, with the 1st and last animals ==>> 2ACL_M1 and 8C_M4_right .\n"
     ]
    }
   ],
   "source": [
    "# Extract animals as list\n",
    "names = data['animals'].unique().tolist() \n",
    "\n",
    "print('There are:',len(names),'unique animals, with the 1st and last animals ==>>', \n",
    "      names[0], 'and', names[-1],'.')"
   ]
  },
  {
   "cell_type": "code",
   "execution_count": 5,
   "metadata": {},
   "outputs": [
    {
     "data": {
      "text/html": [
       "<div>\n",
       "<style scoped>\n",
       "    .dataframe tbody tr th:only-of-type {\n",
       "        vertical-align: middle;\n",
       "    }\n",
       "\n",
       "    .dataframe tbody tr th {\n",
       "        vertical-align: top;\n",
       "    }\n",
       "\n",
       "    .dataframe thead th {\n",
       "        text-align: right;\n",
       "    }\n",
       "</style>\n",
       "<table border=\"1\" class=\"dataframe\">\n",
       "  <thead>\n",
       "    <tr style=\"text-align: right;\">\n",
       "      <th></th>\n",
       "      <th>0</th>\n",
       "    </tr>\n",
       "  </thead>\n",
       "  <tbody>\n",
       "    <tr>\n",
       "      <th>0</th>\n",
       "      <td>2ACL_M1</td>\n",
       "    </tr>\n",
       "    <tr>\n",
       "      <th>1</th>\n",
       "      <td>2ACL_M1_CL</td>\n",
       "    </tr>\n",
       "    <tr>\n",
       "      <th>2</th>\n",
       "      <td>2ACL_M2</td>\n",
       "    </tr>\n",
       "    <tr>\n",
       "      <th>3</th>\n",
       "      <td>2ACL_M2_CL</td>\n",
       "    </tr>\n",
       "    <tr>\n",
       "      <th>4</th>\n",
       "      <td>2ACL_M3</td>\n",
       "    </tr>\n",
       "    <tr>\n",
       "      <th>5</th>\n",
       "      <td>2ACL_M3_CL</td>\n",
       "    </tr>\n",
       "    <tr>\n",
       "      <th>6</th>\n",
       "      <td>2ACL_M4</td>\n",
       "    </tr>\n",
       "    <tr>\n",
       "      <th>7</th>\n",
       "      <td>2ACL_M4_CL</td>\n",
       "    </tr>\n",
       "    <tr>\n",
       "      <th>8</th>\n",
       "      <td>2ACL_M5</td>\n",
       "    </tr>\n",
       "    <tr>\n",
       "      <th>9</th>\n",
       "      <td>2ACL_M6</td>\n",
       "    </tr>\n",
       "    <tr>\n",
       "      <th>10</th>\n",
       "      <td>2ACL_M6_CL</td>\n",
       "    </tr>\n",
       "    <tr>\n",
       "      <th>11</th>\n",
       "      <td>2ACL_M7</td>\n",
       "    </tr>\n",
       "    <tr>\n",
       "      <th>12</th>\n",
       "      <td>2ACL_M7_CL</td>\n",
       "    </tr>\n",
       "    <tr>\n",
       "      <th>13</th>\n",
       "      <td>2ACL_M8</td>\n",
       "    </tr>\n",
       "    <tr>\n",
       "      <th>14</th>\n",
       "      <td>2ACL_M8_CL</td>\n",
       "    </tr>\n",
       "    <tr>\n",
       "      <th>15</th>\n",
       "      <td>2ACL_O5</td>\n",
       "    </tr>\n",
       "    <tr>\n",
       "      <th>16</th>\n",
       "      <td>2ACL_O5_CL</td>\n",
       "    </tr>\n",
       "    <tr>\n",
       "      <th>17</th>\n",
       "      <td>2C_M1</td>\n",
       "    </tr>\n",
       "    <tr>\n",
       "      <th>18</th>\n",
       "      <td>2C_M2</td>\n",
       "    </tr>\n",
       "    <tr>\n",
       "      <th>19</th>\n",
       "      <td>2C_M3</td>\n",
       "    </tr>\n",
       "    <tr>\n",
       "      <th>20</th>\n",
       "      <td>2C_M4</td>\n",
       "    </tr>\n",
       "    <tr>\n",
       "      <th>21</th>\n",
       "      <td>2C_M5</td>\n",
       "    </tr>\n",
       "    <tr>\n",
       "      <th>22</th>\n",
       "      <td>2C_M6</td>\n",
       "    </tr>\n",
       "    <tr>\n",
       "      <th>23</th>\n",
       "      <td>2C_M7</td>\n",
       "    </tr>\n",
       "    <tr>\n",
       "      <th>24</th>\n",
       "      <td>2C_M8</td>\n",
       "    </tr>\n",
       "    <tr>\n",
       "      <th>25</th>\n",
       "      <td>8ACL_M1</td>\n",
       "    </tr>\n",
       "    <tr>\n",
       "      <th>26</th>\n",
       "      <td>8ACL_M1_CL</td>\n",
       "    </tr>\n",
       "    <tr>\n",
       "      <th>27</th>\n",
       "      <td>8ACL_M2</td>\n",
       "    </tr>\n",
       "    <tr>\n",
       "      <th>28</th>\n",
       "      <td>8ACL_M2_CL</td>\n",
       "    </tr>\n",
       "    <tr>\n",
       "      <th>29</th>\n",
       "      <td>8ACL_M3</td>\n",
       "    </tr>\n",
       "    <tr>\n",
       "      <th>30</th>\n",
       "      <td>8ACL_M3_CL</td>\n",
       "    </tr>\n",
       "    <tr>\n",
       "      <th>31</th>\n",
       "      <td>8ACL_M6</td>\n",
       "    </tr>\n",
       "    <tr>\n",
       "      <th>32</th>\n",
       "      <td>8ACL_M6_CL</td>\n",
       "    </tr>\n",
       "    <tr>\n",
       "      <th>33</th>\n",
       "      <td>8ACL_M7</td>\n",
       "    </tr>\n",
       "    <tr>\n",
       "      <th>34</th>\n",
       "      <td>8ACL_M7_CL</td>\n",
       "    </tr>\n",
       "    <tr>\n",
       "      <th>35</th>\n",
       "      <td>8ACL_M8</td>\n",
       "    </tr>\n",
       "    <tr>\n",
       "      <th>36</th>\n",
       "      <td>8ACL_M8_CL</td>\n",
       "    </tr>\n",
       "    <tr>\n",
       "      <th>37</th>\n",
       "      <td>8C_M1_left</td>\n",
       "    </tr>\n",
       "    <tr>\n",
       "      <th>38</th>\n",
       "      <td>8C_M1_right</td>\n",
       "    </tr>\n",
       "    <tr>\n",
       "      <th>39</th>\n",
       "      <td>8C_M2 left</td>\n",
       "    </tr>\n",
       "    <tr>\n",
       "      <th>40</th>\n",
       "      <td>8C_M2 right</td>\n",
       "    </tr>\n",
       "    <tr>\n",
       "      <th>41</th>\n",
       "      <td>8C_M3 left</td>\n",
       "    </tr>\n",
       "    <tr>\n",
       "      <th>42</th>\n",
       "      <td>8C_M3 right</td>\n",
       "    </tr>\n",
       "    <tr>\n",
       "      <th>43</th>\n",
       "      <td>8C_M4_left</td>\n",
       "    </tr>\n",
       "    <tr>\n",
       "      <th>44</th>\n",
       "      <td>8C_M4_right</td>\n",
       "    </tr>\n",
       "  </tbody>\n",
       "</table>\n",
       "</div>"
      ],
      "text/plain": [
       "              0\n",
       "0       2ACL_M1\n",
       "1    2ACL_M1_CL\n",
       "2       2ACL_M2\n",
       "3    2ACL_M2_CL\n",
       "4       2ACL_M3\n",
       "5    2ACL_M3_CL\n",
       "6       2ACL_M4\n",
       "7    2ACL_M4_CL\n",
       "8       2ACL_M5\n",
       "9       2ACL_M6\n",
       "10   2ACL_M6_CL\n",
       "11      2ACL_M7\n",
       "12   2ACL_M7_CL\n",
       "13      2ACL_M8\n",
       "14   2ACL_M8_CL\n",
       "15      2ACL_O5\n",
       "16   2ACL_O5_CL\n",
       "17        2C_M1\n",
       "18        2C_M2\n",
       "19        2C_M3\n",
       "20        2C_M4\n",
       "21        2C_M5\n",
       "22        2C_M6\n",
       "23        2C_M7\n",
       "24        2C_M8\n",
       "25      8ACL_M1\n",
       "26   8ACL_M1_CL\n",
       "27      8ACL_M2\n",
       "28   8ACL_M2_CL\n",
       "29      8ACL_M3\n",
       "30   8ACL_M3_CL\n",
       "31      8ACL_M6\n",
       "32   8ACL_M6_CL\n",
       "33      8ACL_M7\n",
       "34   8ACL_M7_CL\n",
       "35      8ACL_M8\n",
       "36   8ACL_M8_CL\n",
       "37   8C_M1_left\n",
       "38  8C_M1_right\n",
       "39   8C_M2 left\n",
       "40  8C_M2 right\n",
       "41   8C_M3 left\n",
       "42  8C_M3 right\n",
       "43   8C_M4_left\n",
       "44  8C_M4_right"
      ]
     },
     "execution_count": 5,
     "metadata": {},
     "output_type": "execute_result"
    }
   ],
   "source": [
    "names = pd.DataFrame(data=names)\n",
    "names"
   ]
  },
  {
   "cell_type": "code",
   "execution_count": null,
   "metadata": {},
   "outputs": [],
   "source": [
    "data['sampleClass'] = ''\n",
    "for i in range(data.shape[0]):\n",
    "    \n",
    "    if data.integrity[i] == 1:\n",
    "        data.sampleClass[i] = 'N'\n",
    "        \n",
    "    elif data.integrity[i] == 2:\n",
    "        data.sampleClass[i] = 'C'\n",
    "    \n",
    "    else:\n",
    "        data.sampleClass[i] = 'A'"
   ]
  },
  {
   "cell_type": "markdown",
   "metadata": {},
   "source": [
    "### Sample groups in list\n",
    "\n",
    "List indices for the following samples (**Note: deduct 1 to index**): \n",
    "\n",
    "|Sample      |   indices|\n",
    "|------------|-----------|\n",
    "|2 weeks ACLT (a2) | 1,3,5,7,9,10,12,14,16|\n",
    "|2 weeks CL (c2)   | 2,4,6,8,11,13,15,17|\n",
    "|2 weeks CNTRL (n2)| 18,19,20,21,22,23,24,25|\n",
    "                 |                       |\n",
    "|8 weeks ACLT (a8)| 26,28,30,32,34,36|\n",
    "|8 weeks CL (c8)| 27,29,31,33,35,37|\n",
    "|8 weeks CNTRL (n8)| 38,39,40,41,42,43,44,45|"
   ]
  },
  {
   "cell_type": "code",
   "execution_count": 6,
   "metadata": {},
   "outputs": [],
   "source": [
    "# Split data by animals\n",
    "data_grouped = dict(tuple(data.groupby('animals')))\n",
    "\n",
    "list_data_grouped = [data_grouped[x] for x in data_grouped]"
   ]
  },
  {
   "cell_type": "markdown",
   "metadata": {},
   "source": [
    "### Aim 1: Can we distinguish between ACLT and CNTRL samples based solely on NIR spectra\n",
    "\n",
    "Here, we investigate the capacity of NIR spectroscopy to distinguish between ACLT and CNTRL samples. The samples are divided into training (80%) and test (20%) animals."
   ]
  },
  {
   "cell_type": "code",
   "execution_count": 7,
   "metadata": {},
   "outputs": [],
   "source": [
    "# Divide data into training and test animals by list indices\n",
    "# Training animals\n",
    "#ACLT\n",
    "train_idx_a2 = [1,3,5,7,12,14,16]\n",
    "train_idx_a8 = [28,30,32,34,36]\n",
    "                                    #CL\n",
    "                                    #train_idx_c2 = [2,4,6,13,15,17]\n",
    "                                    #train_idx_c8 = [29,31,33,35,37]\n",
    "# CNTRL\n",
    "train_idx_n2 = [18,19,20,21,22,23,25]\n",
    "train_idx_n8 = [38,39,40,41,42,43]\n",
    "\n",
    "# Test animals\n",
    "#ACLT\n",
    "test_idx_a2 = [9,10] # best = [9,10]\n",
    "test_idx_a8 = [26] # best = []\n",
    "                                    #CL\n",
    "                                    #test_idx_c2 = [8,11] # best = [5, 7]\n",
    "                                    #test_idx_c8 = [27] # best = []\n",
    "# CNTRL\n",
    "test_idx_n2 = [24] # best = []\n",
    "test_idx_n8 = [44,45] # best = []"
   ]
  },
  {
   "cell_type": "code",
   "execution_count": 8,
   "metadata": {},
   "outputs": [],
   "source": [
    "# Concatenate data from the samples\n",
    "\n",
    "train_a2 = pd.DataFrame(columns=data.columns)\n",
    "for x in train_idx_a2:\n",
    "    train_a2 = train_a2.append(list_data_grouped[x-1], ignore_index=True)\n",
    "            \n",
    "train_a8 = pd.DataFrame(columns=data.columns)\n",
    "for x in train_idx_a8:\n",
    "    train_a8 = train_a8.append(list_data_grouped[x-1], ignore_index=True)   \n",
    "    \n",
    "    \n",
    "train_n2 = pd.DataFrame(columns=data.columns)\n",
    "for x in train_idx_n2:\n",
    "    train_n2 = train_n2.append(list_data_grouped[x-1], ignore_index=True)\n",
    "\n",
    "train_n8 = pd.DataFrame(columns=data.columns)\n",
    "for x in train_idx_n8:\n",
    "    train_n8 = train_n8.append(list_data_grouped[x-1], ignore_index=True)\n",
    "\n",
    "    \n",
    "    \n",
    "test_a2 = pd.DataFrame(columns=data.columns)\n",
    "for x in test_idx_a2:\n",
    "    test_a2 = test_a2.append(list_data_grouped[x-1], ignore_index=True)\n",
    "\n",
    "test_a8 = pd.DataFrame(columns=data.columns)\n",
    "for x in test_idx_a8:\n",
    "    test_a8 = test_a8.append(list_data_grouped[x-1], ignore_index=True)\n",
    "    \n",
    "    \n",
    "test_n2 = pd.DataFrame(columns=data.columns)\n",
    "for x in test_idx_n2:\n",
    "    test_n2 = test_n2.append(list_data_grouped[x-1], ignore_index=True)\n",
    "\n",
    "test_n8 = pd.DataFrame(columns=data.columns)\n",
    "for x in test_idx_n8:\n",
    "    test_n8 = test_n8.append(list_data_grouped[x-1], ignore_index=True)"
   ]
  },
  {
   "cell_type": "code",
   "execution_count": 9,
   "metadata": {},
   "outputs": [
    {
     "name": "stdout",
     "output_type": "stream",
     "text": [
      "Sizes of 2 and 8 weeks ACLT training samples ==>> (49, 246) and (35, 246)\n",
      "Sizes of 2 and 8 weeks CNTRL training samples ==>> (47, 246) and (42, 246)\n",
      "Sizes of 2 and 8 weeks ACLT test samples ==>> (14, 246) and (7, 246)\n",
      "Sizes of 2 and 8 weeks CNTRL test samples ==>> (7, 246) and (15, 246)\n"
     ]
    }
   ],
   "source": [
    "print('Sizes of 2 and 8 weeks ACLT training samples ==>>',train_a2.shape,'and',train_a8.shape)\n",
    "print('Sizes of 2 and 8 weeks CNTRL training samples ==>>',train_n2.shape,'and',train_n8.shape)\n",
    "print('Sizes of 2 and 8 weeks ACLT test samples ==>>',test_a2.shape,'and',test_a8.shape)\n",
    "print('Sizes of 2 and 8 weeks CNTRL test samples ==>>',test_n2.shape,'and',test_n8.shape)"
   ]
  },
  {
   "cell_type": "code",
   "execution_count": 10,
   "metadata": {},
   "outputs": [
    {
     "name": "stdout",
     "output_type": "stream",
     "text": [
      "Size of training sets: (173, 246)\n",
      "Size of test sets: (43, 246)\n"
     ]
    }
   ],
   "source": [
    "# Combine training and test samples for different comparison groups\n",
    "\n",
    "train = pd.concat([train_a2,train_a8,train_n2,train_n8],axis=0,ignore_index=True)\n",
    "test = pd.concat([test_a2,test_a8,test_n2,test_n8],axis=0,ignore_index=True)\n",
    "\n",
    "\n",
    "print('Size of training sets:',train.shape)\n",
    "print('Size of test sets:',test.shape)\n",
    "\n",
    "# Save data as csv\n",
    "#train.to_csv('spectra/all_aclt_cntrl_train.csv', header=True, index=False, sep=',')\n",
    "#test.to_csv('spectra/all_aclt_cntrl_test.csv', header=True, index=False, sep=',')"
   ]
  },
  {
   "cell_type": "code",
   "execution_count": 11,
   "metadata": {},
   "outputs": [
    {
     "name": "stdout",
     "output_type": "stream",
     "text": [
      "Training feature and label dimension ACLT_CNTRL==>> (173, 244) (173,)\n"
     ]
    }
   ],
   "source": [
    "# Extract spectra and labels\n",
    "#X_train = train.drop(['animals','integrity','sampleClass'], axis=1)\n",
    "#X_test = test.drop(['animals','integrity','sampleClass'], axis=1)\n",
    "#y_train = train['sampleClass']\n",
    "#y_test = test['sampleClass']\n",
    "\n",
    "X_train = train.drop(['animals','integrity'], axis=1)\n",
    "X_test = test.drop(['animals','integrity'], axis=1)\n",
    "\n",
    "y_train = train['integrity']\n",
    "y_test = test['integrity']\n",
    "\n",
    "\n",
    "print('Training feature and label dimension ACLT_CNTRL==>>',X_train.shape, y_train.shape)"
   ]
  },
  {
   "cell_type": "code",
   "execution_count": 12,
   "metadata": {},
   "outputs": [
    {
     "data": {
      "text/plain": [
       "(244,)"
      ]
     },
     "execution_count": 12,
     "metadata": {},
     "output_type": "execute_result"
    }
   ],
   "source": [
    "# Create feature list (i.e., column names)\n",
    "\n",
    "wavelength = X_train.columns\n",
    "\n",
    "# Convert list to numpy array: necessary for data visualization\n",
    "wave = []\n",
    "for x in range(len(wavelength)):\n",
    "    wave.append(float(wavelength[x]))\n",
    "    \n",
    "wave = np.array(wave, dtype=float)  \n",
    "wave.shape\n"
   ]
  },
  {
   "cell_type": "code",
   "execution_count": null,
   "metadata": {},
   "outputs": [],
   "source": [
    "# Let's visualize some spectra\n",
    "num_plots = 15\n",
    "train_features = train_features.values\n",
    "test_features = test_features.values\n",
    "\n",
    "for x in range(num_plots):\n",
    "    plt.plot(wave,train_features[x,:],'r')\n",
    "    \n",
    "for x in range(num_plots):\n",
    "    plt.plot(wave,test_features[x,:],'b')\n",
    "    \n",
    "plt.xlabel('Wavelength (nm)')\n",
    "plt.ylabel('Absorbance (AU)')\n",
    "plt.title('Spectral plots of some training and test rabbit samples')\n",
    "plt.show()\n"
   ]
  },
  {
   "cell_type": "code",
   "execution_count": 13,
   "metadata": {},
   "outputs": [
    {
     "data": {
      "text/plain": [
       "(173, 244)"
      ]
     },
     "execution_count": 13,
     "metadata": {},
     "output_type": "execute_result"
    }
   ],
   "source": [
    "'''\n",
    "Let's apply some smoothing filter of:\n",
    "    - window_length = 9 \n",
    "    - polynomial_degree = 2 \n",
    "    - Use the defaults for all other parameters.\n",
    "'''\n",
    "\n",
    "X_train_sm = savgol_filter(X_train, 9, 2, deriv=0, axis=0)\n",
    "X_test_sm = savgol_filter(X_test, 9, 2, deriv=0, axis=0)\n",
    "\n",
    "X_train_d1 = savgol_filter(X_train, 9, 2, deriv=1, axis=0)\n",
    "X_test_d1 = savgol_filter(X_test, 9, 2, deriv=1, axis=0)\n",
    "\n",
    "X_train_sm.shape"
   ]
  },
  {
   "cell_type": "code",
   "execution_count": null,
   "metadata": {},
   "outputs": [],
   "source": [
    "# Let's visualize the smoothed spectra\n",
    "num_plots = 15\n",
    "\n",
    "for x in range(num_plots):\n",
    "    plt.plot(wave,train_features_sm[x,:],'r')\n",
    "    \n",
    "for x in range(num_plots):\n",
    "    plt.plot(wave,test_features_sm[x,:],'b')\n",
    "    \n",
    "plt.xlabel('Wavelength (nm)')\n",
    "plt.ylabel('Absorbance (AU)')\n",
    "plt.title('Smoothed spectral plots of some training and test rabbit samples')\n",
    "plt.show()"
   ]
  },
  {
   "cell_type": "code",
   "execution_count": 14,
   "metadata": {},
   "outputs": [
    {
     "name": "stdout",
     "output_type": "stream",
     "text": [
      "8 148\n",
      "(173, 140) (173, 140)\n"
     ]
    }
   ],
   "source": [
    "# Trim spectra: 1000 - 1900 nm\n",
    "a = np.where(wave == 995.43) #a = np.where(wave == 1047.7)\n",
    "b = np.where(wave == 1899.5)\n",
    "print(a[0][0], b[0][0])\n",
    "\n",
    "X_train_sm = X_train_sm[:,a[0][0]:b[0][0]]\n",
    "X_test_sm = X_test_sm[:,a[0][0]:b[0][0]]\n",
    "\n",
    "X_train_d1 = X_train_d1[:,a[0][0]:b[0][0]]\n",
    "X_test_d1 = X_test_d1[:,a[0][0]:b[0][0]]\n",
    "\n",
    "wave_trim = wave[a[0][0]:b[0][0]]\n",
    "\n",
    "print(X_train_sm.shape, X_train_d1.shape)"
   ]
  },
  {
   "cell_type": "code",
   "execution_count": null,
   "metadata": {},
   "outputs": [],
   "source": [
    "# Let's visualize the trimmed spectra\n",
    "num_plots = 35\n",
    "\n",
    "for x in range(num_plots):\n",
    "    plt.plot(wave_trim,X_train_sm[x,:],'r')\n",
    "    \n",
    "for x in range(num_plots):\n",
    "    plt.plot(wave_trim,X_test_sm[x,:],'b')\n",
    "    \n",
    "plt.xlim(right=1900, left=1000)\n",
    "plt.ylim(top=4, bottom=0.5)\n",
    "plt.xlabel('Wavelength (nm)')\n",
    "plt.ylabel('Absorbance (AU)')\n",
    "plt.title('Spectral plots of some training and test rabbit samples')\n",
    "plt.show()"
   ]
  },
  {
   "cell_type": "code",
   "execution_count": 15,
   "metadata": {},
   "outputs": [
    {
     "name": "stdout",
     "output_type": "stream",
     "text": [
      "label classes ==>> ['A' 'N']\n"
     ]
    },
    {
     "data": {
      "text/plain": [
       "array([0, 0, 0, 0, 0, 0, 0, 0, 0, 0, 0, 0, 0, 0, 0, 0, 0, 0, 0, 0, 0, 1,\n",
       "       1, 1, 1, 1, 1, 1, 1, 1, 1, 1, 1, 1, 1, 1, 1, 1, 1, 1, 1, 1, 1])"
      ]
     },
     "execution_count": 15,
     "metadata": {},
     "output_type": "execute_result"
    }
   ],
   "source": [
    "# Convert test labels into array for modeling\n",
    "\n",
    "le = preprocessing.LabelEncoder()\n",
    "le.fit(y_train)\n",
    "print('label classes ==>>',le.classes_)\n",
    "\n",
    "y_train_label = le.transform(y_train)\n",
    "y_test_label = le.transform(y_test)\n",
    "\n",
    "y_test_label\n",
    "# Save data as csv\n",
    "#np.savetxt('spectra/aclt_cntrl_train_label.csv', y_train_label, delimiter=',')\n",
    "#np.savetxt('spectra/aclt_cntrl_test_label.csv', y_test_label, delimiter=',')\n"
   ]
  },
  {
   "cell_type": "markdown",
   "metadata": {},
   "source": [
    "## Create Classification Models\n",
    "\n",
    "The following algorithms will be used to develop models for classification of ACLT and CNTRL cartilage samples from their NIR spectra. The models' their hyper-parameters will be tuned using with GridSearchCV.\n",
    "\n",
    "- Support Vector Classifier \n",
    "    1. With smoothed features\n",
    "    2. With dimension-reduced latent variables\n",
    " \n",
    " \n",
    "- Logistic Regression\n",
    "\n",
    "\n",
    "- Neural Network Classifier\n",
    "\n",
    "\n",
    "- Ensemble \n",
    "    1. Gradient Boosting Classifier\n",
    "    2. Random Forest Classifier\n",
    "\n",
    "\n",
    "- Multivariate Classifier (as baseline method)\n",
    "    1. PCA\n",
    "    2. PLSDA\n",
    "\n",
    "    "
   ]
  },
  {
   "cell_type": "markdown",
   "metadata": {},
   "source": [
    "## 1. Support Vector Classification"
   ]
  },
  {
   "cell_type": "code",
   "execution_count": 20,
   "metadata": {},
   "outputs": [
    {
     "name": "stdout",
     "output_type": "stream",
     "text": [
      "# Tuning hyper-parameters for precision\n",
      "\n",
      "Best parameters set found on development set:\n",
      "\n",
      "{'C': 10, 'kernel': 'linear'}\n",
      "\n",
      "Grid scores on development set:\n",
      "\n",
      "0.257 (+/-0.000) for {'C': 1, 'gamma': 0.001, 'kernel': 'rbf'}\n",
      "0.257 (+/-0.000) for {'C': 1, 'gamma': 0.0001, 'kernel': 'rbf'}\n",
      "0.362 (+/-0.414) for {'C': 10, 'gamma': 0.001, 'kernel': 'rbf'}\n",
      "0.257 (+/-0.000) for {'C': 10, 'gamma': 0.0001, 'kernel': 'rbf'}\n",
      "0.476 (+/-0.439) for {'C': 100, 'gamma': 0.001, 'kernel': 'rbf'}\n",
      "0.362 (+/-0.414) for {'C': 100, 'gamma': 0.0001, 'kernel': 'rbf'}\n",
      "0.528 (+/-0.413) for {'C': 1000, 'gamma': 0.001, 'kernel': 'rbf'}\n",
      "0.476 (+/-0.439) for {'C': 1000, 'gamma': 0.0001, 'kernel': 'rbf'}\n",
      "0.487 (+/-0.434) for {'C': 1, 'kernel': 'linear'}\n",
      "0.663 (+/-0.327) for {'C': 10, 'kernel': 'linear'}\n",
      "0.637 (+/-0.332) for {'C': 20, 'kernel': 'linear'}\n",
      "0.613 (+/-0.255) for {'C': 100, 'kernel': 'linear'}\n",
      "0.257 (+/-0.000) for {'C': 1, 'kernel': 'sigmoid'}\n",
      "0.257 (+/-0.000) for {'C': 10, 'kernel': 'sigmoid'}\n",
      "0.326 (+/-0.284) for {'C': 100, 'kernel': 'sigmoid'}\n",
      "0.528 (+/-0.214) for {'C': 1000, 'kernel': 'sigmoid'}\n",
      "\n",
      "Detailed classification report:\n",
      "\n",
      "The model is trained on the full development set.\n",
      "The scores are computed on the full evaluation set.\n",
      "\n",
      "              precision    recall  f1-score   support\n",
      "\n",
      "        ACLT       0.99      0.99      0.99        84\n",
      "       CNTRL       0.99      0.99      0.99        89\n",
      "\n",
      "   micro avg       0.99      0.99      0.99       173\n",
      "   macro avg       0.99      0.99      0.99       173\n",
      "weighted avg       0.99      0.99      0.99       173\n",
      "\n",
      "Confusion matrix, without normalization\n",
      "[[83  1]\n",
      " [ 1 88]]\n"
     ]
    },
    {
     "data": {
      "image/png": "[encoded data removed]",
      "text/plain": [
       "<Figure size 432x288 with 2 Axes>"
      ]
     },
     "metadata": {
      "needs_background": "light"
     },
     "output_type": "display_data"
    },
    {
     "name": "stdout",
     "output_type": "stream",
     "text": [
      "\n",
      "# Tuning hyper-parameters for recall\n",
      "\n",
      "Best parameters set found on development set:\n",
      "\n",
      "{'C': 10, 'kernel': 'linear'}\n",
      "\n",
      "Grid scores on development set:\n",
      "\n",
      "0.500 (+/-0.000) for {'C': 1, 'gamma': 0.001, 'kernel': 'rbf'}\n",
      "0.500 (+/-0.000) for {'C': 1, 'gamma': 0.0001, 'kernel': 'rbf'}\n",
      "0.512 (+/-0.047) for {'C': 10, 'gamma': 0.001, 'kernel': 'rbf'}\n",
      "0.500 (+/-0.000) for {'C': 10, 'gamma': 0.0001, 'kernel': 'rbf'}\n",
      "0.519 (+/-0.295) for {'C': 100, 'gamma': 0.001, 'kernel': 'rbf'}\n",
      "0.512 (+/-0.047) for {'C': 100, 'gamma': 0.0001, 'kernel': 'rbf'}\n",
      "0.524 (+/-0.374) for {'C': 1000, 'gamma': 0.001, 'kernel': 'rbf'}\n",
      "0.519 (+/-0.295) for {'C': 1000, 'gamma': 0.0001, 'kernel': 'rbf'}\n",
      "0.489 (+/-0.378) for {'C': 1, 'kernel': 'linear'}\n",
      "0.630 (+/-0.292) for {'C': 10, 'kernel': 'linear'}\n",
      "0.607 (+/-0.287) for {'C': 20, 'kernel': 'linear'}\n",
      "0.601 (+/-0.249) for {'C': 100, 'kernel': 'linear'}\n",
      "0.500 (+/-0.000) for {'C': 1, 'kernel': 'sigmoid'}\n",
      "0.500 (+/-0.000) for {'C': 10, 'kernel': 'sigmoid'}\n",
      "0.521 (+/-0.087) for {'C': 100, 'kernel': 'sigmoid'}\n",
      "0.511 (+/-0.152) for {'C': 1000, 'kernel': 'sigmoid'}\n",
      "\n",
      "Detailed classification report:\n",
      "\n",
      "The model is trained on the full development set.\n",
      "The scores are computed on the full evaluation set.\n",
      "\n",
      "              precision    recall  f1-score   support\n",
      "\n",
      "        ACLT       0.99      0.99      0.99        84\n",
      "       CNTRL       0.99      0.99      0.99        89\n",
      "\n",
      "   micro avg       0.99      0.99      0.99       173\n",
      "   macro avg       0.99      0.99      0.99       173\n",
      "weighted avg       0.99      0.99      0.99       173\n",
      "\n",
      "Confusion matrix, without normalization\n",
      "[[83  1]\n",
      " [ 1 88]]\n"
     ]
    },
    {
     "data": {
      "image/png": "[encoded data removed]",
      "text/plain": [
       "<Figure size 432x288 with 2 Axes>"
      ]
     },
     "metadata": {
      "needs_background": "light"
     },
     "output_type": "display_data"
    },
    {
     "name": "stdout",
     "output_type": "stream",
     "text": [
      "\n"
     ]
    }
   ],
   "source": [
    "'''\n",
    "Support Vector Classification with GridSearch \n",
    "Parameters will be set by cross-validation (GridSearchCV)\n",
    ": Training features = smoothed spectra\n",
    "''' \n",
    "\n",
    "tuned_parameters = [\n",
    "    {'kernel': ['rbf'], 'gamma': [1e-3, 1e-4],'C': [1, 10, 100, 1000]},\n",
    "    {'kernel': ['linear'], 'C': [1, 10, 20,100]},\n",
    "    {'kernel': ['sigmoid'], 'C': [1, 10, 100, 1000]}\n",
    "    ]\n",
    "\n",
    "scores = ['precision', 'recall']\n",
    "classes = ['ACLT', 'CNTRL']\n",
    "\n",
    "for score in scores:\n",
    "    print(\"# Tuning hyper-parameters for %s\" % score)\n",
    "    print()\n",
    "\n",
    "    clf = GridSearchCV(SVC(), tuned_parameters, cv=5,\n",
    "                       scoring='%s_macro' % score)\n",
    "    clf.fit(X_train_sm, y_train_label)\n",
    "\n",
    "    print(\"Best parameters set found on development set:\")\n",
    "    print()\n",
    "    print(clf.best_params_)\n",
    "    print()\n",
    "    print(\"Grid scores on development set:\")\n",
    "    print()\n",
    "    \n",
    "    means = clf.cv_results_['mean_test_score']\n",
    "    stds = clf.cv_results_['std_test_score']\n",
    "    \n",
    "    for mean, std, params in zip(means, stds, clf.cv_results_['params']):\n",
    "        print(\"%0.3f (+/-%0.03f) for %r\"\n",
    "              % (mean, std * 2, params))\n",
    "    print()\n",
    "\n",
    "    print(\"Detailed classification report:\")\n",
    "    print()\n",
    "    print(\"The model is trained on the full development set.\")\n",
    "    print(\"The scores are computed on the full evaluation set.\")\n",
    "    print()\n",
    "    \n",
    "    # evaluate model on same training set\n",
    "    y_true, y_pred = y_train_label, clf.predict(X_train_sm)\n",
    "    \n",
    "    print(classification_report(y_true, y_pred,target_names = classes))\n",
    "    cm = confusion_matrix(y_true, y_pred)\n",
    "    # Plot non-normalized confusion matrix\n",
    "    plt.figure()\n",
    "    plot_confusion_matrix(cm, classes=classes,# normalize=True\n",
    "                          title='CM of model estimation on training data')\n",
    "    plt.show()\n",
    "    print()\n",
    "    "
   ]
  },
  {
   "cell_type": "code",
   "execution_count": 21,
   "metadata": {},
   "outputs": [
    {
     "name": "stdout",
     "output_type": "stream",
     "text": [
      "ROC_AUC = 0.99 \n"
     ]
    }
   ],
   "source": [
    "# Build model using optimal parameters\n",
    "clf = SVC(C=10,kernel='linear')\n",
    "clf.fit(X_train_sm, y_train_label)\n",
    "\n",
    "# evaluate model on same training set\n",
    "y_true, y_pred = y_train_label, clf.predict(X_train_sm)\n",
    "y_true = pd.DataFrame(data=y_true)\n",
    "y_pred = pd.DataFrame(data=y_pred)\n",
    "svm_calib_output = pd.concat([y_true, y_pred], axis=1)\n",
    "#svm_calib_output.head(3)\n",
    "#export 'svm_calib_output_cl-cntrl' to csv\n",
    "print('ROC_AUC = %.2f ' %(roc_auc_score(y_train_label, y_pred)))"
   ]
  },
  {
   "cell_type": "code",
   "execution_count": 22,
   "metadata": {},
   "outputs": [
    {
     "name": "stdout",
     "output_type": "stream",
     "text": [
      "              precision    recall  f1-score   support\n",
      "\n",
      "        ACLT       0.95      0.90      0.93        21\n",
      "       CNTRL       0.91      0.95      0.93        22\n",
      "\n",
      "   micro avg       0.93      0.93      0.93        43\n",
      "   macro avg       0.93      0.93      0.93        43\n",
      "weighted avg       0.93      0.93      0.93        43\n",
      "\n",
      "Confusion matrix, without normalization\n",
      "[[19  2]\n",
      " [ 1 21]]\n"
     ]
    },
    {
     "data": {
      "image/png": "[encoded data removed]",
      "text/plain": [
       "<Figure size 432x288 with 2 Axes>"
      ]
     },
     "metadata": {
      "needs_background": "light"
     },
     "output_type": "display_data"
    },
    {
     "name": "stdout",
     "output_type": "stream",
     "text": [
      "ROC_AUC = 0.93, kappa = 0.86\n"
     ]
    }
   ],
   "source": [
    "# evaluate model on test set\n",
    "y_true, y_pred = y_test_label, clf.predict(X_test_sm)\n",
    "print(classification_report(y_true, y_pred,target_names = classes))\n",
    "    \n",
    "cm = confusion_matrix(y_true, y_pred)\n",
    "fig = plt.figure()\n",
    "plot_confusion_matrix(cm, classes=classes,# normalize=True\n",
    "                      title='CM of SVM model: smoothed test spectra')\n",
    "plt.show()\n",
    "fig.savefig('figs/CM_svm_aclt-cntrl_9_2_sm.eps', format='eps', dpi=300)\n",
    "\n",
    "y_true = pd.DataFrame(data=y_true)\n",
    "y_pred = pd.DataFrame(data=y_pred)\n",
    "svm_test_output = pd.concat([y_true, y_pred], axis=1)\n",
    "#svm_test_output.head()\n",
    "#export 'svm_test_output_cl-cntrl' to csv\n",
    "print('ROC_AUC = %.2f, kappa = %.2f' %(roc_auc_score(y_test_label, y_pred), \n",
    "                                   cohen_kappa_score(y_test_label, y_pred)))"
   ]
  },
  {
   "cell_type": "code",
   "execution_count": null,
   "metadata": {},
   "outputs": [],
   "source": [
    "y_true, y_pred = y_test_label, clf.predict(X_test_sm)\n",
    "print(classification_report(y_true, y_pred,target_names = classes))"
   ]
  },
  {
   "cell_type": "markdown",
   "metadata": {},
   "source": [
    "### Visualize the most important spectral variables (features) to the classifier?"
   ]
  },
  {
   "cell_type": "code",
   "execution_count": 23,
   "metadata": {},
   "outputs": [],
   "source": [
    "coef = clf.coef_[0]\n",
    "#coef.shape\n",
    "coef_sc = coef/np.max(coef)"
   ]
  },
  {
   "cell_type": "code",
   "execution_count": 25,
   "metadata": {},
   "outputs": [
    {
     "data": {
      "image/png": "[encoded data removed]",
      "text/plain": [
       "<Figure size 432x288 with 1 Axes>"
      ]
     },
     "metadata": {
      "needs_background": "light"
     },
     "output_type": "display_data"
    }
   ],
   "source": [
    "fig = plt.figure()\n",
    "plt.plot(wave_trim,coef_sc)\n",
    "    \n",
    "plt.xlim(right=1900, left=1000)\n",
    "plt.xlabel('Wavelength (nm)')\n",
    "plt.ylabel('Feature Importance')\n",
    "plt.title('SVM Classifier Feature Importance')\n",
    "plt.show()\n",
    "\n",
    "fig.savefig('figs/FeatImp_svm_aclt-cntrl_9_2_sm.png', format='png', dpi=600)"
   ]
  },
  {
   "cell_type": "markdown",
   "metadata": {},
   "source": [
    "#### Using latent variables\n",
    " \n",
    "Latent variables, based on principal component analysis, will now be used instead of the actual variables"
   ]
  },
  {
   "cell_type": "code",
   "execution_count": 32,
   "metadata": {},
   "outputs": [
    {
     "name": "stdout",
     "output_type": "stream",
     "text": [
      "(519, 8) (129, 8)\n"
     ]
    }
   ],
   "source": [
    "# Fit to data and predict using pipelined scaling and PCA (with 8 components).\n",
    "std_clf = make_pipeline(StandardScaler(), PCA(n_components=8))\n",
    "std_clf.fit(X_train_sm)\n",
    "\n",
    "# Extract PCA from pipeline\n",
    "pca_std = std_clf.named_steps['pca']\n",
    "\n",
    "# 1st PCA axis (basically, loadings directions)\n",
    "#X_train_sm_ax = pca_std.components[0]\n",
    "#print('\\nPC 1 with scaling:\\n', X_train_sm_ax)\n",
    "\n",
    "# Scale and use PCA on train and test features \n",
    "scaler = std_clf.named_steps['standardscaler']\n",
    "X_train_sm_sc = pca_std.transform(scaler.transform(X_train_sm))\n",
    "X_test_sm_sc = pca_std.transform(scaler.transform(X_test_sm))\n",
    "\n",
    "print(X_train_sm_sc.shape, X_test_sm_sc.shape)"
   ]
  },
  {
   "cell_type": "code",
   "execution_count": 33,
   "metadata": {},
   "outputs": [
    {
     "name": "stdout",
     "output_type": "stream",
     "text": [
      "(8, 140)\n",
      "(519, 140)\n"
     ]
    },
    {
     "data": {
      "text/plain": [
       "array([0.79828422, 0.07553364, 0.04798209, 0.02315502, 0.00892979,\n",
       "       0.00559307, 0.00457832, 0.0033204 ])"
      ]
     },
     "execution_count": 33,
     "metadata": {},
     "output_type": "execute_result"
    }
   ],
   "source": [
    "print(pca_std.components_.shape)\n",
    "print(X_train_sm.shape)\n",
    "pca_std.explained_variance_ratio_\n"
   ]
  },
  {
   "cell_type": "code",
   "execution_count": 34,
   "metadata": {},
   "outputs": [
    {
     "name": "stdout",
     "output_type": "stream",
     "text": [
      "# Tuning hyper-parameters for precision\n",
      "\n",
      "Best parameters set found on development set:\n",
      "\n",
      "{'C': 1, 'kernel': 'linear'}\n",
      "\n",
      "Grid scores on development set:\n",
      "\n",
      "0.500 (+/-0.324) for {'C': 1, 'gamma': 0.001, 'kernel': 'rbf'}\n",
      "0.251 (+/-0.023) for {'C': 1, 'gamma': 0.0001, 'kernel': 'rbf'}\n",
      "0.555 (+/-0.206) for {'C': 10, 'gamma': 0.001, 'kernel': 'rbf'}\n",
      "0.513 (+/-0.321) for {'C': 10, 'gamma': 0.0001, 'kernel': 'rbf'}\n",
      "0.548 (+/-0.162) for {'C': 100, 'gamma': 0.001, 'kernel': 'rbf'}\n",
      "0.561 (+/-0.211) for {'C': 100, 'gamma': 0.0001, 'kernel': 'rbf'}\n",
      "0.548 (+/-0.103) for {'C': 1000, 'gamma': 0.001, 'kernel': 'rbf'}\n",
      "0.556 (+/-0.190) for {'C': 1000, 'gamma': 0.0001, 'kernel': 'rbf'}\n",
      "0.564 (+/-0.193) for {'C': 1, 'kernel': 'linear'}\n",
      "0.562 (+/-0.197) for {'C': 10, 'kernel': 'linear'}\n",
      "0.562 (+/-0.197) for {'C': 20, 'kernel': 'linear'}\n",
      "0.562 (+/-0.197) for {'C': 100, 'kernel': 'linear'}\n",
      "0.546 (+/-0.043) for {'C': 1, 'kernel': 'sigmoid'}\n",
      "0.545 (+/-0.061) for {'C': 10, 'kernel': 'sigmoid'}\n",
      "0.549 (+/-0.055) for {'C': 100, 'kernel': 'sigmoid'}\n",
      "0.549 (+/-0.055) for {'C': 1000, 'kernel': 'sigmoid'}\n",
      "\n",
      "Detailed classification report:\n",
      "\n",
      "The model is trained on the full development set.\n",
      "The scores are computed on the full evaluation set.\n",
      "\n",
      "              precision    recall  f1-score   support\n",
      "\n",
      "        ACLT       0.72      0.65      0.68       252\n",
      "       CNTRL       0.70      0.76      0.73       267\n",
      "\n",
      "   micro avg       0.71      0.71      0.71       519\n",
      "   macro avg       0.71      0.71      0.71       519\n",
      "weighted avg       0.71      0.71      0.71       519\n",
      "\n",
      "Confusion matrix, without normalization\n",
      "[[163  89]\n",
      " [ 63 204]]\n"
     ]
    },
    {
     "data": {
      "image/png": "[encoded data removed]",
      "text/plain": [
       "<Figure size 432x288 with 2 Axes>"
      ]
     },
     "metadata": {
      "needs_background": "light"
     },
     "output_type": "display_data"
    },
    {
     "name": "stdout",
     "output_type": "stream",
     "text": [
      "\n",
      "# Tuning hyper-parameters for recall\n",
      "\n",
      "Best parameters set found on development set:\n",
      "\n",
      "{'C': 10, 'gamma': 0.0001, 'kernel': 'rbf'}\n",
      "\n",
      "Grid scores on development set:\n",
      "\n",
      "0.547 (+/-0.217) for {'C': 1, 'gamma': 0.001, 'kernel': 'rbf'}\n",
      "0.479 (+/-0.082) for {'C': 1, 'gamma': 0.0001, 'kernel': 'rbf'}\n",
      "0.551 (+/-0.194) for {'C': 10, 'gamma': 0.001, 'kernel': 'rbf'}\n",
      "0.554 (+/-0.191) for {'C': 10, 'gamma': 0.0001, 'kernel': 'rbf'}\n",
      "0.547 (+/-0.159) for {'C': 100, 'gamma': 0.001, 'kernel': 'rbf'}\n",
      "0.551 (+/-0.180) for {'C': 100, 'gamma': 0.0001, 'kernel': 'rbf'}\n",
      "0.546 (+/-0.102) for {'C': 1000, 'gamma': 0.001, 'kernel': 'rbf'}\n",
      "0.547 (+/-0.163) for {'C': 1000, 'gamma': 0.0001, 'kernel': 'rbf'}\n",
      "0.553 (+/-0.169) for {'C': 1, 'kernel': 'linear'}\n",
      "0.551 (+/-0.173) for {'C': 10, 'kernel': 'linear'}\n",
      "0.551 (+/-0.173) for {'C': 20, 'kernel': 'linear'}\n",
      "0.551 (+/-0.173) for {'C': 100, 'kernel': 'linear'}\n",
      "0.545 (+/-0.043) for {'C': 1, 'kernel': 'sigmoid'}\n",
      "0.543 (+/-0.060) for {'C': 10, 'kernel': 'sigmoid'}\n",
      "0.547 (+/-0.054) for {'C': 100, 'kernel': 'sigmoid'}\n",
      "0.547 (+/-0.054) for {'C': 1000, 'kernel': 'sigmoid'}\n",
      "\n",
      "Detailed classification report:\n",
      "\n",
      "The model is trained on the full development set.\n",
      "The scores are computed on the full evaluation set.\n",
      "\n",
      "              precision    recall  f1-score   support\n",
      "\n",
      "        ACLT       0.70      0.50      0.58       252\n",
      "       CNTRL       0.63      0.80      0.70       267\n",
      "\n",
      "   micro avg       0.65      0.65      0.65       519\n",
      "   macro avg       0.66      0.65      0.64       519\n",
      "weighted avg       0.66      0.65      0.64       519\n",
      "\n",
      "Confusion matrix, without normalization\n",
      "[[125 127]\n",
      " [ 54 213]]\n"
     ]
    },
    {
     "data": {
      "image/png": "[encoded data removed]",
      "text/plain": [
       "<Figure size 432x288 with 2 Axes>"
      ]
     },
     "metadata": {
      "needs_background": "light"
     },
     "output_type": "display_data"
    },
    {
     "name": "stdout",
     "output_type": "stream",
     "text": [
      "\n"
     ]
    }
   ],
   "source": [
    "'''\n",
    "Support Vector Classification with GridSearch on latent variables based on \n",
    "PCA score with standardization.\n",
    "Parameters will be set by cross-validation (GridSearchCV)\n",
    "''' \n",
    "tuned_parameters = [\n",
    "    {'kernel': ['rbf'], 'gamma': [1e-3, 1e-4],'C': [1, 10, 100, 1000]},\n",
    "    {'kernel': ['linear'], 'C': [1, 10, 20,100]},\n",
    "    {'kernel': ['sigmoid'], 'C': [1, 10, 100, 1000]}\n",
    "    ]\n",
    "\n",
    "scores = ['precision', 'recall']\n",
    "classes = ['ACLT', 'CNTRL']\n",
    "\n",
    "for score in scores:\n",
    "    print(\"# Tuning hyper-parameters for %s\" % score)\n",
    "    print()\n",
    "\n",
    "    clf = GridSearchCV(SVC(), tuned_parameters, cv=5,\n",
    "                       scoring='%s_macro' % score)\n",
    "    clf.fit(X_train_sm_sc, y_train_label)\n",
    "\n",
    "    print(\"Best parameters set found on development set:\")\n",
    "    print()\n",
    "    print(clf.best_params_)\n",
    "    print()\n",
    "    print(\"Grid scores on development set:\")\n",
    "    print()\n",
    "    \n",
    "    means = clf.cv_results_['mean_test_score']\n",
    "    stds = clf.cv_results_['std_test_score']\n",
    "    \n",
    "    for mean, std, params in zip(means, stds, clf.cv_results_['params']):\n",
    "        print(\"%0.3f (+/-%0.03f) for %r\"\n",
    "              % (mean, std * 2, params))\n",
    "    print()\n",
    "\n",
    "    print(\"Detailed classification report:\")\n",
    "    print()\n",
    "    print(\"The model is trained on the full development set.\")\n",
    "    print(\"The scores are computed on the full evaluation set.\")\n",
    "    print()\n",
    "    # evaluate model on same training set\n",
    "    y_true, y_pred = y_train_label, clf.predict(X_train_sm_sc)\n",
    "    print(classification_report(y_true, y_pred,target_names = classes))\n",
    "    \n",
    "    cm = confusion_matrix(y_true, y_pred)\n",
    "    plt.figure()\n",
    "    plot_confusion_matrix(cm, classes=classes,# normalize=True\n",
    "                          title='CM of model estimation on training data')\n",
    "    plt.show()\n",
    "    print()\n"
   ]
  },
  {
   "cell_type": "code",
   "execution_count": 35,
   "metadata": {},
   "outputs": [
    {
     "name": "stdout",
     "output_type": "stream",
     "text": [
      "ROC_AUC = 0.65 \n"
     ]
    }
   ],
   "source": [
    "\n",
    "# Build model using optimal parameters\n",
    "clf = SVC(C=10, gamma=0.0001, kernel='rbf') #SVC(C=1, kernel='linear')#\n",
    "clf.fit(X_train_sm_sc, y_train_label)\n",
    "\n",
    "# evaluate model on same training set\n",
    "y_true, y_pred = y_train_label, clf.predict(X_train_sm_sc)\n",
    "y_true = pd.DataFrame(data=y_true)\n",
    "y_pred = pd.DataFrame(data=y_pred)\n",
    "svm_calib_output = pd.concat([y_true, y_pred], axis=1)\n",
    "#svm_calib_output.head(3)\n",
    "#export 'svm_calib_output_cl-cntrl' to csv\n",
    "print('ROC_AUC = %.2f ' %(roc_auc_score(y_train_label, y_pred)))"
   ]
  },
  {
   "cell_type": "markdown",
   "metadata": {},
   "source": [
    "SV Classifier is apparently not doing well with latent variables."
   ]
  },
  {
   "cell_type": "markdown",
   "metadata": {},
   "source": [
    "## 2. Logistic Regression"
   ]
  },
  {
   "cell_type": "code",
   "execution_count": 115,
   "metadata": {},
   "outputs": [
    {
     "name": "stdout",
     "output_type": "stream",
     "text": [
      "# Tuning hyper-parameters for precision\n",
      "\n",
      "Best parameters set found on development set:\n",
      "\n",
      "{'C': 1000, 'penalty': 'l2'}\n",
      "\n",
      "Grid scores on development set:\n",
      "\n",
      "0.243 (+/-0.000) for {'C': 0.001, 'penalty': 'l1'}\n",
      "0.257 (+/-0.000) for {'C': 0.001, 'penalty': 'l2'}\n",
      "0.243 (+/-0.000) for {'C': 0.01, 'penalty': 'l1'}\n",
      "0.472 (+/-0.522) for {'C': 0.01, 'penalty': 'l2'}\n",
      "0.254 (+/-0.012) for {'C': 0.1, 'penalty': 'l1'}\n",
      "0.486 (+/-0.472) for {'C': 0.1, 'penalty': 'l2'}\n",
      "0.460 (+/-0.498) for {'C': 1, 'penalty': 'l1'}\n",
      "0.456 (+/-0.506) for {'C': 1, 'penalty': 'l2'}\n",
      "0.475 (+/-0.330) for {'C': 10, 'penalty': 'l1'}\n",
      "0.448 (+/-0.430) for {'C': 10, 'penalty': 'l2'}\n",
      "0.526 (+/-0.184) for {'C': 100, 'penalty': 'l1'}\n",
      "0.543 (+/-0.192) for {'C': 100, 'penalty': 'l2'}\n",
      "0.558 (+/-0.329) for {'C': 1000, 'penalty': 'l1'}\n",
      "0.587 (+/-0.180) for {'C': 1000, 'penalty': 'l2'}\n",
      "\n",
      "Detailed classification report:\n",
      "\n",
      "The model is trained on the full development set.\n",
      "The scores are computed on the full evaluation set.\n",
      "\n",
      "              precision    recall  f1-score   support\n",
      "\n",
      "        ACLT       1.00      1.00      1.00        84\n",
      "       CNTRL       1.00      1.00      1.00        89\n",
      "\n",
      "   micro avg       1.00      1.00      1.00       173\n",
      "   macro avg       1.00      1.00      1.00       173\n",
      "weighted avg       1.00      1.00      1.00       173\n",
      "\n",
      "Confusion matrix, without normalization\n",
      "[[84  0]\n",
      " [ 0 89]]\n"
     ]
    },
    {
     "data": {
      "image/png": "[encoded data removed]",
      "text/plain": [
       "<Figure size 432x288 with 2 Axes>"
      ]
     },
     "metadata": {
      "needs_background": "light"
     },
     "output_type": "display_data"
    },
    {
     "name": "stdout",
     "output_type": "stream",
     "text": [
      "\n",
      "# Tuning hyper-parameters for recall\n",
      "\n",
      "Best parameters set found on development set:\n",
      "\n",
      "{'C': 0.01, 'penalty': 'l2'}\n",
      "\n",
      "Grid scores on development set:\n",
      "\n",
      "0.500 (+/-0.000) for {'C': 0.001, 'penalty': 'l1'}\n",
      "0.500 (+/-0.000) for {'C': 0.001, 'penalty': 'l2'}\n",
      "0.500 (+/-0.000) for {'C': 0.01, 'penalty': 'l1'}\n",
      "0.578 (+/-0.189) for {'C': 0.01, 'penalty': 'l2'}\n",
      "0.500 (+/-0.000) for {'C': 0.1, 'penalty': 'l1'}\n",
      "0.564 (+/-0.258) for {'C': 0.1, 'penalty': 'l2'}\n",
      "0.471 (+/-0.420) for {'C': 1, 'penalty': 'l1'}\n",
      "0.476 (+/-0.413) for {'C': 1, 'penalty': 'l2'}\n",
      "0.474 (+/-0.317) for {'C': 10, 'penalty': 'l1'}\n",
      "0.472 (+/-0.381) for {'C': 10, 'penalty': 'l2'}\n",
      "0.524 (+/-0.182) for {'C': 100, 'penalty': 'l1'}\n",
      "0.543 (+/-0.186) for {'C': 100, 'penalty': 'l2'}\n",
      "0.561 (+/-0.324) for {'C': 1000, 'penalty': 'l1'}\n",
      "0.577 (+/-0.167) for {'C': 1000, 'penalty': 'l2'}\n",
      "\n",
      "Detailed classification report:\n",
      "\n",
      "The model is trained on the full development set.\n",
      "The scores are computed on the full evaluation set.\n",
      "\n",
      "              precision    recall  f1-score   support\n",
      "\n",
      "        ACLT       0.85      0.20      0.33        84\n",
      "       CNTRL       0.56      0.97      0.71        89\n",
      "\n",
      "   micro avg       0.60      0.60      0.60       173\n",
      "   macro avg       0.71      0.58      0.52       173\n",
      "weighted avg       0.70      0.60      0.52       173\n",
      "\n",
      "Confusion matrix, without normalization\n",
      "[[17 67]\n",
      " [ 3 86]]\n"
     ]
    },
    {
     "data": {
      "image/png": "[encoded data removed]",
      "text/plain": [
       "<Figure size 432x288 with 2 Axes>"
      ]
     },
     "metadata": {
      "needs_background": "light"
     },
     "output_type": "display_data"
    },
    {
     "name": "stdout",
     "output_type": "stream",
     "text": [
      "\n"
     ]
    }
   ],
   "source": [
    "'''\n",
    "Logistic Regression with parameters set by cross-validation (GridSearchCV)\n",
    "''' \n",
    "tuned_parameters = [{'penalty': ['l1','l2'], 'C': [0.001,0.01,0.1,1,10,100,1000]}]\n",
    "\n",
    "scores = ['precision', 'recall']\n",
    "classes = ['ACLT', 'CNTRL']\n",
    "\n",
    "for score in scores:\n",
    "    print(\"# Tuning hyper-parameters for %s\" % score)\n",
    "    print()\n",
    "\n",
    "    clf = GridSearchCV(LogisticRegression(random_state=0), tuned_parameters, cv=5,\n",
    "                       scoring='%s_macro' % score)\n",
    "    clf.fit(X_train_sm, y_train_label)\n",
    "\n",
    "    print(\"Best parameters set found on development set:\")\n",
    "    print()\n",
    "    print(clf.best_params_)\n",
    "    print()\n",
    "    print(\"Grid scores on development set:\")\n",
    "    print()\n",
    "    \n",
    "    means = clf.cv_results_['mean_test_score']\n",
    "    stds = clf.cv_results_['std_test_score']\n",
    "    \n",
    "    for mean, std, params in zip(means, stds, clf.cv_results_['params']):\n",
    "        print(\"%0.3f (+/-%0.03f) for %r\"\n",
    "              % (mean, std * 2, params))\n",
    "    print()\n",
    "\n",
    "    print(\"Detailed classification report:\")\n",
    "    print()\n",
    "    print(\"The model is trained on the full development set.\")\n",
    "    print(\"The scores are computed on the full evaluation set.\")\n",
    "    print()\n",
    "    # evaluate model on same training set\n",
    "    y_true, y_pred = y_train_label, clf.predict(X_train_sm)\n",
    "    print(classification_report(y_true, y_pred,target_names = classes))\n",
    "    \n",
    "    cm = confusion_matrix(y_true, y_pred)\n",
    "    plt.figure()\n",
    "    plot_confusion_matrix(cm, classes=classes,# normalize=True\n",
    "                          title='CM of model estimation on training data')\n",
    "    plt.show()\n",
    "    print()\n"
   ]
  },
  {
   "cell_type": "code",
   "execution_count": 118,
   "metadata": {},
   "outputs": [
    {
     "name": "stdout",
     "output_type": "stream",
     "text": [
      "ROC_AUC = 1.00 \n"
     ]
    }
   ],
   "source": [
    "# Re-train classifier using the optimal parameters\n",
    "clf = LogisticRegression(C=1000, penalty='l2',random_state=0)\n",
    "clf.fit(X_train_sm, y_train_label)\n",
    "\n",
    "# evaluate model on (same) training set\n",
    "y_true, y_pred = y_train_label, clf.predict(X_train_sm)\n",
    "y_true = pd.DataFrame(data=y_true)\n",
    "y_pred = pd.DataFrame(data=y_pred)\n",
    "logreg_calib_output = pd.concat([y_true, y_pred], axis=1)\n",
    "#logreg_calib_output.head(5)\n",
    "#export 'logreg_calib_output_aclt-cntrl' to csv'\n",
    "print('ROC_AUC = %.2f ' %(roc_auc_score(y_train_label, y_pred)))\n",
    "#print('ROC_AUC = %.2f, kappa = %.2f' %(roc_auc_score(y_train_label, y_pred), \n",
    "#                                  cohen_kappa_score(y_train_label, y_pred)))"
   ]
  },
  {
   "cell_type": "code",
   "execution_count": 120,
   "metadata": {},
   "outputs": [
    {
     "name": "stdout",
     "output_type": "stream",
     "text": [
      "              precision    recall  f1-score   support\n",
      "\n",
      "        ACLT       0.95      0.90      0.93        21\n",
      "       CNTRL       0.91      0.95      0.93        22\n",
      "\n",
      "   micro avg       0.93      0.93      0.93        43\n",
      "   macro avg       0.93      0.93      0.93        43\n",
      "weighted avg       0.93      0.93      0.93        43\n",
      "\n",
      "Confusion matrix, without normalization\n",
      "[[19  2]\n",
      " [ 1 21]]\n"
     ]
    },
    {
     "data": {
      "image/png": "[encoded data removed]",
      "text/plain": [
       "<Figure size 432x288 with 2 Axes>"
      ]
     },
     "metadata": {
      "needs_background": "light"
     },
     "output_type": "display_data"
    },
    {
     "name": "stdout",
     "output_type": "stream",
     "text": [
      "ROC_AUC = 0.93, kappa = 0.86\n"
     ]
    }
   ],
   "source": [
    "# evaluate model on test set\n",
    "y_true, y_pred = y_test_label, clf.predict(X_test_sm)\n",
    "print(classification_report(y_true, y_pred,target_names = classes))\n",
    "    \n",
    "cm = confusion_matrix(y_true, y_pred)\n",
    "fig = plt.figure()\n",
    "plot_confusion_matrix(cm, classes=classes,# normalize=True\n",
    "                      title='CM of logReg model: smoothed test spectra')\n",
    "plt.show()\n",
    "fig.savefig('figs/CM_lr_aclt-cntrl_9_2_sm.eps', format='eps', dpi=300)\n",
    "\n",
    "y_true = pd.DataFrame(data=y_true)\n",
    "y_pred = pd.DataFrame(data=y_pred)\n",
    "logreg_test_output = pd.concat([y_true, y_pred], axis=1)\n",
    "#logreg_test_output.head()\n",
    "#export 'logreg_calib_output_aclt-cntrl' to csv\n",
    "\n",
    "print('ROC_AUC = %.2f, kappa = %.2f' %(roc_auc_score(y_test_label, y_pred), \n",
    "                                   cohen_kappa_score(y_test_label, y_pred)))"
   ]
  },
  {
   "cell_type": "markdown",
   "metadata": {},
   "source": [
    "Logistic Regression is showing similar test performance as Support Vectors."
   ]
  },
  {
   "cell_type": "markdown",
   "metadata": {},
   "source": [
    "### What spectral variables (features) are most important in the LR classifier?"
   ]
  },
  {
   "cell_type": "code",
   "execution_count": 40,
   "metadata": {},
   "outputs": [
    {
     "data": {
      "text/plain": [
       "(140,)"
      ]
     },
     "execution_count": 40,
     "metadata": {},
     "output_type": "execute_result"
    }
   ],
   "source": [
    "coef = clf.coef_[0]\n",
    "coef.shape"
   ]
  },
  {
   "cell_type": "code",
   "execution_count": 41,
   "metadata": {},
   "outputs": [
    {
     "data": {
      "image/png": "[encoded data removed]",
      "text/plain": [
       "<Figure size 432x288 with 1 Axes>"
      ]
     },
     "metadata": {
      "needs_background": "light"
     },
     "output_type": "display_data"
    }
   ],
   "source": [
    "plt.plot(wave_trim,coef,'g')\n",
    "    \n",
    "plt.xlim(right=1900, left=1000)\n",
    "plt.xlabel('Wavelength (nm)')\n",
    "plt.ylabel('Feature Importance')\n",
    "plt.title('Logistic Regression Classifier Feature Importance')\n",
    "plt.show()"
   ]
  },
  {
   "cell_type": "markdown",
   "metadata": {},
   "source": [
    "## 3. Deep learning Classifier\n",
    "\n",
    "A deep fully connected network (`FCN` with `5`-hidden layers) and 1-dimensional convolutional neural network (`1D-CNN`) were trained in **keras**, with tensorflow backend."
   ]
  },
  {
   "cell_type": "code",
   "execution_count": 16,
   "metadata": {},
   "outputs": [],
   "source": [
    "# Run this on new MBP\n",
    "import os\n",
    "os.environ['KMP_DUPLICATE_LIB_OK']='True'"
   ]
  },
  {
   "cell_type": "code",
   "execution_count": 18,
   "metadata": {},
   "outputs": [],
   "source": [
    "# One-Hot encode y_train and y_test\n",
    "y_train_lb = np_utils.to_categorical(y_train_label, 2)\n",
    "y_test_lb = np_utils.to_categorical(y_test_label, 2)\n",
    "\n",
    "#np.savetxt('spectra/aclt_cntrl_train_label_1hot.csv', y_train_lb, delimiter=',')\n",
    "#np.savetxt('spectra/aclt_cntrl_test_label_1hot.csv', y_test_lb, delimiter=',')\n",
    "\n",
    "nb_class = 2\n",
    "nfeat = 140"
   ]
  },
  {
   "cell_type": "code",
   "execution_count": 36,
   "metadata": {},
   "outputs": [
    {
     "name": "stdout",
     "output_type": "stream",
     "text": [
      "_________________________________________________________________\n",
      "Layer (type)                 Output Shape              Param #   \n",
      "=================================================================\n",
      "dense_1 (Dense)              (None, 70)                9870      \n",
      "_________________________________________________________________\n",
      "dense_2 (Dense)              (None, 70)                4970      \n",
      "_________________________________________________________________\n",
      "dense_3 (Dense)              (None, 35)                2485      \n",
      "_________________________________________________________________\n",
      "dense_4 (Dense)              (None, 14)                504       \n",
      "_________________________________________________________________\n",
      "dropout_1 (Dropout)          (None, 14)                0         \n",
      "_________________________________________________________________\n",
      "dense_5 (Dense)              (None, 2)                 30        \n",
      "_________________________________________________________________\n",
      "activation_1 (Activation)    (None, 2)                 0         \n",
      "=================================================================\n",
      "Total params: 17,859\n",
      "Trainable params: 17,859\n",
      "Non-trainable params: 0\n",
      "_________________________________________________________________\n",
      "None\n"
     ]
    }
   ],
   "source": [
    "# define network architecture for smoothed spectra\n",
    "K.clear_session()\n",
    "model = Sequential()\n",
    "model.add(Dense(70, input_dim=nfeat, activation=\"tanh\",kernel_initializer=\"glorot_uniform\"))\n",
    "model.add(Dense(70, activation=\"tanh\"))\n",
    "model.add(Dense(35, activation=\"tanh\"))\n",
    "model.add(Dense(14, activation=\"tanh\"))\n",
    "model.add(Dropout(0.4))\n",
    "model.add(Dense(nb_class))\n",
    "model.add(Activation(\"softmax\"))\n",
    "\n",
    "print(model.summary())"
   ]
  },
  {
   "cell_type": "code",
   "execution_count": 41,
   "metadata": {},
   "outputs": [
    {
     "data": {
      "image/png": "[encoded data removed]",
      "text/plain": [
       "<Figure size 432x288 with 1 Axes>"
      ]
     },
     "metadata": {
      "needs_background": "light"
     },
     "output_type": "display_data"
    }
   ],
   "source": [
    "# Train model using SGD/Adam Optimizer and binary_crossentropy loss function\n",
    "nb_epoch=500\n",
    "adam = Adam(lr=0.001)# sgd = SGD(lr=0.001)\n",
    "model.compile(loss=\"binary_crossentropy\", optimizer=adam, metrics=['acc'])\n",
    "hist = model.fit(X_train_sm, y_train_lb, \n",
    "                 epochs=nb_epoch, validation_data=(X_test_sm, y_test_lb),\n",
    "                 batch_size=32, verbose=0)\n",
    "\n",
    "# Plot training & validation accuracy values\n",
    "plt.plot(hist.history['acc'])\n",
    "plt.plot(hist.history['val_acc'])\n",
    "plt.title('Model accuracy')\n",
    "plt.ylabel('Accuracy')\n",
    "plt.xlabel('Epoch')\n",
    "plt.legend(['Train', 'Validation'], loc='upper left')\n",
    "plt.show()"
   ]
  },
  {
   "cell_type": "code",
   "execution_count": 44,
   "metadata": {},
   "outputs": [
    {
     "name": "stdout",
     "output_type": "stream",
     "text": [
      "              precision    recall  f1-score   support\n",
      "\n",
      "        ACLT       1.00      0.81      0.89        21\n",
      "       CNTRL       0.85      1.00      0.92        22\n",
      "\n",
      "   micro avg       0.91      0.91      0.91        43\n",
      "   macro avg       0.92      0.90      0.91        43\n",
      "weighted avg       0.92      0.91      0.91        43\n",
      "\n",
      "Confusion matrix, without normalization\n",
      "[[17  4]\n",
      " [ 0 22]]\n"
     ]
    },
    {
     "data": {
      "image/png": "[encoded data removed]",
      "text/plain": [
       "<Figure size 432x288 with 2 Axes>"
      ]
     },
     "metadata": {
      "needs_background": "light"
     },
     "output_type": "display_data"
    }
   ],
   "source": [
    "prediction = []\n",
    "for x in range(len(X_test_sm)):\n",
    "    probs = model.predict(X_test_sm)[x]\n",
    "    prediction.append(probs.argmax(axis=0))\n",
    "\n",
    "#print('Probabilities:',probs)\n",
    "#print('Prediction:',prediction)\n",
    "#prediction\n",
    "\n",
    "# evaluate model on test set\n",
    "classes = ['ACLT', 'CNTRL']\n",
    "y_true, y_pred = y_test_label, prediction\n",
    "print(classification_report(y_true, y_pred,target_names = classes))\n",
    "    \n",
    "cm = confusion_matrix(y_true, y_pred)\n",
    "fig = plt.figure()\n",
    "plot_confusion_matrix(cm, classes=classes,# normalize=True\n",
    "                      title='CM of DNN (smoothed spectra)')\n",
    "plt.show()\n",
    "fig.savefig('figs/CM_dnn_aclt-cntrl_9_2_sm.eps', format='eps', dpi=300)"
   ]
  },
  {
   "cell_type": "code",
   "execution_count": 43,
   "metadata": {},
   "outputs": [
    {
     "name": "stdout",
     "output_type": "stream",
     "text": [
      "43/43 [==============================] - 0s 84us/step\n",
      "loss=0.342, accuracy: 90.70%\n",
      "Saving model architecture and weights to file...\n",
      "Done saving model.\n"
     ]
    }
   ],
   "source": [
    "# Accuracy on the test set\n",
    "(loss, accuracy) = model.evaluate(X_test_sm, y_test_lb, batch_size=32, verbose=1)\n",
    "print(\"loss={:.3f}, accuracy: {:.2f}%\".format(loss,accuracy * 100))\n",
    " \n",
    "# dump the network architecture and weights to file\n",
    "print(\"Saving model architecture and weights to file...\")\n",
    "model.save('nir_aclt-cntrl_model.hdf5')\n",
    "print(\"Done saving model.\")"
   ]
  },
  {
   "cell_type": "code",
   "execution_count": 64,
   "metadata": {},
   "outputs": [],
   "source": [
    "def create_model():\n",
    "    mdl = Sequential()\n",
    "    mdl.add(Dense(64, input_dim=nfeat, init='uniform'))\n",
    "    mdl.add(LeakyReLU(alpha=0.3))\n",
    "    mdl.add(BatchNormalization(epsilon=1e-06, mode=0, momentum=0.9, weights=None))\n",
    "    mdl.add(Dropout(0.5)) \n",
    "    mdl.add(Dense(64, init='uniform'))\n",
    "    mdl.add(LeakyReLU(alpha=0.3))\n",
    "    mdl.add(BatchNormalization(epsilon=1e-06, mode=0, momentum=0.9, weights=None))\n",
    "    mdl.add(Dropout(0.5))\n",
    "    mdl.add(Dense(nb_class, init='uniform'))\n",
    "    mdl.add(Activation('softmax'))\n",
    "    return mdl\n",
    "\n",
    "def train():\n",
    "    mdl = create_model()\n",
    "    adam = Adam(lr=0.001)\n",
    "    #sgd = SGD(lr=0.1, decay=1e-6, momentum=0.9, nesterov=True)\n",
    "    mdl.compile(loss='binary_crossentropy', optimizer=adam)\n",
    "\n",
    "    checkpointer = ModelCheckpoint(filepath=\"weights.hdf5\", verbose=1, save_best_only=True)\n",
    "    mdl.fit(X_train_sm, y_train_lb, nb_epoch=200, batch_size=32, #show_accuracy=True, \n",
    "              validation_split=0.2, verbose=1, callbacks=[checkpointer])\n",
    "\n",
    "def load_trained_model(weights_path):\n",
    "    mdl = create_model()\n",
    "    mdl.load_weights(weights_path)"
   ]
  },
  {
   "cell_type": "code",
   "execution_count": 72,
   "metadata": {},
   "outputs": [
    {
     "name": "stdout",
     "output_type": "stream",
     "text": [
      "43/43 [==============================] - 0s 9ms/step\n",
      "loss=0.342, accuracy: 90.70%\n"
     ]
    }
   ],
   "source": [
    "# load saved model and evaluate\n",
    "\n",
    "mdl = load_model(\"nir_aclt-cntrl_model.hdf5\")# check model name\n",
    "\n",
    "(loss, accuracy) = mdl.evaluate(X_test_sm, y_test_lb, batch_size=32, verbose=1)\n",
    "print(\"loss={:.3f}, accuracy: {:.2f}%\".format(loss,accuracy * 100))"
   ]
  },
  {
   "cell_type": "code",
   "execution_count": 113,
   "metadata": {},
   "outputs": [
    {
     "data": {
      "image/png": "[encoded data removed]",
      "text/plain": [
       "<Figure size 432x288 with 1 Axes>"
      ]
     },
     "metadata": {
      "needs_background": "light"
     },
     "output_type": "display_data"
    }
   ],
   "source": [
    "# Load saved model and continue training\n",
    "\n",
    "#mdl = load_model(\"best_dnn_nir_aclt-cntrl_model.hdf5\")\n",
    "\n",
    "nb_epoch=500\n",
    "adam = Adam(lr=0.001)# sgd = SGD(lr=0.001)\n",
    "mdl.compile(loss=\"binary_crossentropy\", optimizer=adam, metrics=['acc'])\n",
    "hist = mdl.fit(X_train_sm, y_train_lb, \n",
    "               epochs=nb_epoch, validation_split=0.1,\n",
    "               batch_size=16, verbose=0)\n",
    "\n",
    "# Plot training & validation accuracy values\n",
    "plt.plot(hist.history['acc'])\n",
    "plt.plot(hist.history['val_acc'])\n",
    "plt.title('Model accuracy')\n",
    "plt.ylabel('Accuracy')\n",
    "plt.xlabel('Epoch')\n",
    "plt.legend(['Train', 'Validation'], loc='upper left')\n",
    "plt.show()"
   ]
  },
  {
   "cell_type": "code",
   "execution_count": 114,
   "metadata": {},
   "outputs": [
    {
     "name": "stdout",
     "output_type": "stream",
     "text": [
      "              precision    recall  f1-score   support\n",
      "\n",
      "        ACLT       0.89      0.76      0.82        21\n",
      "       CNTRL       0.80      0.91      0.85        22\n",
      "\n",
      "   micro avg       0.84      0.84      0.84        43\n",
      "   macro avg       0.84      0.84      0.84        43\n",
      "weighted avg       0.84      0.84      0.84        43\n",
      "\n",
      "Confusion matrix, without normalization\n",
      "[[16  5]\n",
      " [ 2 20]]\n"
     ]
    },
    {
     "data": {
      "image/png": "[encoded data removed]",
      "text/plain": [
       "<Figure size 432x288 with 2 Axes>"
      ]
     },
     "metadata": {
      "needs_background": "light"
     },
     "output_type": "display_data"
    }
   ],
   "source": [
    "prediction = []\n",
    "for x in range(len(X_test_sm)):\n",
    "    probs = mdl.predict(X_test_sm)[x]\n",
    "    prediction.append(probs.argmax(axis=0))\n",
    "\n",
    "#print('Probabilities:',probs)\n",
    "#print('Prediction:',prediction)\n",
    "#prediction\n",
    "\n",
    "# evaluate model on test set\n",
    "classes = ['ACLT', 'CNTRL']\n",
    "y_true, y_pred = y_test_label, prediction\n",
    "print(classification_report(y_true, y_pred,target_names = classes))\n",
    "    \n",
    "cm = confusion_matrix(y_true, y_pred)\n",
    "fig = plt.figure()\n",
    "plot_confusion_matrix(cm, classes=classes,# normalize=True\n",
    "                      title='CM of DNN (smoothed spectra)')\n",
    "plt.show()\n",
    "#fig.savefig('figs/CM_dnn_aclt-cntrl_9_2_sm.eps', format='eps', dpi=300)"
   ]
  },
  {
   "cell_type": "code",
   "execution_count": 92,
   "metadata": {},
   "outputs": [
    {
     "name": "stdout",
     "output_type": "stream",
     "text": [
      "size of weights of 1st layer: (70,)\n",
      "size of weights of 2nd layer: (70,)\n",
      "size of weights of 3rd layer: (35,)\n",
      "size of weights of 4th layer: (14,)\n",
      "size of weights of 5th layer: (2,)\n"
     ]
    }
   ],
   "source": [
    "print('size of weights of 1st layer:',h[1].shape)\n",
    "print('size of weights of 2nd layer:',h[3].shape)\n",
    "print('size of weights of 3rd layer:',h[5].shape)\n",
    "print('size of weights of 4th layer:',h[7].shape)\n",
    "print('size of weights of 5th layer:',h[9].shape)\n",
    "#print('size of weights of 6th layer:',h[5].shape)\n",
    "#print('size of weights of 7th layer:',h[6].shape)"
   ]
  },
  {
   "cell_type": "code",
   "execution_count": 104,
   "metadata": {},
   "outputs": [
    {
     "name": "stdout",
     "output_type": "stream",
     "text": [
      "              precision    recall  f1-score   support\n",
      "\n",
      "        ACLT       1.00      0.14      0.25        21\n",
      "       CNTRL       0.55      1.00      0.71        22\n",
      "\n",
      "   micro avg       0.58      0.58      0.58        43\n",
      "   macro avg       0.78      0.57      0.48        43\n",
      "weighted avg       0.77      0.58      0.49        43\n",
      "\n",
      "Confusion matrix, without normalization\n",
      "[[ 3 18]\n",
      " [ 0 22]]\n"
     ]
    },
    {
     "data": {
      "image/png": "[encoded data removed]",
      "text/plain": [
       "<Figure size 432x288 with 2 Axes>"
      ]
     },
     "metadata": {
      "needs_background": "light"
     },
     "output_type": "display_data"
    }
   ],
   "source": [
    "prediction = []\n",
    "for x in range(len(X_test_sm)):\n",
    "    probs = mdl.predict(X_test_sm)[x]\n",
    "    prediction.append(probs.argmax(axis=0))\n",
    "\n",
    "#print('Probabilities:',probs)\n",
    "#print('Prediction:',prediction)\n",
    "#prediction\n",
    "\n",
    "# evaluate model on test set\n",
    "classes = ['ACLT', 'CNTRL']\n",
    "y_true, y_pred = y_test_label, prediction\n",
    "print(classification_report(y_true, y_pred,target_names = classes))\n",
    "    \n",
    "cm = confusion_matrix(y_true, y_pred)\n",
    "fig = plt.figure()\n",
    "plot_confusion_matrix(cm, classes=classes,# normalize=True\n",
    "                      title='CM of DNN-leakyrelu (smoothed spectra)')\n",
    "plt.show()\n",
    "#fig.savefig('figs/CM_dnn_aclt-cntrl_9_2_sm.eps', format='eps', dpi=300)"
   ]
  },
  {
   "cell_type": "code",
   "execution_count": 64,
   "metadata": {},
   "outputs": [
    {
     "name": "stdout",
     "output_type": "stream",
     "text": [
      "_________________________________________________________________\n",
      "Layer (type)                 Output Shape              Param #   \n",
      "=================================================================\n",
      "dense_38 (Dense)             (None, 8)                 72        \n",
      "_________________________________________________________________\n",
      "dense_39 (Dense)             (None, 8)                 72        \n",
      "_________________________________________________________________\n",
      "dense_40 (Dense)             (None, 4)                 36        \n",
      "_________________________________________________________________\n",
      "dropout_7 (Dropout)          (None, 4)                 0         \n",
      "_________________________________________________________________\n",
      "dense_41 (Dense)             (None, 2)                 10        \n",
      "_________________________________________________________________\n",
      "activation_10 (Activation)   (None, 2)                 0         \n",
      "=================================================================\n",
      "Total params: 190\n",
      "Trainable params: 190\n",
      "Non-trainable params: 0\n",
      "_________________________________________________________________\n",
      "None\n"
     ]
    }
   ],
   "source": [
    "# define the architecture of the network: latent spectral variables\n",
    "model = Sequential()\n",
    "model.add(Dense(8, input_dim=8, activation=\"relu\",kernel_initializer=\"he_uniform\"))\n",
    "model.add(Dense(8, activation=\"relu\"))\n",
    "model.add(Dense(4, activation=\"relu\"))\n",
    "model.add(Dropout(0.75))\n",
    "model.add(Dense(2))\n",
    "model.add(Activation(\"softmax\"))\n",
    "\n",
    "print(model.summary())"
   ]
  },
  {
   "cell_type": "code",
   "execution_count": 65,
   "metadata": {},
   "outputs": [
    {
     "data": {
      "image/png": "[encoded data removed]",
      "text/plain": [
       "<Figure size 432x288 with 1 Axes>"
      ]
     },
     "metadata": {
      "needs_background": "light"
     },
     "output_type": "display_data"
    }
   ],
   "source": [
    "# Train model using SGD/Adam Optimizer and binary_crossentropy loss function\n",
    "nb_epoch=800\n",
    "adam = Adam(lr=0.001)# sgd = SGD(lr=0.001)\n",
    "model.compile(loss=\"binary_crossentropy\", optimizer=adam, metrics=['acc'])\n",
    "hist = model.fit(X_train_sm_sc, y_train_lb, \n",
    "                 epochs=nb_epoch, validation_data=(X_test_sm_sc, y_test_lb),\n",
    "                 batch_size=32, verbose=0)\n",
    "\n",
    "# Plot training & validation accuracy values\n",
    "plt.plot(hist.history['acc'])\n",
    "plt.plot(hist.history['val_acc'])\n",
    "plt.title('Model accuracy - DNN (latent variables)')\n",
    "plt.ylabel('Accuracy')\n",
    "plt.xlabel('Epoch')\n",
    "plt.legend(['Train', 'Test'], loc='upper left')\n",
    "plt.show()"
   ]
  },
  {
   "cell_type": "code",
   "execution_count": null,
   "metadata": {},
   "outputs": [],
   "source": [
    "# Accuracy on the test set\n",
    "(loss, accuracy) = model.evaluate(X_test_sm_sc, y_test_lb, batch_size=32, verbose=1)\n",
    "print(\"loss={:.3f}, accuracy: {:.2f}%\".format(loss,accuracy * 100))\n",
    " \n",
    "# dump the network architecture and weights to file\n",
    "print(\"Saving model architecture and weights to file...\")\n",
    "model.save('nir_aclt-cntrl_model.hdf5')\n",
    "print(\"Done saving model.\")"
   ]
  },
  {
   "cell_type": "code",
   "execution_count": null,
   "metadata": {},
   "outputs": [],
   "source": [
    "prediction = []\n",
    "for x in range(len(X_test_sm_sc)):\n",
    "    probs = model.predict(X_test_sm_sc)[x]\n",
    "    prediction.append(probs.argmax(axis=0))\n",
    "\n",
    "#print('Probabilities:',probs)\n",
    "#print('Prediction:',prediction)\n",
    "prediction"
   ]
  },
  {
   "cell_type": "code",
   "execution_count": null,
   "metadata": {},
   "outputs": [],
   "source": [
    "# evaluate model on test set\n",
    "y_true, y_pred = y_test_label, prediction\n",
    "print(classification_report(y_true, y_pred,target_names = classes))\n",
    "    \n",
    "cm = confusion_matrix(y_true, y_pred)\n",
    "plt.figure()\n",
    "plot_confusion_matrix(cm, classes=classes,# normalize=True\n",
    "                      title='CM of neural network model on test data')\n",
    "plt.show()"
   ]
  },
  {
   "cell_type": "markdown",
   "metadata": {},
   "source": [
    "### 1D Convolutional Neural Network"
   ]
  },
  {
   "cell_type": "markdown",
   "metadata": {},
   "source": [
    "For a ReLU activated network, the He initialization scheme using an Uniform distribution is a pretty good choice ;-)"
   ]
  },
  {
   "cell_type": "code",
   "execution_count": 56,
   "metadata": {},
   "outputs": [
    {
     "name": "stdout",
     "output_type": "stream",
     "text": [
      "_________________________________________________________________\n",
      "Layer (type)                 Output Shape              Param #   \n",
      "=================================================================\n",
      "reshape_13 (Reshape)         (None, 140, 1)            0         \n",
      "_________________________________________________________________\n",
      "conv1d_15 (Conv1D)           (None, 134, 64)           512       \n",
      "_________________________________________________________________\n",
      "activation_26 (Activation)   (None, 134, 64)           0         \n",
      "_________________________________________________________________\n",
      "flatten_13 (Flatten)         (None, 8576)              0         \n",
      "_________________________________________________________________\n",
      "dropout_14 (Dropout)         (None, 8576)              0         \n",
      "_________________________________________________________________\n",
      "dense_47 (Dense)             (None, 1024)              8782848   \n",
      "_________________________________________________________________\n",
      "dense_48 (Dense)             (None, 64)                65600     \n",
      "_________________________________________________________________\n",
      "dense_49 (Dense)             (None, 2)                 130       \n",
      "_________________________________________________________________\n",
      "activation_27 (Activation)   (None, 2)                 0         \n",
      "=================================================================\n",
      "Total params: 8,849,090\n",
      "Trainable params: 8,849,090\n",
      "Non-trainable params: 0\n",
      "_________________________________________________________________\n",
      "None\n"
     ]
    }
   ],
   "source": [
    "\n",
    "model = Sequential()\n",
    "model.add(Reshape((nfeat, 1), input_shape=(nfeat,)))\n",
    "model.add(Conv1D(input_shape=(nfeat,1),filters=64, filter_length=7, \n",
    "                 kernel_initializer='glorot_uniform'))\n",
    "model.add(Activation('relu'))\n",
    "model.add(Flatten())\n",
    "model.add(Dropout(0.4))\n",
    "model.add(Dense(1024, activation='relu'))\n",
    "#model.add(Dense(256, activation='relu'))\n",
    "model.add(Dense(64, activation='relu'))\n",
    "model.add(Dense(nb_class))\n",
    "model.add(Activation('softmax'))\n",
    "\n",
    "print(model.summary())"
   ]
  },
  {
   "cell_type": "code",
   "execution_count": 30,
   "metadata": {},
   "outputs": [
    {
     "name": "stdout",
     "output_type": "stream",
     "text": [
      "_________________________________________________________________\n",
      "Layer (type)                 Output Shape              Param #   \n",
      "=================================================================\n",
      "reshape_4 (Reshape)          (None, 140, 1)            0         \n",
      "_________________________________________________________________\n",
      "conv1d_5 (Conv1D)            (None, 134, 128)          1024      \n",
      "_________________________________________________________________\n",
      "activation_7 (Activation)    (None, 134, 128)          0         \n",
      "_________________________________________________________________\n",
      "conv1d_6 (Conv1D)            (None, 128, 64)           57408     \n",
      "_________________________________________________________________\n",
      "activation_8 (Activation)    (None, 128, 64)           0         \n",
      "_________________________________________________________________\n",
      "flatten_4 (Flatten)          (None, 8192)              0         \n",
      "_________________________________________________________________\n",
      "dropout_5 (Dropout)          (None, 8192)              0         \n",
      "_________________________________________________________________\n",
      "dense_14 (Dense)             (None, 1024)              8389632   \n",
      "_________________________________________________________________\n",
      "dense_15 (Dense)             (None, 128)               131200    \n",
      "_________________________________________________________________\n",
      "dense_16 (Dense)             (None, 64)                8256      \n",
      "_________________________________________________________________\n",
      "dense_17 (Dense)             (None, 16)                1040      \n",
      "_________________________________________________________________\n",
      "dense_18 (Dense)             (None, 2)                 34        \n",
      "_________________________________________________________________\n",
      "activation_9 (Activation)    (None, 2)                 0         \n",
      "=================================================================\n",
      "Total params: 8,588,594\n",
      "Trainable params: 8,588,594\n",
      "Non-trainable params: 0\n",
      "_________________________________________________________________\n",
      "None\n"
     ]
    }
   ],
   "source": [
    "\n",
    "model = Sequential()\n",
    "model.add(Reshape((nfeat, 1), input_shape=(nfeat,)))\n",
    "model.add(Conv1D(input_shape=(nfeat,1),filters=128, filter_length=7, kernel_initializer='glorot_uniform'))\n",
    "model.add(Activation('relu'))\n",
    "model.add(Conv1D(filters=64, filter_length=7))\n",
    "model.add(Activation('relu'))\n",
    "model.add(Flatten())\n",
    "model.add(Dropout(0.4))\n",
    "model.add(Dense(1024, activation='relu'))\n",
    "model.add(Dense(128, activation='relu'))\n",
    "model.add(Dense(64, activation='relu'))\n",
    "model.add(Dense(16, activation='relu'))\n",
    "model.add(Dense(nb_class))\n",
    "model.add(Activation('softmax'))\n",
    "\n",
    "print(model.summary())"
   ]
  },
  {
   "cell_type": "code",
   "execution_count": 57,
   "metadata": {},
   "outputs": [
    {
     "name": "stdout",
     "output_type": "stream",
     "text": [
      "Train on 173 samples, validate on 43 samples\n",
      "Epoch 1/800\n",
      "173/173 [==============================] - 3s 18ms/step - loss: 1.1244 - acc: 0.4913 - val_loss: 0.7736 - val_acc: 0.5116\n",
      "Epoch 2/800\n",
      "173/173 [==============================] - 1s 3ms/step - loss: 0.7068 - acc: 0.5318 - val_loss: 0.7295 - val_acc: 0.4884\n",
      "Epoch 3/800\n",
      "173/173 [==============================] - 1s 3ms/step - loss: 0.7115 - acc: 0.4798 - val_loss: 0.7160 - val_acc: 0.5116\n",
      "Epoch 4/800\n",
      "173/173 [==============================] - 1s 3ms/step - loss: 0.7027 - acc: 0.5202 - val_loss: 0.6951 - val_acc: 0.5116\n",
      "Epoch 5/800\n",
      "173/173 [==============================] - 1s 3ms/step - loss: 0.6908 - acc: 0.5260 - val_loss: 0.6976 - val_acc: 0.5116\n",
      "Epoch 6/800\n",
      "173/173 [==============================] - 1s 3ms/step - loss: 0.6846 - acc: 0.5723 - val_loss: 0.7991 - val_acc: 0.4884\n",
      "Epoch 7/800\n",
      "173/173 [==============================] - 1s 3ms/step - loss: 0.7214 - acc: 0.5202 - val_loss: 0.8223 - val_acc: 0.5116\n",
      "Epoch 8/800\n",
      "173/173 [==============================] - 1s 3ms/step - loss: 0.7502 - acc: 0.5087 - val_loss: 0.7094 - val_acc: 0.4884\n",
      "Epoch 9/800\n",
      "173/173 [==============================] - 1s 3ms/step - loss: 0.7253 - acc: 0.4509 - val_loss: 0.6990 - val_acc: 0.5116\n",
      "Epoch 10/800\n",
      "173/173 [==============================] - 1s 3ms/step - loss: 0.6799 - acc: 0.5723 - val_loss: 0.6949 - val_acc: 0.4884\n",
      "Epoch 11/800\n",
      "173/173 [==============================] - 1s 4ms/step - loss: 0.6857 - acc: 0.5376 - val_loss: 0.6949 - val_acc: 0.5116\n",
      "Epoch 12/800\n",
      "173/173 [==============================] - 1s 3ms/step - loss: 0.6831 - acc: 0.5087 - val_loss: 0.6949 - val_acc: 0.5116\n",
      "Epoch 13/800\n",
      "173/173 [==============================] - 1s 3ms/step - loss: 0.6839 - acc: 0.5376 - val_loss: 0.6956 - val_acc: 0.5116\n",
      "Epoch 14/800\n",
      "173/173 [==============================] - 1s 3ms/step - loss: 0.7144 - acc: 0.4855 - val_loss: 0.6957 - val_acc: 0.4651\n",
      "Epoch 15/800\n",
      "173/173 [==============================] - 1s 3ms/step - loss: 0.6726 - acc: 0.5838 - val_loss: 0.7159 - val_acc: 0.5116\n",
      "Epoch 16/800\n",
      "173/173 [==============================] - 1s 3ms/step - loss: 0.6752 - acc: 0.5780 - val_loss: 0.6963 - val_acc: 0.4884\n",
      "Epoch 17/800\n",
      "173/173 [==============================] - 1s 3ms/step - loss: 0.6769 - acc: 0.5029 - val_loss: 0.6944 - val_acc: 0.5349\n",
      "Epoch 18/800\n",
      "173/173 [==============================] - 1s 3ms/step - loss: 0.6688 - acc: 0.5838 - val_loss: 0.6969 - val_acc: 0.5116\n",
      "Epoch 19/800\n",
      "173/173 [==============================] - 1s 3ms/step - loss: 0.6571 - acc: 0.6821 - val_loss: 0.6922 - val_acc: 0.4419\n",
      "Epoch 20/800\n",
      "173/173 [==============================] - 1s 4ms/step - loss: 0.6519 - acc: 0.6763 - val_loss: 0.6925 - val_acc: 0.5116\n",
      "Epoch 21/800\n",
      "173/173 [==============================] - 1s 4ms/step - loss: 0.6534 - acc: 0.6416 - val_loss: 0.6880 - val_acc: 0.6047\n",
      "Epoch 22/800\n",
      "173/173 [==============================] - 1s 4ms/step - loss: 0.6910 - acc: 0.5607 - val_loss: 0.6864 - val_acc: 0.6047\n",
      "Epoch 23/800\n",
      "173/173 [==============================] - 1s 4ms/step - loss: 0.6786 - acc: 0.5202 - val_loss: 0.6987 - val_acc: 0.4884\n",
      "Epoch 24/800\n",
      "173/173 [==============================] - 1s 4ms/step - loss: 0.6667 - acc: 0.5434 - val_loss: 0.6993 - val_acc: 0.5116\n",
      "Epoch 25/800\n",
      "173/173 [==============================] - 1s 3ms/step - loss: 0.6519 - acc: 0.6069 - val_loss: 0.6861 - val_acc: 0.5814\n",
      "Epoch 26/800\n",
      "173/173 [==============================] - 1s 4ms/step - loss: 0.6491 - acc: 0.7283 - val_loss: 0.6841 - val_acc: 0.6744\n",
      "Epoch 27/800\n",
      "173/173 [==============================] - 1s 4ms/step - loss: 0.6278 - acc: 0.7399 - val_loss: 0.6839 - val_acc: 0.5116\n",
      "Epoch 28/800\n",
      "173/173 [==============================] - 1s 3ms/step - loss: 0.6304 - acc: 0.6590 - val_loss: 0.6753 - val_acc: 0.6279\n",
      "Epoch 29/800\n",
      "173/173 [==============================] - 1s 3ms/step - loss: 0.6310 - acc: 0.6532 - val_loss: 0.6742 - val_acc: 0.5814\n",
      "Epoch 30/800\n",
      "173/173 [==============================] - 1s 3ms/step - loss: 0.6109 - acc: 0.7225 - val_loss: 0.6688 - val_acc: 0.6744\n",
      "Epoch 31/800\n",
      "173/173 [==============================] - 1s 3ms/step - loss: 0.6022 - acc: 0.6994 - val_loss: 0.6766 - val_acc: 0.5581\n",
      "Epoch 32/800\n",
      "173/173 [==============================] - 1s 3ms/step - loss: 0.6261 - acc: 0.6358 - val_loss: 0.6616 - val_acc: 0.6744\n",
      "Epoch 33/800\n",
      "173/173 [==============================] - 1s 3ms/step - loss: 0.5850 - acc: 0.7052 - val_loss: 0.6565 - val_acc: 0.6279\n",
      "Epoch 34/800\n",
      "173/173 [==============================] - 1s 3ms/step - loss: 0.5896 - acc: 0.7225 - val_loss: 0.6529 - val_acc: 0.6977\n",
      "Epoch 35/800\n",
      "173/173 [==============================] - 1s 3ms/step - loss: 0.5814 - acc: 0.7341 - val_loss: 0.6650 - val_acc: 0.5581\n",
      "Epoch 36/800\n",
      "173/173 [==============================] - 1s 4ms/step - loss: 0.5871 - acc: 0.6647 - val_loss: 0.6431 - val_acc: 0.6977\n",
      "Epoch 37/800\n",
      "173/173 [==============================] - 1s 4ms/step - loss: 0.5517 - acc: 0.7861 - val_loss: 0.6422 - val_acc: 0.6047\n",
      "Epoch 38/800\n",
      "173/173 [==============================] - 1s 4ms/step - loss: 0.5531 - acc: 0.7110 - val_loss: 0.6375 - val_acc: 0.6279\n",
      "Epoch 39/800\n",
      "173/173 [==============================] - 1s 3ms/step - loss: 0.5380 - acc: 0.8266 - val_loss: 0.6406 - val_acc: 0.5814\n",
      "Epoch 40/800\n",
      "173/173 [==============================] - 1s 3ms/step - loss: 0.5405 - acc: 0.6994 - val_loss: 0.6445 - val_acc: 0.5581\n",
      "Epoch 41/800\n",
      "173/173 [==============================] - 1s 3ms/step - loss: 0.5208 - acc: 0.7746 - val_loss: 0.6769 - val_acc: 0.5814\n",
      "Epoch 42/800\n",
      "173/173 [==============================] - 1s 3ms/step - loss: 0.5612 - acc: 0.6647 - val_loss: 0.6008 - val_acc: 0.7442\n",
      "Epoch 43/800\n",
      "173/173 [==============================] - 1s 3ms/step - loss: 0.5187 - acc: 0.7399 - val_loss: 0.5858 - val_acc: 0.7209\n",
      "Epoch 44/800\n",
      "173/173 [==============================] - 1s 3ms/step - loss: 0.5066 - acc: 0.8150 - val_loss: 0.5808 - val_acc: 0.7442\n",
      "Epoch 45/800\n",
      "173/173 [==============================] - 1s 3ms/step - loss: 0.5168 - acc: 0.7168 - val_loss: 0.5974 - val_acc: 0.7209\n",
      "Epoch 46/800\n",
      "173/173 [==============================] - 1s 4ms/step - loss: 0.5198 - acc: 0.7630 - val_loss: 0.5960 - val_acc: 0.6977\n",
      "Epoch 47/800\n",
      "173/173 [==============================] - 1s 3ms/step - loss: 0.4951 - acc: 0.7803 - val_loss: 0.5713 - val_acc: 0.7442\n",
      "Epoch 48/800\n",
      "173/173 [==============================] - 1s 3ms/step - loss: 0.4667 - acc: 0.7861 - val_loss: 0.5467 - val_acc: 0.7442\n",
      "Epoch 49/800\n",
      "173/173 [==============================] - 1s 3ms/step - loss: 0.4845 - acc: 0.7977 - val_loss: 0.5639 - val_acc: 0.6744\n",
      "Epoch 50/800\n",
      "173/173 [==============================] - 1s 4ms/step - loss: 0.4455 - acc: 0.7746 - val_loss: 0.5741 - val_acc: 0.7442\n",
      "Epoch 51/800\n",
      "173/173 [==============================] - 1s 4ms/step - loss: 0.4587 - acc: 0.8092 - val_loss: 0.5307 - val_acc: 0.7442\n",
      "Epoch 52/800\n",
      "173/173 [==============================] - 1s 4ms/step - loss: 0.4711 - acc: 0.7861 - val_loss: 0.5427 - val_acc: 0.7442\n",
      "Epoch 53/800\n",
      "173/173 [==============================] - 1s 3ms/step - loss: 0.4434 - acc: 0.8092 - val_loss: 0.5198 - val_acc: 0.7209\n",
      "Epoch 54/800\n",
      "173/173 [==============================] - 1s 3ms/step - loss: 0.4694 - acc: 0.7572 - val_loss: 0.5316 - val_acc: 0.7442\n",
      "Epoch 55/800\n",
      "173/173 [==============================] - 1s 3ms/step - loss: 0.4176 - acc: 0.8671 - val_loss: 0.5212 - val_acc: 0.7442\n",
      "Epoch 56/800\n",
      "173/173 [==============================] - 1s 3ms/step - loss: 0.4261 - acc: 0.8497 - val_loss: 0.5201 - val_acc: 0.7442\n",
      "Epoch 57/800\n",
      "173/173 [==============================] - 1s 3ms/step - loss: 0.4276 - acc: 0.8208 - val_loss: 0.5132 - val_acc: 0.7442\n",
      "Epoch 58/800\n",
      "173/173 [==============================] - 1s 3ms/step - loss: 0.4157 - acc: 0.8497 - val_loss: 0.5388 - val_acc: 0.7442\n",
      "Epoch 59/800\n",
      "173/173 [==============================] - 1s 3ms/step - loss: 0.4059 - acc: 0.8382 - val_loss: 0.5254 - val_acc: 0.7674\n",
      "Epoch 60/800\n",
      "173/173 [==============================] - 1s 3ms/step - loss: 0.3677 - acc: 0.8555 - val_loss: 0.4983 - val_acc: 0.6977\n",
      "Epoch 61/800\n",
      "173/173 [==============================] - 1s 3ms/step - loss: 0.3884 - acc: 0.8324 - val_loss: 0.4935 - val_acc: 0.7442\n",
      "Epoch 62/800\n",
      "173/173 [==============================] - 1s 3ms/step - loss: 0.4132 - acc: 0.8092 - val_loss: 0.5103 - val_acc: 0.7442\n",
      "Epoch 63/800\n",
      "173/173 [==============================] - 1s 3ms/step - loss: 0.3869 - acc: 0.8150 - val_loss: 0.5218 - val_acc: 0.7442\n",
      "Epoch 64/800\n",
      "173/173 [==============================] - 1s 3ms/step - loss: 0.3782 - acc: 0.8092 - val_loss: 0.4648 - val_acc: 0.7442\n",
      "Epoch 65/800\n",
      "173/173 [==============================] - 1s 3ms/step - loss: 0.3703 - acc: 0.8324 - val_loss: 0.5796 - val_acc: 0.7674\n",
      "Epoch 66/800\n",
      "173/173 [==============================] - 1s 4ms/step - loss: 0.3656 - acc: 0.8382 - val_loss: 0.5088 - val_acc: 0.7674\n",
      "Epoch 67/800\n",
      "173/173 [==============================] - 1s 4ms/step - loss: 0.3582 - acc: 0.8555 - val_loss: 0.4897 - val_acc: 0.7442\n",
      "Epoch 68/800\n",
      "173/173 [==============================] - 1s 3ms/step - loss: 0.3225 - acc: 0.8728 - val_loss: 0.5231 - val_acc: 0.7674\n",
      "Epoch 69/800\n",
      "173/173 [==============================] - 1s 4ms/step - loss: 0.2962 - acc: 0.8844 - val_loss: 0.4881 - val_acc: 0.7209\n",
      "Epoch 70/800\n",
      "173/173 [==============================] - 1s 3ms/step - loss: 0.3663 - acc: 0.8092 - val_loss: 0.4632 - val_acc: 0.7442\n",
      "Epoch 71/800\n",
      "173/173 [==============================] - 1s 3ms/step - loss: 0.3600 - acc: 0.8439 - val_loss: 0.5865 - val_acc: 0.7674\n",
      "Epoch 72/800\n",
      "173/173 [==============================] - 1s 3ms/step - loss: 0.3831 - acc: 0.8150 - val_loss: 0.4745 - val_acc: 0.7442\n",
      "Epoch 73/800\n",
      "173/173 [==============================] - 1s 3ms/step - loss: 0.3510 - acc: 0.8555 - val_loss: 0.5194 - val_acc: 0.7674\n",
      "Epoch 74/800\n",
      "173/173 [==============================] - 1s 3ms/step - loss: 0.3589 - acc: 0.8439 - val_loss: 0.4734 - val_acc: 0.6977\n",
      "Epoch 75/800\n",
      "173/173 [==============================] - 1s 3ms/step - loss: 0.3430 - acc: 0.8844 - val_loss: 0.4951 - val_acc: 0.7674\n",
      "Epoch 76/800\n",
      "173/173 [==============================] - 1s 3ms/step - loss: 0.3092 - acc: 0.8728 - val_loss: 0.5105 - val_acc: 0.7674\n",
      "Epoch 77/800\n",
      "173/173 [==============================] - 1s 4ms/step - loss: 0.3550 - acc: 0.8555 - val_loss: 0.4899 - val_acc: 0.7442\n",
      "Epoch 78/800\n",
      "173/173 [==============================] - 1s 3ms/step - loss: 0.2790 - acc: 0.9017 - val_loss: 0.5727 - val_acc: 0.7674\n",
      "Epoch 79/800\n",
      "173/173 [==============================] - 1s 3ms/step - loss: 0.2704 - acc: 0.9133 - val_loss: 0.4974 - val_acc: 0.6977\n",
      "Epoch 80/800\n",
      "173/173 [==============================] - 1s 3ms/step - loss: 0.3225 - acc: 0.8555 - val_loss: 0.5707 - val_acc: 0.7907\n",
      "Epoch 81/800\n",
      "173/173 [==============================] - 1s 3ms/step - loss: 0.3348 - acc: 0.8555 - val_loss: 0.4883 - val_acc: 0.7674\n",
      "Epoch 82/800\n",
      "173/173 [==============================] - 1s 3ms/step - loss: 0.2658 - acc: 0.9133 - val_loss: 0.5096 - val_acc: 0.7674\n",
      "Epoch 83/800\n",
      "173/173 [==============================] - 1s 3ms/step - loss: 0.2685 - acc: 0.9017 - val_loss: 0.6547 - val_acc: 0.7209\n",
      "Epoch 84/800\n",
      "173/173 [==============================] - 1s 3ms/step - loss: 0.3038 - acc: 0.8555 - val_loss: 0.5217 - val_acc: 0.6977\n",
      "Epoch 85/800\n",
      "173/173 [==============================] - 1s 3ms/step - loss: 0.2954 - acc: 0.8613 - val_loss: 0.4632 - val_acc: 0.7674\n",
      "Epoch 86/800\n",
      "173/173 [==============================] - 1s 4ms/step - loss: 0.3140 - acc: 0.8671 - val_loss: 0.4814 - val_acc: 0.7674\n",
      "Epoch 87/800\n",
      "173/173 [==============================] - 1s 4ms/step - loss: 0.2670 - acc: 0.9017 - val_loss: 0.4436 - val_acc: 0.7674\n",
      "Epoch 88/800\n",
      "173/173 [==============================] - 1s 3ms/step - loss: 0.2446 - acc: 0.8786 - val_loss: 0.5287 - val_acc: 0.7674\n",
      "Epoch 89/800\n",
      "173/173 [==============================] - 1s 3ms/step - loss: 0.2874 - acc: 0.8671 - val_loss: 0.4116 - val_acc: 0.7674\n",
      "Epoch 90/800\n",
      "173/173 [==============================] - 1s 3ms/step - loss: 0.2770 - acc: 0.8902 - val_loss: 0.4842 - val_acc: 0.7674\n",
      "Epoch 91/800\n",
      "173/173 [==============================] - 1s 3ms/step - loss: 0.2744 - acc: 0.9133 - val_loss: 0.4519 - val_acc: 0.7674\n",
      "Epoch 92/800\n",
      "173/173 [==============================] - 1s 3ms/step - loss: 0.2408 - acc: 0.9075 - val_loss: 0.4978 - val_acc: 0.7674\n",
      "Epoch 93/800\n",
      "173/173 [==============================] - 1s 4ms/step - loss: 0.2617 - acc: 0.8960 - val_loss: 0.4452 - val_acc: 0.7674\n",
      "Epoch 94/800\n",
      "173/173 [==============================] - 1s 4ms/step - loss: 0.2486 - acc: 0.9191 - val_loss: 0.4618 - val_acc: 0.7674\n",
      "Epoch 95/800\n",
      "173/173 [==============================] - 1s 3ms/step - loss: 0.2297 - acc: 0.9364 - val_loss: 0.5088 - val_acc: 0.7674\n",
      "Epoch 96/800\n",
      "173/173 [==============================] - 1s 3ms/step - loss: 0.2294 - acc: 0.9075 - val_loss: 0.4783 - val_acc: 0.7674\n",
      "Epoch 97/800\n",
      "173/173 [==============================] - 1s 3ms/step - loss: 0.2758 - acc: 0.8728 - val_loss: 0.4994 - val_acc: 0.7674\n",
      "Epoch 98/800\n",
      "173/173 [==============================] - 1s 3ms/step - loss: 0.2095 - acc: 0.9191 - val_loss: 0.5489 - val_acc: 0.7674\n",
      "Epoch 99/800\n",
      "173/173 [==============================] - 1s 3ms/step - loss: 0.2418 - acc: 0.9133 - val_loss: 0.4699 - val_acc: 0.7674\n",
      "Epoch 100/800\n",
      "173/173 [==============================] - 1s 3ms/step - loss: 0.3362 - acc: 0.8671 - val_loss: 0.5334 - val_acc: 0.7674\n",
      "Epoch 101/800\n",
      "173/173 [==============================] - 1s 4ms/step - loss: 0.2528 - acc: 0.9191 - val_loss: 0.4245 - val_acc: 0.7674\n",
      "Epoch 102/800\n",
      "173/173 [==============================] - 1s 3ms/step - loss: 0.2965 - acc: 0.8786 - val_loss: 0.4571 - val_acc: 0.8140\n",
      "Epoch 103/800\n",
      "173/173 [==============================] - 1s 3ms/step - loss: 0.2826 - acc: 0.9017 - val_loss: 0.4512 - val_acc: 0.7907\n",
      "Epoch 104/800\n",
      "173/173 [==============================] - 1s 3ms/step - loss: 0.2527 - acc: 0.9249 - val_loss: 0.4181 - val_acc: 0.7907\n",
      "Epoch 105/800\n",
      "173/173 [==============================] - 1s 3ms/step - loss: 0.2568 - acc: 0.8960 - val_loss: 0.4399 - val_acc: 0.7907\n",
      "Epoch 106/800\n",
      "173/173 [==============================] - 1s 3ms/step - loss: 0.2891 - acc: 0.8902 - val_loss: 0.4596 - val_acc: 0.8140\n",
      "Epoch 107/800\n",
      "173/173 [==============================] - 1s 3ms/step - loss: 0.2567 - acc: 0.8902 - val_loss: 0.4628 - val_acc: 0.8140\n",
      "Epoch 108/800\n",
      "173/173 [==============================] - 1s 3ms/step - loss: 0.2279 - acc: 0.9075 - val_loss: 0.4222 - val_acc: 0.7442\n",
      "Epoch 109/800\n",
      "173/173 [==============================] - 1s 4ms/step - loss: 0.1970 - acc: 0.9133 - val_loss: 0.5005 - val_acc: 0.7907\n",
      "Epoch 110/800\n",
      "173/173 [==============================] - 1s 3ms/step - loss: 0.2282 - acc: 0.9191 - val_loss: 0.4237 - val_acc: 0.7907\n",
      "Epoch 111/800\n",
      "173/173 [==============================] - 1s 3ms/step - loss: 0.2410 - acc: 0.9017 - val_loss: 0.4599 - val_acc: 0.7674\n",
      "Epoch 112/800\n",
      "173/173 [==============================] - 1s 3ms/step - loss: 0.2171 - acc: 0.9364 - val_loss: 0.4127 - val_acc: 0.7907\n",
      "Epoch 113/800\n",
      "173/173 [==============================] - 1s 4ms/step - loss: 0.2346 - acc: 0.9191 - val_loss: 0.4790 - val_acc: 0.7674\n",
      "Epoch 114/800\n",
      "173/173 [==============================] - 1s 4ms/step - loss: 0.2124 - acc: 0.9538 - val_loss: 0.4248 - val_acc: 0.7907\n",
      "Epoch 115/800\n",
      "173/173 [==============================] - 1s 3ms/step - loss: 0.1779 - acc: 0.9306 - val_loss: 0.5001 - val_acc: 0.7907\n",
      "Epoch 116/800\n",
      "173/173 [==============================] - 1s 3ms/step - loss: 0.2779 - acc: 0.8555 - val_loss: 0.4220 - val_acc: 0.7674\n",
      "Epoch 117/800\n",
      "173/173 [==============================] - 1s 3ms/step - loss: 0.1990 - acc: 0.9133 - val_loss: 0.6452 - val_acc: 0.8140\n",
      "Epoch 118/800\n",
      "173/173 [==============================] - 1s 4ms/step - loss: 0.2586 - acc: 0.8786 - val_loss: 0.4847 - val_acc: 0.7674\n",
      "Epoch 119/800\n",
      "173/173 [==============================] - 1s 3ms/step - loss: 0.2363 - acc: 0.9249 - val_loss: 0.4397 - val_acc: 0.7907\n",
      "Epoch 120/800\n",
      "173/173 [==============================] - 1s 3ms/step - loss: 0.1909 - acc: 0.9249 - val_loss: 0.4438 - val_acc: 0.7907\n",
      "Epoch 121/800\n",
      "173/173 [==============================] - 1s 3ms/step - loss: 0.2182 - acc: 0.9422 - val_loss: 0.5577 - val_acc: 0.8140\n",
      "Epoch 122/800\n",
      "173/173 [==============================] - 1s 3ms/step - loss: 0.2094 - acc: 0.9191 - val_loss: 0.4810 - val_acc: 0.7907\n",
      "Epoch 123/800\n",
      "173/173 [==============================] - 1s 3ms/step - loss: 0.1707 - acc: 0.9538 - val_loss: 0.4764 - val_acc: 0.7674\n",
      "Epoch 124/800\n",
      "173/173 [==============================] - 1s 3ms/step - loss: 0.2603 - acc: 0.8960 - val_loss: 0.5571 - val_acc: 0.7674\n",
      "Epoch 125/800\n",
      "173/173 [==============================] - 1s 4ms/step - loss: 0.2005 - acc: 0.9364 - val_loss: 0.5402 - val_acc: 0.7674\n",
      "Epoch 126/800\n",
      "173/173 [==============================] - 1s 3ms/step - loss: 0.1760 - acc: 0.9306 - val_loss: 0.4553 - val_acc: 0.7907\n",
      "Epoch 127/800\n",
      "173/173 [==============================] - 1s 3ms/step - loss: 0.2011 - acc: 0.8960 - val_loss: 0.5382 - val_acc: 0.7907\n",
      "Epoch 128/800\n",
      "173/173 [==============================] - 1s 3ms/step - loss: 0.1681 - acc: 0.9480 - val_loss: 0.5654 - val_acc: 0.7674\n",
      "Epoch 129/800\n",
      "173/173 [==============================] - 1s 3ms/step - loss: 0.1996 - acc: 0.9249 - val_loss: 0.4852 - val_acc: 0.7674\n",
      "Epoch 130/800\n",
      "173/173 [==============================] - 1s 3ms/step - loss: 0.2282 - acc: 0.9191 - val_loss: 0.2769 - val_acc: 0.8140\n",
      "Epoch 131/800\n",
      "173/173 [==============================] - 1s 4ms/step - loss: 0.2865 - acc: 0.8844 - val_loss: 0.5125 - val_acc: 0.7442\n",
      "Epoch 132/800\n",
      "173/173 [==============================] - 1s 4ms/step - loss: 0.2574 - acc: 0.9075 - val_loss: 0.4677 - val_acc: 0.7907\n",
      "Epoch 00132: early stopping\n"
     ]
    },
    {
     "data": {
      "image/png": "[encoded data removed]",
      "text/plain": [
       "<Figure size 432x288 with 1 Axes>"
      ]
     },
     "metadata": {
      "needs_background": "light"
     },
     "output_type": "display_data"
    }
   ],
   "source": [
    "#sgd = SGD(lr=0.001, nesterov=True, decay=1e-6, momentum=0.9) #\n",
    "adam = Adam(lr=0.001)\n",
    "nb_epoch = 800\n",
    "\n",
    "model.compile(loss='binary_crossentropy',optimizer=adam,metrics=['acc'])\n",
    "\n",
    "earlystop = EarlyStopping(monitor='val_acc', min_delta=0.01, patience=30, \n",
    "                          verbose=1, mode='auto')\n",
    "\n",
    "callback_list = [earlystop]\n",
    "\n",
    "hist = model.fit(X_train_sm, y_train_lb, epochs=nb_epoch,callbacks=callback_list,\n",
    "                 validation_data=(X_test_sm, y_test_lb), \n",
    "                 batch_size=32, verbose=1)\n",
    "\n",
    "# Plot training & validation accuracy values\n",
    "plt.plot(hist.history['acc'],'-bo')\n",
    "plt.plot(hist.history['val_acc'],'-ro')\n",
    "plt.title('Model accuracy - CNN (smoothed spectra)')\n",
    "plt.ylabel('Accuracy')\n",
    "plt.xlabel('Epoch')\n",
    "plt.legend(['Train', 'Test'], loc='upper left')\n",
    "plt.show()"
   ]
  },
  {
   "cell_type": "code",
   "execution_count": 58,
   "metadata": {},
   "outputs": [
    {
     "data": {
      "image/png": "[encoded data removed]",
      "text/plain": [
       "<Figure size 432x288 with 1 Axes>"
      ]
     },
     "metadata": {
      "needs_background": "light"
     },
     "output_type": "display_data"
    }
   ],
   "source": [
    "# Plot training & validation loss values\n",
    "plt.plot(hist.history['loss'])\n",
    "plt.plot(hist.history['val_loss'])\n",
    "plt.title('Model loss - CNN (smoothed spectra)')\n",
    "plt.ylabel('Loss')\n",
    "plt.xlabel('Epoch')\n",
    "plt.legend(['Train', 'Test'], loc='upper left')\n",
    "plt.show()"
   ]
  },
  {
   "cell_type": "code",
   "execution_count": 63,
   "metadata": {},
   "outputs": [
    {
     "name": "stdout",
     "output_type": "stream",
     "text": [
      "              precision    recall  f1-score   support\n",
      "\n",
      "        ACLT       0.75      0.86      0.80        21\n",
      "       CNTRL       0.84      0.73      0.78        22\n",
      "\n",
      "   micro avg       0.79      0.79      0.79        43\n",
      "   macro avg       0.80      0.79      0.79        43\n",
      "weighted avg       0.80      0.79      0.79        43\n",
      "\n",
      "Confusion matrix, without normalization\n",
      "[[18  3]\n",
      " [ 6 16]]\n"
     ]
    },
    {
     "data": {
      "image/png": "[encoded data removed]",
      "text/plain": [
       "<Figure size 432x288 with 2 Axes>"
      ]
     },
     "metadata": {
      "needs_background": "light"
     },
     "output_type": "display_data"
    }
   ],
   "source": [
    "prediction = []\n",
    "for x in range(len(X_test_sm)):\n",
    "    probs = model.predict(X_test_sm)[x]\n",
    "    prediction.append(probs.argmax(axis=0))\n",
    "\n",
    "#print('Probabilities:',probs)\n",
    "#print('Prediction:',prediction)\n",
    "#prediction\n",
    "\n",
    "# evaluate model on test set\n",
    "classes = ['ACLT', 'CNTRL']\n",
    "y_true, y_pred = y_test_label, prediction\n",
    "print(classification_report(y_true, y_pred,target_names = classes))\n",
    "    \n",
    "cm = confusion_matrix(y_true, y_pred)\n",
    "plt.figure()\n",
    "plot_confusion_matrix(cm, classes=classes,# normalize=True\n",
    "                      title='CM of 1D-CNN (smoothed spectra)')\n",
    "plt.show()"
   ]
  },
  {
   "cell_type": "markdown",
   "metadata": {},
   "source": [
    "## 2. Random Forest Classification"
   ]
  },
  {
   "cell_type": "code",
   "execution_count": null,
   "metadata": {},
   "outputs": [],
   "source": [
    "# Utility function to report best scores\n",
    "def report(results, n_top=3):\n",
    "    for i in range(1, n_top + 1):\n",
    "        candidates = np.flatnonzero(results['rank_test_score'] == i)\n",
    "        for candidate in candidates:\n",
    "            print(\"Model with rank: {0}\".format(i))\n",
    "            print(\"Mean validation score: {0:.3f} (std: {1:.3f})\".format(\n",
    "                  results['mean_test_score'][candidate],\n",
    "                  results['std_test_score'][candidate]))\n",
    "            print(\"Parameters: {0}\".format(results['params'][candidate]))\n",
    "            print(\"\")"
   ]
  },
  {
   "cell_type": "code",
   "execution_count": null,
   "metadata": {},
   "outputs": [],
   "source": [
    "'''\n",
    "Random Forest Classification with GridSearch.\n",
    "Parameters will be set by GridSearch cross-validation (GridSearchCV)\n",
    "''' \n",
    "\n",
    "clf = RandomForestClassifier(n_estimators= 100, random_state=42)\n",
    "\n",
    "tuned_parameters = {\"max_depth\": [3, None],\n",
    "              \"max_features\": [1, 3, 10],\n",
    "              \"min_samples_split\": [2, 3, 10],\n",
    "              \"bootstrap\": [True, False],\n",
    "              \"criterion\": [\"gini\", \"entropy\"]}\n",
    "\n",
    "scores = ['precision', 'recall']\n",
    "classes = ['ACLT', 'CNTRL']\n",
    "\n",
    "# run grid search\n",
    "\n",
    "for score in scores:\n",
    "    print(\"# Tuning hyper-parameters for %s\" % score)\n",
    "    print()\n",
    "\n",
    "    gs_clf = GridSearchCV(clf, tuned_parameters, cv=5,scoring='%s_macro' % score)\n",
    "    start = time()\n",
    "    gs_clf.fit(X_train_sm, y_train)\n",
    "\n",
    "    print(\"Best parameters set found on development set:\")\n",
    "    print()\n",
    "    print(gs_clf.best_params_)\n",
    "    print()\n",
    "    print(\"Grid scores on development set:\")\n",
    "    print()\n",
    "    \n",
    "    means = gs_clf.cv_results_['mean_test_score']\n",
    "    stds = gs_clf.cv_results_['std_test_score']\n",
    "    \n",
    "    for mean, std, params in zip(means, stds, gs_clf.cv_results_['params']):\n",
    "        print(\"%0.3f (+/-%0.03f) for %r\"\n",
    "              % (mean, std * 2, params))\n",
    "    print()\n",
    "\n",
    "    print(\"Detailed classification report:\")\n",
    "    print()\n",
    "    print(\"The model is trained on the full development set.\")\n",
    "    print(\"The scores are computed on the full evaluation set.\")\n",
    "    print()\n",
    "    \n",
    "    print(\"GridSearchCV took %.2f seconds for %d candidate parameter settings.\"\n",
    "      % (time() - start, len(gs_clf.cv_results_['params'])))\n",
    "    report(gs_clf.cv_results_)\n",
    "    \n",
    "    # evaluate model on same training set\n",
    "    y_true, y_pred = y_train, gs_clf.predict(X_train_sm)\n",
    "    print(classification_report(y_true, y_pred,target_names = classes))\n",
    "    \n",
    "    cm = confusion_matrix(y_true, y_pred)\n",
    "    plt.figure()\n",
    "    plot_confusion_matrix(cm, classes=classes,# normalize=True\n",
    "                          title='CM of model estimation on training data')\n",
    "    plt.show()\n",
    "    print()"
   ]
  },
  {
   "cell_type": "code",
   "execution_count": null,
   "metadata": {},
   "outputs": [],
   "source": [
    "y_true, y_pred = y_test, gs_clf.predict(X_test_sm)\n",
    "\n",
    "print(classification_report(y_true, y_pred,target_names = classes))\n",
    "    \n",
    "cm = confusion_matrix(y_true, y_pred)\n",
    "plt.figure()\n",
    "plot_confusion_matrix(cm, classes=classes,# normalize=True\n",
    "                      title='CM of model estimation on test data')\n",
    "plt.show()\n",
    "print()"
   ]
  },
  {
   "cell_type": "code",
   "execution_count": null,
   "metadata": {},
   "outputs": [],
   "source": [
    "y_test"
   ]
  },
  {
   "cell_type": "code",
   "execution_count": null,
   "metadata": {},
   "outputs": [],
   "source": [
    "y_pred"
   ]
  },
  {
   "cell_type": "code",
   "execution_count": null,
   "metadata": {},
   "outputs": [],
   "source": [
    "'''\n",
    "Random Forest Classification with GridSearch on latent variables based on \n",
    "PCA score with standardization.\n",
    "Parameters will be set by GridSearch cross-validation (GridSearchCV)\n",
    "''' \n",
    "\n",
    "clf = RandomForestClassifier(n_estimators= 100, random_state=42)\n",
    "\n",
    "tuned_parameters = {\"max_depth\": [3, None],\n",
    "              \"max_features\": [1, 3, 8],\n",
    "              \"min_samples_split\": [2, 3, 10],\n",
    "              \"bootstrap\": [True, False],\n",
    "              \"criterion\": [\"gini\", \"entropy\"]}\n",
    "\n",
    "scores = ['precision', 'recall']\n",
    "classes = ['ACLT', 'CNTRL']\n",
    "\n",
    "# run grid search\n",
    "\n",
    "for score in scores:\n",
    "    print(\"# Tuning hyper-parameters for %s\" % score)\n",
    "    print()\n",
    "\n",
    "    gs_clf = GridSearchCV(clf, tuned_parameters, cv=5,scoring='%s_macro' % score)\n",
    "    start = time()\n",
    "    gs_clf.fit(X_train_sm_sc, y_train)\n",
    "\n",
    "    print(\"Best parameters set found on development set:\")\n",
    "    print()\n",
    "    print(gs_clf.best_params_)\n",
    "    print()\n",
    "    print(\"Grid scores on development set:\")\n",
    "    print()\n",
    "    \n",
    "    means = gs_clf.cv_results_['mean_test_score']\n",
    "    stds = gs_clf.cv_results_['std_test_score']\n",
    "    \n",
    "    for mean, std, params in zip(means, stds, gs_clf.cv_results_['params']):\n",
    "        print(\"%0.3f (+/-%0.03f) for %r\"\n",
    "              % (mean, std * 2, params))\n",
    "    print()\n",
    "\n",
    "    print(\"Detailed classification report:\")\n",
    "    print()\n",
    "    print(\"The model is trained on the full development set.\")\n",
    "    print(\"The scores are computed on the full evaluation set.\")\n",
    "    print()\n",
    "    \n",
    "    print(\"GridSearchCV took %.2f seconds for %d candidate parameter settings.\"\n",
    "      % (time() - start, len(gs_clf.cv_results_['params'])))\n",
    "    report(gs_clf.cv_results_)\n",
    "    \n",
    "    # evaluate model on same training set\n",
    "    y_true, y_pred = y_train, gs_clf.predict(X_train_sm_sc)\n",
    "    print(classification_report(y_true, y_pred,target_names = classes))\n",
    "    \n",
    "    cm = confusion_matrix(y_true, y_pred)\n",
    "    plt.figure()\n",
    "    plot_confusion_matrix(cm, classes=classes,# normalize=True\n",
    "                          title='CM of model estimation on training data')\n",
    "    plt.show()\n",
    "    print()"
   ]
  },
  {
   "cell_type": "code",
   "execution_count": null,
   "metadata": {},
   "outputs": [],
   "source": [
    "y_true, y_pred = y_test, gs_clf.predict(X_test_sm_sc)\n",
    "\n",
    "print(classification_report(y_true, y_pred,target_names = classes))\n",
    "    \n",
    "cm = confusion_matrix(y_true, y_pred)\n",
    "plt.figure()\n",
    "plot_confusion_matrix(cm, classes=classes,# normalize=True\n",
    "                      title='CM of model estimation on test data')\n",
    "plt.show()\n",
    "print()"
   ]
  },
  {
   "cell_type": "code",
   "execution_count": null,
   "metadata": {},
   "outputs": [],
   "source": [
    "clf_best = RandomForestClassifier(n_estimators = 100, \n",
    "                                  bootstrap = False, \n",
    "                                  criterion = 'gini', \n",
    "                                  max_depth = None, \n",
    "                                  max_features = 1, \n",
    "                                  min_samples_split = 3,\n",
    "                                  random_state = 42)\n",
    "\n",
    "clf_best.fit(X_train_sm_sc,y_train)\n",
    "\n",
    "importances = list(clf_best.feature_importances_)"
   ]
  },
  {
   "cell_type": "code",
   "execution_count": null,
   "metadata": {},
   "outputs": [],
   "source": [
    "print(importances)"
   ]
  },
  {
   "cell_type": "markdown",
   "metadata": {},
   "source": [
    "## 3. Neural Networks Classification"
   ]
  },
  {
   "cell_type": "code",
   "execution_count": null,
   "metadata": {},
   "outputs": [],
   "source": [
    "# Import necessary packages\n",
    "\n",
    "from keras.models import Sequential\n",
    "from keras.layers import Dense\n",
    "from sklearn.metrics import precision_score, recall_score, cohen_kappa_score"
   ]
  },
  {
   "cell_type": "code",
   "execution_count": null,
   "metadata": {},
   "outputs": [],
   "source": [
    "# Instantiate and fit scaler \n",
    "scaler = StandardScaler().fit(X_train_sm)\n",
    "\n",
    "# Scale the training set\n",
    "X_tr = scaler.transform(X_train_sm)\n",
    "\n",
    "# Scale the test set\n",
    "X_tt = scaler.transform(X_test_sm)"
   ]
  },
  {
   "cell_type": "code",
   "execution_count": null,
   "metadata": {},
   "outputs": [],
   "source": [
    "X_tr[1,]"
   ]
  },
  {
   "cell_type": "code",
   "execution_count": null,
   "metadata": {},
   "outputs": [],
   "source": [
    "X_test_sm[1,]"
   ]
  },
  {
   "cell_type": "code",
   "execution_count": null,
   "metadata": {},
   "outputs": [],
   "source": [
    "# Initialize the constructor\n",
    "model = Sequential()\n",
    "\n",
    "# Add an input layer \n",
    "model.add(Dense(12, activation='relu', input_shape=(140,)))\n",
    "\n",
    "# Add one hidden layer \n",
    "model.add(Dense(8, activation='relu'))\n",
    "\n",
    "# Add an output layer \n",
    "model.add(Dense(1, activation='sigmoid')) # activation='sigmoid'\n",
    "\n",
    "# Model summary\n",
    "model.summary()"
   ]
  },
  {
   "cell_type": "code",
   "execution_count": null,
   "metadata": {},
   "outputs": [],
   "source": [
    "# Model output shape\n",
    "model.output_shape\n",
    "\n",
    "# Model config\n",
    "model.get_config()\n",
    "\n",
    "print('________________________________________')\n",
    "\n",
    "# List all weight tensors \n",
    "model.get_weights()"
   ]
  },
  {
   "cell_type": "code",
   "execution_count": null,
   "metadata": {},
   "outputs": [],
   "source": [
    "# Compile and fit model\n",
    "\n",
    "model.compile(loss='binary_crossentropy',\n",
    "              optimizer='adam',\n",
    "              metrics=['accuracy'])\n",
    "                   \n",
    "model.fit(X_tr, y_train,\n",
    "          epochs=50, \n",
    "          batch_size=5, \n",
    "          verbose=1)"
   ]
  },
  {
   "cell_type": "code",
   "execution_count": null,
   "metadata": {},
   "outputs": [],
   "source": [
    "model.get_weights()"
   ]
  },
  {
   "cell_type": "code",
   "execution_count": null,
   "metadata": {},
   "outputs": [],
   "source": [
    "# Predict values of training set\n",
    "y_pred_tr = model.predict(X_tt)\n"
   ]
  },
  {
   "cell_type": "code",
   "execution_count": null,
   "metadata": {},
   "outputs": [],
   "source": [
    "y_pred_tr"
   ]
  },
  {
   "cell_type": "code",
   "execution_count": null,
   "metadata": {},
   "outputs": [],
   "source": [
    "# round up "
   ]
  },
  {
   "cell_type": "code",
   "execution_count": null,
   "metadata": {},
   "outputs": [],
   "source": [
    "# Evaluate model\n",
    "\n",
    "score = model.evaluate(X_tt, y_test,verbose=1)\n"
   ]
  }
 ],
 "metadata": {
  "kernelspec": {
   "display_name": "Python 3",
   "language": "python",
   "name": "python3"
  },
  "language_info": {
   "codemirror_mode": {
    "name": "ipython",
    "version": 3
   },
   "file_extension": ".py",
   "mimetype": "text/x-python",
   "name": "python",
   "nbconvert_exporter": "python",
   "pygments_lexer": "ipython3",
   "version": "3.6.6"
  }
 },
 "nbformat": 4,
 "nbformat_minor": 2
}
